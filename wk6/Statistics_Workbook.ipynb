{
  "nbformat": 4,
  "nbformat_minor": 5,
  "metadata": {
    "kernelspec": {
      "display_name": "Python 3",
      "language": "python",
      "name": "python3"
    },
    "language_info": {
      "codemirror_mode": {
        "name": "ipython",
        "version": 3
      },
      "file_extension": ".py",
      "mimetype": "text/x-python",
      "name": "python",
      "nbconvert_exporter": "python",
      "pygments_lexer": "ipython3",
      "version": "3.9.1"
    },
    "colab": {
      "name": "Statistics Workbook.ipynb",
      "provenance": [],
      "include_colab_link": true
    }
  },
  "cells": [
    {
      "cell_type": "markdown",
      "metadata": {
        "id": "view-in-github",
        "colab_type": "text"
      },
      "source": [
        "<a href=\"https://colab.research.google.com/github/amaniedu71/CISC367-h-w/blob/main/wk6/Statistics_Workbook.ipynb\" target=\"_parent\"><img src=\"https://colab.research.google.com/assets/colab-badge.svg\" alt=\"Open In Colab\"/></a>"
      ]
    },
    {
      "cell_type": "code",
      "metadata": {
        "id": "gorgeous-people"
      },
      "source": [
        "import random\n",
        "random.seed(0)\n",
        "import pandas as pd\n",
        "import numpy as np\n",
        "np.random.seed(0)\n",
        "from scipy import stats\n",
        "import seaborn as sns\n",
        "import matplotlib.pyplot as plt\n",
        "from IPython.display import YouTubeVideo"
      ],
      "id": "gorgeous-people",
      "execution_count": 1,
      "outputs": []
    },
    {
      "cell_type": "markdown",
      "metadata": {
        "id": "green-activity"
      },
      "source": [
        "# Super Statistics\n",
        "\n",
        "This lesson is designed to orient you to statistical thinking and give you practice with Python's statistics library (`scipy`).\n",
        "\n",
        "The assignment will be a mixture of reading informative pages, watching videos, and answering questions. Please do your best and seek help as needed!\n",
        "\n",
        "### Learning Goals\n",
        "\n",
        "By the end of the lesson, students should be able to:\n",
        "\n",
        "* Part 1\n",
        "    * Explain the concept of probability vs. statistics\n",
        "* Part 2\n",
        "    * Generate data using a distribution function from `scipy`\n",
        "* Part 3\n",
        "    * Given a dataset, generate and interpret appropriate summary statistics using `scipy`\n",
        "    * Classify data as continuous, categorical, or binary\n",
        "    * Differentiate between paired and unpaired data\n",
        "    * Apply logarithms to manipulate a distribution\n",
        "* Part 4\n",
        "    * Determine the distribution of a dataset using `scipy`\n",
        "    * Describe and justify the use of parameteric vs. non-parameteric statistics\n",
        "* Part 5\n",
        "    * Create and interpret a statistical hypothesis\n",
        "    * Given a dataset, perform and interpret correlation analysis using `scipy`\n",
        "    * Given a hypothesis and dataset, perform and interpret an appropriate statistical test using `scipy`\n",
        "    * Explain the concept of statistical significance\n",
        "* Part 6\n",
        "    * Describe and explain the purpose of effect sizes\n",
        "    * Calculate an effect size\n",
        "\n",
        "### Caveat\n",
        "\n",
        "I want to start by admitting that I am not as good at statistics as I am at Computer Science. I did distinctly *okay* in my undergraduate statistics class. I would even say that I didn't genuinely learn statistics until I got to graduate school, and had my own datasets. However, that was the turning point - I suddenly understood things so much better when I had a context I cared about. Context is key to learning - I believe statistics is very challenging for many folks because they don't see how it applies to things they are interested in.\n",
        "\n",
        "You might walk into this assignment with more statistics knowledge than me, or alternatively you might be a complete novice. Either way, I'd like to make sure everyone leaves the assignment better than they were. This will probably include me, Dr. Bart. If you identify mistakes or errors, don't be afraid to raise them up in the Discord or the Ohyay. I am only human, this assignment was created in a single day, and I don't have a huge background in statistics. Errors or even misconceptions are likely! I'd rather we all collaboratively improve, then have been right.\n",
        "\n",
        "# Part 1) Basic Statistics\n",
        "\n",
        "Watch the following video, and then answer the following questions below.\n",
        "\n",
        "<https://youtu.be/PufDBlSsqys>"
      ],
      "id": "green-activity"
    },
    {
      "cell_type": "markdown",
      "metadata": {
        "id": "powered-floating"
      },
      "source": [
        "#### Q1.1)\n",
        "What is the difference between probablity and statistics? Define both terms clearly, especially in terms of their different goals."
      ],
      "id": "powered-floating"
    },
    {
      "cell_type": "markdown",
      "metadata": {
        "id": "cheap-terminal"
      },
      "source": [
        "Probability is a theoretical field while statistics has to do with gathering and analysing experimental data. \n",
        "Probability models can predict models in the real world data but it is never guaranteed. \n",
        "Statistics on the other hand can generate new probability models but this is usually harder. "
      ],
      "id": "cheap-terminal"
    },
    {
      "cell_type": "markdown",
      "metadata": {
        "id": "searching-rachel"
      },
      "source": [
        "# Part 2) Distributions\n",
        "\n",
        "#### Q2.1)\n",
        "\n",
        "In statistics, what is a \"Random Variable\"? How is it different from an Algebraic Variable or a Computer Science Variable?"
      ],
      "id": "searching-rachel"
    },
    {
      "cell_type": "markdown",
      "metadata": {
        "id": "twenty-finland"
      },
      "source": [
        "An algebraic variable is usually found in an equation and is solved for a set of values in the solution space. This differs from a random variable which is based on a chance event that can take on any value and still be perfectly valid. \n",
        "\n",
        "A computer science variable is an abstraction of actual bits that are stored on a computer. It can hold a wide variety of \"types\" which is usually determined by program state. The value of the variable is usually deterministic which is not the case for a random variable. Of course, in a program, a computer science variable can be used to represent a random variable. \n",
        "\n",
        "A random variable is a quantitative variable that is dependent on a random event. It can be discrete or continuous depending on the event that is being modelled. "
      ],
      "id": "twenty-finland"
    },
    {
      "cell_type": "markdown",
      "metadata": {
        "id": "environmental-alias"
      },
      "source": [
        "#### Q2.2)\n",
        "In statistics, what is a \"Probability Distribution\"?"
      ],
      "id": "environmental-alias"
    },
    {
      "cell_type": "markdown",
      "metadata": {
        "id": "deadly-smooth"
      },
      "source": [
        "A probability distribution is a statistical function that describes all the possible values and respective likelihoods that a random variable can take. "
      ],
      "id": "deadly-smooth"
    },
    {
      "cell_type": "markdown",
      "metadata": {
        "id": "pending-spirituality"
      },
      "source": [
        "#### Q2.3)\n",
        "\n",
        "In Discrete Math, what is a \"Function\"?"
      ],
      "id": "pending-spirituality"
    },
    {
      "cell_type": "markdown",
      "metadata": {
        "id": "uniform-budget"
      },
      "source": [
        "A function is a relationship that maps all values within a given set to values in another set known as the range"
      ],
      "id": "uniform-budget"
    },
    {
      "cell_type": "markdown",
      "metadata": {
        "id": "spectacular-restoration"
      },
      "source": [
        "#### Q2.4)\n",
        "\n",
        "What is the relationship between a random variable and the concept of a \"nullary function\" like the following?"
      ],
      "id": "spectacular-restoration"
    },
    {
      "cell_type": "code",
      "metadata": {
        "id": "vital-public",
        "colab": {
          "base_uri": "https://localhost:8080/"
        },
        "outputId": "89ad1e90-f108-40fb-a3d4-ca40f0c6ef90"
      },
      "source": [
        "def X(): return random.randint(0, 10)\n",
        "\n",
        "[X() for i in range(10)]"
      ],
      "id": "vital-public",
      "execution_count": 2,
      "outputs": [
        {
          "output_type": "execute_result",
          "data": {
            "text/plain": [
              "[6, 6, 0, 4, 8, 7, 6, 4, 7, 5]"
            ]
          },
          "metadata": {
            "tags": []
          },
          "execution_count": 2
        }
      ]
    },
    {
      "cell_type": "markdown",
      "metadata": {
        "id": "geological-arbor"
      },
      "source": [
        "A nullary function is defined as a function that does not take any argument. This is similar to a random variable as it can be described as a function which returns the outcome of a random variable, and does not take any arguments. "
      ],
      "id": "geological-arbor"
    },
    {
      "cell_type": "markdown",
      "metadata": {
        "id": "emotional-brown"
      },
      "source": [
        "#### Q2.5) \n",
        "What is the relationship between a distribution and a function?"
      ],
      "id": "emotional-brown"
    },
    {
      "cell_type": "markdown",
      "metadata": {
        "id": "subsequent-collection"
      },
      "source": [
        "A distribution can be thought of as a function which maps outcomes of a random variable to the probability of that outcome occuring. This can be either discrete or continuous values. "
      ],
      "id": "subsequent-collection"
    },
    {
      "cell_type": "markdown",
      "metadata": {
        "id": "czech-aaron"
      },
      "source": [
        "Watch the following video about different probability distributions:\n",
        "\n",
        "<https://youtu.be/b9a27XN_6tg>"
      ],
      "id": "czech-aaron"
    },
    {
      "cell_type": "markdown",
      "metadata": {
        "id": "rolled-portable"
      },
      "source": [
        "#### Q2.6)\n",
        "\n",
        "For each of the following probability distributions:\n",
        "\n",
        "1. Provide the name of the distribution\n",
        "2. Identify it as continuous, discrete, or both\n",
        "3. Provide a brief description of the distribution and what it is used for\n",
        "4. Find an example from the real world where this distribution occurs (not one presented in the video)\n",
        "5. Provide a link to the appropriate `scipy.stats` function\n",
        "6. Use the `scipy` module's distribution functions to create an visual example"
      ],
      "id": "rolled-portable"
    },
    {
      "cell_type": "markdown",
      "metadata": {
        "id": "joined-anderson"
      },
      "source": [
        "##### Uniform Distribution\n",
        "\n",
        "* Description: A random variable where all of outcomes are equally likely.\n",
        "* Kind: Can be both continuous or discrete\n",
        "* Example: Rolling a fair, six-sided die.\n",
        "* Link: [Continous](https://docs.scipy.org/doc/scipy/reference/generated/scipy.stats.uniform.html#scipy.stats.uniform), [Discrete](https://docs.scipy.org/doc/scipy/reference/generated/scipy.stats.randint.html)\n"
      ],
      "id": "joined-anderson"
    },
    {
      "cell_type": "code",
      "metadata": {
        "id": "modified-leonard",
        "colab": {
          "base_uri": "https://localhost:8080/",
          "height": 281
        },
        "outputId": "64bf4dda-a561-44d8-b9d8-7384a6dad00f"
      },
      "source": [
        "random_variables = stats.uniform.rvs(size=10000)\n",
        "plt.hist(random_variables)\n",
        "plt.title(\"Randomly Generated Uniform Distribution\")\n",
        "plt.show()"
      ],
      "id": "modified-leonard",
      "execution_count": 3,
      "outputs": [
        {
          "output_type": "display_data",
          "data": {
            "image/png": "[encoded data removed]",
            "text/plain": [
              "<Figure size 432x288 with 1 Axes>"
            ]
          },
          "metadata": {
            "tags": [],
            "needs_background": "light"
          }
        }
      ]
    },
    {
      "cell_type": "markdown",
      "metadata": {
        "id": "focused-upgrade"
      },
      "source": [
        "##### Bernouli Distribution\n",
        "\n",
        "* Description: A distribution which has two possible outcomes, 'success' and 'failure.'\n",
        "* Kind: Discrete\n",
        "* Example: Passing or failing an exam, whether a die will be rolled a 6 or not\n",
        "* Link: [discrete](https://docs.scipy.org/doc/scipy/reference/generated/scipy.stats.bernoulli.html)\n"
      ],
      "id": "focused-upgrade"
    },
    {
      "cell_type": "markdown",
      "metadata": {
        "id": "employed-biology"
      },
      "source": [
        ""
      ],
      "id": "employed-biology"
    },
    {
      "cell_type": "code",
      "metadata": {
        "colab": {
          "base_uri": "https://localhost:8080/",
          "height": 281
        },
        "id": "similar-proof",
        "outputId": "1deeed79-8a99-41f3-a91a-9618e68aac49"
      },
      "source": [
        "p = random.randint(0, 10)/10\n",
        "random_variables = stats.bernoulli.rvs(size=10000, p=p)\n",
        "plt.hist(random_variables)\n",
        "plt.title(\"Randomly Generated Bernoulli Distribution\")\n",
        "plt.show()"
      ],
      "id": "similar-proof",
      "execution_count": 4,
      "outputs": [
        {
          "output_type": "display_data",
          "data": {
            "image/png": "[encoded data removed]",
            "text/plain": [
              "<Figure size 432x288 with 1 Axes>"
            ]
          },
          "metadata": {
            "tags": [],
            "needs_background": "light"
          }
        }
      ]
    },
    {
      "cell_type": "markdown",
      "metadata": {
        "id": "adverse-maximum"
      },
      "source": [
        "##### Binomial Distribution\n",
        "\n",
        "* Description: It is a distribution which is the sum of independent and identically distributed Bernoulli random variables.\n",
        "* Kind: discrete\n",
        "* Example: Flipping a coin n times. \n",
        "* Link: [Discrete](https://docs.scipy.org/doc/scipy/reference/generated/scipy.stats.binom.html)\n"
      ],
      "id": "adverse-maximum"
    },
    {
      "cell_type": "markdown",
      "metadata": {
        "id": "exempt-connectivity"
      },
      "source": [
        ""
      ],
      "id": "exempt-connectivity"
    },
    {
      "cell_type": "code",
      "metadata": {
        "id": "international-eclipse",
        "colab": {
          "base_uri": "https://localhost:8080/",
          "height": 281
        },
        "outputId": "a87ce8b4-a721-45b0-9d75-2c39b0931323"
      },
      "source": [
        "p = random.randint(0, 10)/10\n",
        "n = random.randint(0, 100)\n",
        "random_variables = stats.binom.rvs(size=10000, p=p, n = n)\n",
        "plt.hist(random_variables)\n",
        "plt.title(\"Randomly Generated Binomial Distribution\")\n",
        "plt.show()"
      ],
      "id": "international-eclipse",
      "execution_count": 5,
      "outputs": [
        {
          "output_type": "display_data",
          "data": {
            "image/png": "[encoded data removed]",
            "text/plain": [
              "<Figure size 432x288 with 1 Axes>"
            ]
          },
          "metadata": {
            "tags": [],
            "needs_background": "light"
          }
        }
      ]
    },
    {
      "cell_type": "markdown",
      "metadata": {
        "id": "middle-story"
      },
      "source": [
        "##### Poisson Distribution\n",
        "\n",
        "* Description: A distribution that models the probability that an independent random event occurs in a given length of time\n",
        "* Kind: Discrete\n",
        "* Example: Number of cars seen in a given period of day\n",
        "* Link: [discrete](https://docs.scipy.org/doc/scipy/reference/generated/scipy.stats.poisson.html)\n"
      ],
      "id": "middle-story"
    },
    {
      "cell_type": "markdown",
      "metadata": {
        "id": "indie-germany"
      },
      "source": [
        ""
      ],
      "id": "indie-germany"
    },
    {
      "cell_type": "code",
      "metadata": {
        "id": "regional-talent",
        "colab": {
          "base_uri": "https://localhost:8080/",
          "height": 281
        },
        "outputId": "6c017525-0b13-4794-d6c4-a570bd8e5ce0"
      },
      "source": [
        "p = random.randint(0, 10)/10\n",
        "mu = random.randint(0, 100)\n",
        "random_variables = stats.poisson.rvs(size=10000, mu = mu)\n",
        "plt.hist(random_variables)\n",
        "plt.title(\"Randomly Generated Poisson Distribution\")\n",
        "plt.show()"
      ],
      "id": "regional-talent",
      "execution_count": 6,
      "outputs": [
        {
          "output_type": "display_data",
          "data": {
            "image/png": "[encoded data removed]",
            "text/plain": [
              "<Figure size 432x288 with 1 Axes>"
            ]
          },
          "metadata": {
            "tags": [],
            "needs_background": "light"
          }
        }
      ]
    },
    {
      "cell_type": "markdown",
      "metadata": {
        "id": "disturbed-magnitude"
      },
      "source": [
        "##### Normal Distribution\n",
        "\n",
        "* Description: A distribution that is commonly found naturally occuring. It is symmetric about its mean, mode and median. It's width or spread is determined by the parameter 'alpha squared' of the variance. It is often used in the natural and social sciences to represent real-valued random variables whose distributions are not known\n",
        "* Kind: Continous\n",
        "* Example: Average height of people in a certain age group\n",
        "* Link: [continuous](https://docs.scipy.org/doc/scipy/reference/generated/scipy.stats.norm.html)\n",
        "\n",
        "\n"
      ],
      "id": "disturbed-magnitude"
    },
    {
      "cell_type": "markdown",
      "metadata": {
        "id": "personalized-niger"
      },
      "source": [
        ""
      ],
      "id": "personalized-niger"
    },
    {
      "cell_type": "code",
      "metadata": {
        "id": "north-basics",
        "colab": {
          "base_uri": "https://localhost:8080/",
          "height": 281
        },
        "outputId": "31e43538-84c5-4811-8cd1-36633de95286"
      },
      "source": [
        "random_variables = stats.norm.rvs(size=10000)\n",
        "plt.hist(random_variables)\n",
        "plt.title(\"Randomly Generated Normal Distribution\")\n",
        "plt.show()"
      ],
      "id": "north-basics",
      "execution_count": 7,
      "outputs": [
        {
          "output_type": "display_data",
          "data": {
            "image/png": "[encoded data removed]",
            "text/plain": [
              "<Figure size 432x288 with 1 Axes>"
            ]
          },
          "metadata": {
            "tags": [],
            "needs_background": "light"
          }
        }
      ]
    },
    {
      "cell_type": "markdown",
      "metadata": {
        "id": "solar-cleaner"
      },
      "source": [
        "##### Student's T Distribution\n",
        "\n",
        "* Description: A probability distribution that is used to estimate population parameters when the sample size is small or when the population variance is unknown\n",
        "* Kind: Continous\n",
        "* Example: A sample of different ages of students at a school. \n",
        "* Link: [continuous](https://docs.scipy.org/doc/scipy/reference/generated/scipy.stats.t.html)\n",
        "\n",
        "\n"
      ],
      "id": "solar-cleaner"
    },
    {
      "cell_type": "markdown",
      "metadata": {
        "id": "damaged-priority"
      },
      "source": [
        ""
      ],
      "id": "damaged-priority"
    },
    {
      "cell_type": "code",
      "metadata": {
        "id": "beneficial-spanish",
        "colab": {
          "base_uri": "https://localhost:8080/",
          "height": 281
        },
        "outputId": "14e7eab2-95ef-4075-fb3e-cf4a9b222af9"
      },
      "source": [
        "df = random.randint(0, 1000)\n",
        "random_variables = stats.t.rvs(size=10000, df = df)\n",
        "plt.hist(random_variables)\n",
        "plt.title(\"Randomly Generated Student's T Distribution\")\n",
        "plt.show()"
      ],
      "id": "beneficial-spanish",
      "execution_count": 8,
      "outputs": [
        {
          "output_type": "display_data",
          "data": {
            "image/png": "[encoded data removed]",
            "text/plain": [
              "<Figure size 432x288 with 1 Axes>"
            ]
          },
          "metadata": {
            "tags": [],
            "needs_background": "light"
          }
        }
      ]
    },
    {
      "cell_type": "markdown",
      "metadata": {
        "id": "sharing-teach"
      },
      "source": [
        "##### Chi-Squared Distribution\n",
        "\n",
        "* Description: if z1, z2, ..., zk are independent standard normal random variables, then the sum of their squares has a Chi-squared distribution. \n",
        "* Kind: Continous\n",
        "* Example: It is mostly used to test how well a random variable fits a given distribution such as a random variable representing the average population density of counties in Maryland. \n",
        "* Link: [continuous](https://docs.scipy.org/doc/scipy/reference/generated/scipy.stats.chi.html)\n",
        "\n",
        "\n"
      ],
      "id": "sharing-teach"
    },
    {
      "cell_type": "markdown",
      "metadata": {
        "id": "balanced-discrimination"
      },
      "source": [
        ""
      ],
      "id": "balanced-discrimination"
    },
    {
      "cell_type": "code",
      "metadata": {
        "id": "architectural-switzerland",
        "colab": {
          "base_uri": "https://localhost:8080/",
          "height": 281
        },
        "outputId": "626eb094-eace-449f-b3df-dd9b542f9ed6"
      },
      "source": [
        "df = random.randint(0, 1000)\n",
        "random_variables = stats.chi.rvs(size=1000, df = df) \n",
        "plt.hist(random_variables)\n",
        "plt.title(\"Randomly Generated Chi-Squared Distribution\")\n",
        "plt.show()"
      ],
      "id": "architectural-switzerland",
      "execution_count": 9,
      "outputs": [
        {
          "output_type": "display_data",
          "data": {
            "image/png": "[encoded data removed]",
            "text/plain": [
              "<Figure size 432x288 with 1 Axes>"
            ]
          },
          "metadata": {
            "tags": [],
            "needs_background": "light"
          }
        }
      ]
    },
    {
      "cell_type": "markdown",
      "metadata": {
        "id": "affected-teddy"
      },
      "source": [
        "##### Exponential Distribution\n",
        "\n",
        "* Description: A distribution that models a random variable that is exponential in the way its values are produced. \n",
        "* Kind: Continous\n",
        "* Example: The amount of time a car battery lasts \n",
        "* Link: [continuous](https://docs.scipy.org/doc/scipy/reference/generated/scipy.stats.expon.html)\n",
        "\n",
        "\n"
      ],
      "id": "affected-teddy"
    },
    {
      "cell_type": "markdown",
      "metadata": {
        "id": "retained-probe"
      },
      "source": [
        ""
      ],
      "id": "retained-probe"
    },
    {
      "cell_type": "code",
      "metadata": {
        "id": "frequent-bulgarian",
        "colab": {
          "base_uri": "https://localhost:8080/",
          "height": 281
        },
        "outputId": "33fbdb60-4baa-44a9-c4af-7186acd0574e"
      },
      "source": [
        "random_variables = stats.expon.rvs(size=10000)\n",
        "plt.hist(random_variables)\n",
        "plt.title(\"Randomly Generated Exponential Distribution\")\n",
        "plt.show()"
      ],
      "id": "frequent-bulgarian",
      "execution_count": 10,
      "outputs": [
        {
          "output_type": "display_data",
          "data": {
            "image/png": "[encoded data removed]",
            "text/plain": [
              "<Figure size 432x288 with 1 Axes>"
            ]
          },
          "metadata": {
            "tags": [],
            "needs_background": "light"
          }
        }
      ]
    },
    {
      "cell_type": "markdown",
      "metadata": {
        "id": "lovely-helena"
      },
      "source": [
        "##### Logistic Distribution\n",
        "\n",
        "* Description: A logistic distribution that is commonly used for its CDF in linear regression. It's PDF is used to model normal distribution as it has a similar shape with heavier tails. \n",
        "* Kind: Continous\n",
        "* Example: Skill level of chess players\n",
        "* Link: [continuous](https://docs.scipy.org/doc/scipy/reference/generated/scipy.stats.logistic.html)\n",
        "\n",
        "\n"
      ],
      "id": "lovely-helena"
    },
    {
      "cell_type": "markdown",
      "metadata": {
        "id": "standard-surfing"
      },
      "source": [
        ""
      ],
      "id": "standard-surfing"
    },
    {
      "cell_type": "code",
      "metadata": {
        "id": "weekly-channels",
        "colab": {
          "base_uri": "https://localhost:8080/",
          "height": 281
        },
        "outputId": "d0dfc116-e1a1-4e94-9416-c7f64fb49865"
      },
      "source": [
        "random_variables = stats.logistic.rvs(size=10000)\n",
        "plt.hist(random_variables)\n",
        "plt.title(\"Randomly Generated Logistic Distribution\")\n",
        "plt.show()"
      ],
      "id": "weekly-channels",
      "execution_count": 11,
      "outputs": [
        {
          "output_type": "display_data",
          "data": {
            "image/png": "[encoded data removed]",
            "text/plain": [
              "<Figure size 432x288 with 1 Axes>"
            ]
          },
          "metadata": {
            "tags": [],
            "needs_background": "light"
          }
        }
      ]
    },
    {
      "cell_type": "markdown",
      "metadata": {
        "id": "neutral-helen"
      },
      "source": [
        "# Part 3) Summary Stats\n",
        "\n",
        "For this section, you will need to use Google and ask questions."
      ],
      "id": "neutral-helen"
    },
    {
      "cell_type": "markdown",
      "metadata": {
        "id": "motivated-blink"
      },
      "source": [
        "#### Q3.1)\n",
        "When should you use mean vs. median?\n",
        "\n",
        "The mean is valuable as it takes into account all the data when coming up with central tendency. However, if a data distribution is severely assymetrical, the mean will be skewed and in this case the median will be preferred as it is not affected by outliers. \n",
        "\n",
        "Mean is preferred but not always optimal at describing data like: \n",
        "* Grades scored in a class\n",
        "* Speeds of vehicles \n",
        "\n",
        "While median can be used with data like: \n",
        "* A consumer who wants to pick a house with a price that is not too high and not too low. \n",
        "* Data with several outliers. "
      ],
      "id": "motivated-blink"
    },
    {
      "cell_type": "markdown",
      "metadata": {
        "id": "legislative-distance"
      },
      "source": [
        ""
      ],
      "id": "legislative-distance"
    },
    {
      "cell_type": "markdown",
      "metadata": {
        "id": "shaped-arbor"
      },
      "source": [
        "#### Q3.2)\n",
        "What is the standard deviation and variance?\n",
        "\n",
        "The variance is the average of the sum of the squared differences between data and its mean. The reason we square is to ensure the difference is positive. \n",
        "\n",
        "The standard deviation is the squareroot of the variance. It is useful to get the \"error\" in the same units of the data. "
      ],
      "id": "shaped-arbor"
    },
    {
      "cell_type": "markdown",
      "metadata": {
        "id": "distributed-colombia"
      },
      "source": [
        ""
      ],
      "id": "distributed-colombia"
    },
    {
      "cell_type": "markdown",
      "metadata": {
        "id": "insured-biodiversity"
      },
      "source": [
        "#### Q3.3)\n",
        "\n",
        "Describe the tradeoffs between providing the standard deviation/variance vs. the 5-number summary. \n",
        "\n",
        "Using the 5-number summary you are able to tell the range, median, interquartile range of the data. This can give you the spread of the data as well as the central tendency given by the IQR and median respectively. you can also see outliers.\n",
        "However, the mean and the standard deviation are calculated from all data values and they offer similar insight into central tendency and spread but they do so while taking all the data into account. They are, however, sensitive to skewed data with outliers. "
      ],
      "id": "insured-biodiversity"
    },
    {
      "cell_type": "markdown",
      "metadata": {
        "id": "downtown-sphere"
      },
      "source": [
        ""
      ],
      "id": "downtown-sphere"
    },
    {
      "cell_type": "markdown",
      "metadata": {
        "id": "painful-immigration"
      },
      "source": [
        "#### Q3.4)\n",
        "\n",
        "What is skew? Can a skewed dataset still be normally distributed?\n",
        "\n",
        "A skew occurs when the distribution of the data is assymetrical and a large percentage of the data is above or below the median and usually occurs when there are outliers in the data. A distribution can be positively or negatively skewed. "
      ],
      "id": "painful-immigration"
    },
    {
      "cell_type": "markdown",
      "metadata": {
        "id": "binding-checkout"
      },
      "source": [
        ""
      ],
      "id": "binding-checkout"
    },
    {
      "cell_type": "markdown",
      "metadata": {
        "id": "successful-maker"
      },
      "source": [
        "#### Q3.5)\n",
        "What is a frequency table? How is it useful for describing data?\n",
        "\n",
        "A frequency table is a table which includes all unique outcomes of the random varaible in the key and the specific number of occurences of that value in the column. It is a compact represetantion of data which can be used to calculate range, mean and median. It however obsucures outliers and is not easy to visualize skew. "
      ],
      "id": "successful-maker"
    },
    {
      "cell_type": "code",
      "metadata": {
        "id": "optimum-premiere"
      },
      "source": [
        ""
      ],
      "id": "optimum-premiere",
      "execution_count": 11,
      "outputs": []
    },
    {
      "cell_type": "markdown",
      "metadata": {
        "id": "compact-harmony"
      },
      "source": [
        "#### Q3.6)\n",
        "\n",
        "Observe the data shown below and classify each column shown below as either: nominal, binary, ordinal, or quantitative."
      ],
      "id": "compact-harmony"
    },
    {
      "cell_type": "code",
      "metadata": {
        "id": "choice-scanner",
        "colab": {
          "base_uri": "https://localhost:8080/",
          "height": 204
        },
        "outputId": "7e4f1aac-c28e-441c-8956-6bdedf256f22"
      },
      "source": [
        "skyscrapers_full = pd.read_csv(\"https://corgis-edu.github.io/corgis/datasets/csv/skyscrapers/skyscrapers.csv\")\n",
        "# You can ignore how we calculate the fields, though it might help you understand it better\n",
        "skyscrapers_full['tall?'] = skyscrapers_full['statistics.height'] > 100\n",
        "skyscrapers_full['development.phase'] = skyscrapers_full['status.current'].map(lambda s: 3 if s in ('completed', 'demolished')\n",
        "                                                                                         else 1 if s in ('proposed', 'vision')\n",
        "                                                                                         else 2)\n",
        "skyscrapers = skyscrapers_full[['id', 'material', 'name', 'development.phase',\n",
        "                                'location.city', 'location.latitude', 'location.longitude',\n",
        "                                'statistics.height', 'tall?']]\n",
        "skyscrapers.head()"
      ],
      "id": "choice-scanner",
      "execution_count": 12,
      "outputs": [
        {
          "output_type": "execute_result",
          "data": {
            "text/html": [
              "<div>\n",
              "<style scoped>\n",
              "    .dataframe tbody tr th:only-of-type {\n",
              "        vertical-align: middle;\n",
              "    }\n",
              "\n",
              "    .dataframe tbody tr th {\n",
              "        vertical-align: top;\n",
              "    }\n",
              "\n",
              "    .dataframe thead th {\n",
              "        text-align: right;\n",
              "    }\n",
              "</style>\n",
              "<table border=\"1\" class=\"dataframe\">\n",
              "  <thead>\n",
              "    <tr style=\"text-align: right;\">\n",
              "      <th></th>\n",
              "      <th>id</th>\n",
              "      <th>material</th>\n",
              "      <th>name</th>\n",
              "      <th>development.phase</th>\n",
              "      <th>location.city</th>\n",
              "      <th>location.latitude</th>\n",
              "      <th>location.longitude</th>\n",
              "      <th>statistics.height</th>\n",
              "      <th>tall?</th>\n",
              "    </tr>\n",
              "  </thead>\n",
              "  <tbody>\n",
              "    <tr>\n",
              "      <th>0</th>\n",
              "      <td>12</td>\n",
              "      <td>steel</td>\n",
              "      <td>The Illinois</td>\n",
              "      <td>1</td>\n",
              "      <td>Chicago</td>\n",
              "      <td>0.000000</td>\n",
              "      <td>0.000000</td>\n",
              "      <td>1609.359985</td>\n",
              "      <td>True</td>\n",
              "    </tr>\n",
              "    <tr>\n",
              "      <th>1</th>\n",
              "      <td>62</td>\n",
              "      <td>composite</td>\n",
              "      <td>Chicago Spire</td>\n",
              "      <td>2</td>\n",
              "      <td>Chicago</td>\n",
              "      <td>41.889889</td>\n",
              "      <td>-87.614861</td>\n",
              "      <td>609.599976</td>\n",
              "      <td>True</td>\n",
              "    </tr>\n",
              "    <tr>\n",
              "      <th>2</th>\n",
              "      <td>68</td>\n",
              "      <td>composite</td>\n",
              "      <td>Miglin-Beitler Skyneedle</td>\n",
              "      <td>1</td>\n",
              "      <td>Chicago</td>\n",
              "      <td>41.881618</td>\n",
              "      <td>-87.634354</td>\n",
              "      <td>609.489990</td>\n",
              "      <td>True</td>\n",
              "    </tr>\n",
              "    <tr>\n",
              "      <th>3</th>\n",
              "      <td>98</td>\n",
              "      <td>composite</td>\n",
              "      <td>One World Trade Center</td>\n",
              "      <td>3</td>\n",
              "      <td>New York City</td>\n",
              "      <td>40.713112</td>\n",
              "      <td>-74.013351</td>\n",
              "      <td>541.299988</td>\n",
              "      <td>True</td>\n",
              "    </tr>\n",
              "    <tr>\n",
              "      <th>4</th>\n",
              "      <td>14269</td>\n",
              "      <td>concrete</td>\n",
              "      <td>Central Park Tower</td>\n",
              "      <td>2</td>\n",
              "      <td>New York City</td>\n",
              "      <td>40.766361</td>\n",
              "      <td>-73.980949</td>\n",
              "      <td>541.020020</td>\n",
              "      <td>True</td>\n",
              "    </tr>\n",
              "  </tbody>\n",
              "</table>\n",
              "</div>"
            ],
            "text/plain": [
              "      id   material  ... statistics.height  tall?\n",
              "0     12      steel  ...       1609.359985   True\n",
              "1     62  composite  ...        609.599976   True\n",
              "2     68  composite  ...        609.489990   True\n",
              "3     98  composite  ...        541.299988   True\n",
              "4  14269   concrete  ...        541.020020   True\n",
              "\n",
              "[5 rows x 9 columns]"
            ]
          },
          "metadata": {
            "tags": []
          },
          "execution_count": 12
        }
      ]
    },
    {
      "cell_type": "markdown",
      "metadata": {
        "id": "favorite-device"
      },
      "source": [
        "* `id`: \n",
        "* `material`: \n",
        "* `name`: \n",
        "* `development.phase`: \n",
        "* `location.city`: \n",
        "* `location.latitude`: \n",
        "* `location.longitude`: \n",
        "* `statistics.height`: \n",
        "* `tall?`: "
      ],
      "id": "favorite-device"
    },
    {
      "cell_type": "markdown",
      "metadata": {
        "id": "ahead-paradise"
      },
      "source": [
        "#### Q3.7)\n",
        "\n",
        "For each column in the dataset above, provide appropriate summary statistics in whatever way makes the most sense to concisely describe the data."
      ],
      "id": "ahead-paradise"
    },
    {
      "cell_type": "code",
      "metadata": {
        "id": "editorial-supplier",
        "colab": {
          "base_uri": "https://localhost:8080/"
        },
        "outputId": "58b1b247-f6df-4b2c-f47d-01e61186e4ec"
      },
      "source": [
        "print(\"ID:\")\n",
        "\n",
        "\n",
        "print(\"Material:\")\n",
        "\n",
        "\n",
        "print(\"Name:\")\n",
        "\n",
        "\n",
        "print(\"Development Phase:\")\n",
        "\n",
        "\n",
        "print(\"Location (City):\")\n",
        "\n",
        "\n",
        "print(\"Location (Latitude):\")\n",
        "\n",
        "\n",
        "print(\"Location (Longitude):\")\n",
        "\n",
        "\n",
        "print(\"Height:\")\n",
        "\n",
        "\n",
        "print(\"Tall Buildings:\")"
      ],
      "id": "editorial-supplier",
      "execution_count": 13,
      "outputs": [
        {
          "output_type": "stream",
          "text": [
            "ID:\n",
            "Material:\n",
            "Name:\n",
            "Development Phase:\n",
            "Location (City):\n",
            "Location (Latitude):\n",
            "Location (Longitude):\n",
            "Height:\n",
            "Tall Buildings:\n"
          ],
          "name": "stdout"
        }
      ]
    },
    {
      "cell_type": "markdown",
      "metadata": {
        "id": "brazilian-roads"
      },
      "source": [
        "#### Q3.8)\n",
        "\n",
        "Classify each of the following scenarios as \"paired\" or \"unpaired\" data.\n",
        "\n",
        "1. We draw two random samples from the complete set of skyscrapers. Both samples have 100 skyscrapers."
      ],
      "id": "brazilian-roads"
    },
    {
      "cell_type": "markdown",
      "metadata": {
        "id": "insured-letters"
      },
      "source": [
        ""
      ],
      "id": "insured-letters"
    },
    {
      "cell_type": "markdown",
      "metadata": {
        "id": "traditional-brook"
      },
      "source": [
        "2. We collect a new version of the dataset, updating the `\"development.phase\"` value in order to compare it to the old value."
      ],
      "id": "traditional-brook"
    },
    {
      "cell_type": "markdown",
      "metadata": {
        "id": "successful-flooring"
      },
      "source": [
        ""
      ],
      "id": "successful-flooring"
    },
    {
      "cell_type": "markdown",
      "metadata": {
        "id": "stretch-blind"
      },
      "source": [
        "3. We collect data about the architectures of each building, in order to see if there a relationship between the builder's age and the height of the building."
      ],
      "id": "stretch-blind"
    },
    {
      "cell_type": "markdown",
      "metadata": {
        "id": "behind-thousand"
      },
      "source": [
        ""
      ],
      "id": "behind-thousand"
    },
    {
      "cell_type": "markdown",
      "metadata": {
        "id": "interior-lying"
      },
      "source": [
        "# Part 4) Normality Checks"
      ],
      "id": "interior-lying"
    },
    {
      "cell_type": "markdown",
      "metadata": {
        "id": "american-moscow"
      },
      "source": [
        "Read the following page about normality tests:\n",
        "\n",
        "https://machinelearningmastery.com/a-gentle-introduction-to-normality-tests-in-python/\n"
      ],
      "id": "american-moscow"
    },
    {
      "cell_type": "markdown",
      "metadata": {
        "id": "freelance-positive"
      },
      "source": [
        "#### Q4.1)\n",
        "\n",
        "Some skyscrapers are much taller than most skyscrapers. Demonstrate this by creating a Histogram of that data."
      ],
      "id": "freelance-positive"
    },
    {
      "cell_type": "code",
      "metadata": {
        "id": "viral-thousand",
        "colab": {
          "base_uri": "https://localhost:8080/"
        },
        "outputId": "3a863311-ec1b-446f-a43d-49944f2f6b85"
      },
      "source": [
        "skyscrapers['statistics.height']\n",
        "# ..."
      ],
      "id": "viral-thousand",
      "execution_count": 14,
      "outputs": [
        {
          "output_type": "execute_result",
          "data": {
            "text/plain": [
              "0       1609.359985\n",
              "1        609.599976\n",
              "2        609.489990\n",
              "3        541.299988\n",
              "4        541.020020\n",
              "           ...     \n",
              "2426       0.000000\n",
              "2427       0.000000\n",
              "2428       0.000000\n",
              "2429       0.000000\n",
              "2430       0.000000\n",
              "Name: statistics.height, Length: 2431, dtype: float64"
            ]
          },
          "metadata": {
            "tags": []
          },
          "execution_count": 14
        }
      ]
    },
    {
      "cell_type": "markdown",
      "metadata": {
        "id": "exterior-tomato"
      },
      "source": [
        "#### Q4.2)\n",
        "\n",
        "Logarithmic transformations are often used in situations like this to make the visualizations easier to read.\n",
        "Why?"
      ],
      "id": "exterior-tomato"
    },
    {
      "cell_type": "markdown",
      "metadata": {
        "id": "nearby-soldier"
      },
      "source": [
        ""
      ],
      "id": "nearby-soldier"
    },
    {
      "cell_type": "markdown",
      "metadata": {
        "id": "adjustable-cover"
      },
      "source": [
        "#### Q4.3)\n",
        "\n",
        "Create a new version of your visualization that is log transformed, by manipulating the data.\n",
        "\n",
        "Hints:\n",
        "* You might find it helpful to increase the number of bins in the final version to produce a nicer looking graph.\n",
        "* Some of the data is dirty - remove zeroes!"
      ],
      "id": "adjustable-cover"
    },
    {
      "cell_type": "code",
      "metadata": {
        "id": "exact-discovery"
      },
      "source": [
        ""
      ],
      "id": "exact-discovery",
      "execution_count": 14,
      "outputs": []
    },
    {
      "cell_type": "markdown",
      "metadata": {
        "id": "quiet-patrick"
      },
      "source": [
        "#### Q4.4)\n",
        "\n",
        "We wish to know if the data is now normally distributed. You can use a Shapiro Wilks test in `scipy.stats` to determine if a distribution is normal. This is demonstrated below."
      ],
      "id": "quiet-patrick"
    },
    {
      "cell_type": "code",
      "metadata": {
        "id": "blessed-aviation",
        "colab": {
          "base_uri": "https://localhost:8080/",
          "height": 0
        },
        "outputId": "2e30a160-5c6a-4872-da08-c908801ad7e3"
      },
      "source": [
        "# Mean of 50, standard deviation of 10, create 100 numbers\n",
        "normal_values = stats.norm.rvs(loc=50, scale=10, size=100)\n",
        "plt.hist(normal_values)\n",
        "plt.title(\"Normal Distribution with Mean of 50\")\n",
        "plt.ylabel(\"Frequency\")\n",
        "plt.show()\n",
        "\n",
        "test_statistic, p_value = stats.shapiro(normal_values)\n",
        "print(\"Normally Distributed Values:\", test_statistic, p_value, p_value < .05)\n",
        "print(\"Since the pvalue is greater than 0.05, we accept the null hypothesis that it is normally distributed.\")\n",
        "\n",
        "# Mean of 50, standard deviation of 10, create 100 numbers\n",
        "normal_values = stats.randint.rvs(low=0, high=100, size=100)\n",
        "plt.hist(normal_values)\n",
        "plt.title(\"Random Distribution\")\n",
        "plt.ylabel(\"Frequency\")\n",
        "plt.show()\n",
        "\n",
        "test_statistic, p_value = stats.shapiro(normal_values)\n",
        "print(\"Random Values:\", test_statistic, p_value, p_value < .05)\n",
        "print(\"Since the pvalue is less than 0.05, we reject the null hypothesis that it is normally distributed.\")"
      ],
      "id": "blessed-aviation",
      "execution_count": 15,
      "outputs": [
        {
          "output_type": "display_data",
          "data": {
            "image/png": "[encoded data removed]",
            "text/plain": [
              "<Figure size 432x288 with 1 Axes>"
            ]
          },
          "metadata": {
            "tags": [],
            "needs_background": "light"
          }
        },
        {
          "output_type": "stream",
          "text": [
            "Normally Distributed Values: 0.970885157585144 0.025847647339105606 True\n",
            "Since the pvalue is greater than 0.05, we accept the null hypothesis that it is normally distributed.\n"
          ],
          "name": "stdout"
        },
        {
          "output_type": "display_data",
          "data": {
            "image/png": "[encoded data removed]",
            "text/plain": [
              "<Figure size 432x288 with 1 Axes>"
            ]
          },
          "metadata": {
            "tags": [],
            "needs_background": "light"
          }
        },
        {
          "output_type": "stream",
          "text": [
            "Random Values: 0.9416151642799377 0.00024221319472417235 True\n",
            "Since the pvalue is less than 0.05, we reject the null hypothesis that it is normally distributed.\n"
          ],
          "name": "stdout"
        }
      ]
    },
    {
      "cell_type": "markdown",
      "metadata": {
        "id": "ordinary-immigration"
      },
      "source": [
        "Building off our example, determine if:\n",
        "\n",
        "1. The original untransformed heights follow a normal distribution.\n",
        "2. The log-transformed heights follow a normal distribution.\n",
        "\n",
        "Be sure to use an appropriate test."
      ],
      "id": "ordinary-immigration"
    },
    {
      "cell_type": "code",
      "metadata": {
        "id": "indonesian-ideal"
      },
      "source": [
        ""
      ],
      "id": "indonesian-ideal",
      "execution_count": 15,
      "outputs": []
    },
    {
      "cell_type": "markdown",
      "metadata": {
        "id": "excess-spider"
      },
      "source": [
        "#### Q4.5)\n",
        "\n",
        "Would it be appropriate to use parameteric statistics on this data?"
      ],
      "id": "excess-spider"
    },
    {
      "cell_type": "markdown",
      "metadata": {
        "id": "encouraging-money"
      },
      "source": [
        ""
      ],
      "id": "encouraging-money"
    },
    {
      "cell_type": "markdown",
      "metadata": {
        "id": "theoretical-court"
      },
      "source": [
        "# Part 5) Correlation Analysis\n",
        "\n",
        "Read over the following page: https://www.ncbi.nlm.nih.gov/pmc/articles/PMC2996580/"
      ],
      "id": "theoretical-court"
    },
    {
      "cell_type": "markdown",
      "metadata": {
        "id": "quality-chart"
      },
      "source": [
        "#### Q5.1)\n",
        "\n",
        "In your own words, define the following terms:\n",
        "\n",
        "1) Hypothesis"
      ],
      "id": "quality-chart"
    },
    {
      "cell_type": "markdown",
      "metadata": {
        "id": "aging-apparel"
      },
      "source": [
        ""
      ],
      "id": "aging-apparel"
    },
    {
      "cell_type": "markdown",
      "metadata": {
        "id": "developmental-emergency"
      },
      "source": [
        "2) Hypothesis Test"
      ],
      "id": "developmental-emergency"
    },
    {
      "cell_type": "markdown",
      "metadata": {
        "id": "urban-reduction"
      },
      "source": [
        ""
      ],
      "id": "urban-reduction"
    },
    {
      "cell_type": "markdown",
      "metadata": {
        "id": "polish-corrections"
      },
      "source": [
        "3) P-value"
      ],
      "id": "polish-corrections"
    },
    {
      "cell_type": "markdown",
      "metadata": {
        "id": "behind-speed"
      },
      "source": [
        ""
      ],
      "id": "behind-speed"
    },
    {
      "cell_type": "markdown",
      "metadata": {
        "id": "powerful-reaction"
      },
      "source": [
        "4) Null Hypothesis"
      ],
      "id": "powerful-reaction"
    },
    {
      "cell_type": "markdown",
      "metadata": {
        "id": "controlled-republic"
      },
      "source": [
        ""
      ],
      "id": "controlled-republic"
    },
    {
      "cell_type": "markdown",
      "metadata": {
        "id": "surface-recommendation"
      },
      "source": [
        "5. \"Approaching Significance\" (read over [this webpage](https://mchankins.wordpress.com/2013/04/21/still-not-significant-2/))"
      ],
      "id": "surface-recommendation"
    },
    {
      "cell_type": "markdown",
      "metadata": {
        "id": "human-little"
      },
      "source": [
        ""
      ],
      "id": "human-little"
    },
    {
      "cell_type": "markdown",
      "metadata": {
        "id": "architectural-factory"
      },
      "source": [
        "#### Q5.2)\n",
        "\n",
        "Make a list of all the criteria you should consider when choosing an appropriate statistical test.\n",
        "Additionally, embed a flowchart that can help visually demonstrate the critiera you should use."
      ],
      "id": "architectural-factory"
    },
    {
      "cell_type": "markdown",
      "metadata": {
        "id": "chubby-spokesman"
      },
      "source": [
        "1. \n",
        "2.\n",
        "3.\n",
        "\n",
        "..."
      ],
      "id": "chubby-spokesman"
    },
    {
      "cell_type": "markdown",
      "metadata": {
        "id": "dietary-opinion"
      },
      "source": [
        "#### Q5.3)\n",
        "\n",
        "For each of the following statistical test functions from `scipy`, provide the following information:\n",
        "\n",
        "* Function: The name of the function in Scipy\n",
        "* Link: The URL to the documentation of the test.\n",
        "* Test: A more human-readable name of the test\n",
        "* Description: A quick one-sentence description of the test indicating clearly what it is used for\n",
        "* Assumptions: A list of any assumptions made by the test.\n",
        "* Example: An example of how you might use this test"
      ],
      "id": "dietary-opinion"
    },
    {
      "cell_type": "markdown",
      "metadata": {
        "id": "moderate-policy"
      },
      "source": [
        "##### f_oneway\n",
        "\n",
        "* Function: `f_oneway`\n",
        "* Link: https://docs.scipy.org/doc/scipy/reference/generated/scipy.stats.f_oneway.html\n",
        "* Test: One-way ANOVA\n",
        "* Description: A parametric test for 2+ independent samples to determine if they have the same population mean. \n",
        "* Assumptions:\n",
        "    * Samples must be independent\n",
        "    * Population is normally distributed\n",
        "    * Populations' standard deviations are equal\n",
        "* Example: Take a big group of students, break them up by gender, and see if their heights differ by gender."
      ],
      "id": "moderate-policy"
    },
    {
      "cell_type": "markdown",
      "metadata": {
        "id": "irish-instrument"
      },
      "source": [
        "##### pearsonr\n",
        "\n",
        "* Function:\n",
        "* Link:\n",
        "* Test:\n",
        "* Description:\n",
        "* Assumptions:\n",
        "* Example:"
      ],
      "id": "irish-instrument"
    },
    {
      "cell_type": "markdown",
      "metadata": {
        "id": "exceptional-glucose"
      },
      "source": [
        "##### spearmanr\n",
        "\n",
        "* Function:\n",
        "* Link:\n",
        "* Test:\n",
        "* Description:\n",
        "* Assumptions:\n",
        "* Example:"
      ],
      "id": "exceptional-glucose"
    },
    {
      "cell_type": "markdown",
      "metadata": {
        "id": "decreased-pressure"
      },
      "source": [
        "##### pointbiseralr\n",
        "\n",
        "* Function:\n",
        "* Link:\n",
        "* Test:\n",
        "* Description:\n",
        "* Assumptions:\n",
        "* Example:"
      ],
      "id": "decreased-pressure"
    },
    {
      "cell_type": "markdown",
      "metadata": {
        "id": "controlling-balloon"
      },
      "source": [
        "##### kendalltau\n",
        "\n",
        "* Function:\n",
        "* Link:\n",
        "* Test:\n",
        "* Description:\n",
        "* Assumptions:\n",
        "* Example:"
      ],
      "id": "controlling-balloon"
    },
    {
      "cell_type": "markdown",
      "metadata": {
        "id": "adequate-necklace"
      },
      "source": [
        "##### ttest_1samp\n",
        "\n",
        "* Function:\n",
        "* Link:\n",
        "* Test:\n",
        "* Description:\n",
        "* Assumptions:\n",
        "* Example:"
      ],
      "id": "adequate-necklace"
    },
    {
      "cell_type": "markdown",
      "metadata": {
        "id": "behavioral-milwaukee"
      },
      "source": [
        "##### ttest_ind\n",
        "\n",
        "* Function:\n",
        "* Link:\n",
        "* Test:\n",
        "* Description:\n",
        "* Assumptions:\n",
        "* Example:"
      ],
      "id": "behavioral-milwaukee"
    },
    {
      "cell_type": "markdown",
      "metadata": {
        "id": "municipal-stanford"
      },
      "source": [
        "##### ttest_rel\n",
        "\n",
        "* Function:\n",
        "* Link:\n",
        "* Test:\n",
        "* Description:\n",
        "* Assumptions:\n",
        "* Example:"
      ],
      "id": "municipal-stanford"
    },
    {
      "cell_type": "markdown",
      "metadata": {
        "id": "operating-birth"
      },
      "source": [
        "##### chisquare\n",
        "\n",
        "* Function:\n",
        "* Link:\n",
        "* Test:\n",
        "* Description:\n",
        "* Assumptions:\n",
        "* Example:"
      ],
      "id": "operating-birth"
    },
    {
      "cell_type": "markdown",
      "metadata": {
        "id": "presidential-block"
      },
      "source": [
        "##### mannwhitneyu\n",
        "\n",
        "* Function:\n",
        "* Link:\n",
        "* Test:\n",
        "* Description:\n",
        "* Assumptions:\n",
        "* Example:"
      ],
      "id": "presidential-block"
    },
    {
      "cell_type": "markdown",
      "metadata": {
        "id": "dress-finger"
      },
      "source": [
        "##### kstest\n",
        "\n",
        "* Function:\n",
        "* Link:\n",
        "* Test:\n",
        "* Description:\n",
        "* Assumptions:\n",
        "* Example:"
      ],
      "id": "dress-finger"
    },
    {
      "cell_type": "markdown",
      "metadata": {
        "id": "instant-mongolia"
      },
      "source": [
        "##### wilcoxon\n",
        "\n",
        "* Function:\n",
        "* Link:\n",
        "* Test:\n",
        "* Description:\n",
        "* Assumptions:\n",
        "* Example:"
      ],
      "id": "instant-mongolia"
    },
    {
      "cell_type": "markdown",
      "metadata": {
        "id": "quality-motor"
      },
      "source": [
        "##### kruskal\n",
        "\n",
        "* Function:\n",
        "* Link:\n",
        "* Test:\n",
        "* Description:\n",
        "* Assumptions:\n",
        "* Example:"
      ],
      "id": "quality-motor"
    },
    {
      "cell_type": "markdown",
      "metadata": {
        "id": "offshore-church"
      },
      "source": [
        "#### Q5.4)"
      ],
      "id": "offshore-church"
    },
    {
      "cell_type": "markdown",
      "metadata": {
        "id": "exterior-dylan"
      },
      "source": [
        "For each scenario below, identify what test you might choose.\n",
        "\n",
        "1. If we wished to test whether there was any association between Gender and uptake of Flu vaccination which would be the best test to choose?"
      ],
      "id": "exterior-dylan"
    },
    {
      "cell_type": "markdown",
      "metadata": {
        "id": "separate-romania"
      },
      "source": [
        ""
      ],
      "id": "separate-romania"
    },
    {
      "cell_type": "markdown",
      "metadata": {
        "id": "finnish-guard"
      },
      "source": [
        "2. If we wished to test if there was a difference between the gestational age of babies at birth (how far along the pregnancy is, in weeks) and the use of a nutritional supplement by their mothers during pregnancy which would be the best test to choose?"
      ],
      "id": "finnish-guard"
    },
    {
      "cell_type": "markdown",
      "metadata": {
        "id": "initial-optimization"
      },
      "source": [
        ""
      ],
      "id": "initial-optimization"
    },
    {
      "cell_type": "markdown",
      "metadata": {
        "id": "victorian-interpretation"
      },
      "source": [
        "3. The cotinine level was measured in women at the beginning and end of their pregnancy. The change in cotinine was presented on a Log scale. Which would be the best test to use to see if there had been a change in cotinine level during pregnancy?"
      ],
      "id": "victorian-interpretation"
    },
    {
      "cell_type": "markdown",
      "metadata": {
        "id": "neural-denial"
      },
      "source": [
        ""
      ],
      "id": "neural-denial"
    },
    {
      "cell_type": "markdown",
      "metadata": {
        "id": "minimal-postcard"
      },
      "source": [
        "4. If we wished to estimate the strength of the linear relationship between the weight of a mother and the weight of her baby at birth which would be the best test to choose?"
      ],
      "id": "minimal-postcard"
    },
    {
      "cell_type": "markdown",
      "metadata": {
        "id": "generic-celebrity"
      },
      "source": [
        ""
      ],
      "id": "generic-celebrity"
    },
    {
      "cell_type": "markdown",
      "metadata": {
        "id": "scheduled-appeal"
      },
      "source": [
        "5. The pre-operative and post-operative anxiety levels of adolescent patients undergoing orthopaedic surgery were measured using the State-Trait Anxiety Inventory STAI scale. The authors reported the pre-operative anxiety levels as mean = 33.8 (SD = 5.1) and post-operative anxiety levels as mean = 38.8 (SD = 7.2). They also performed a Shapiro-Wilks Test demonstrating that the data is normal. Which would have been the most appropriate test to assess the relationship between pre and post operative anxiety?"
      ],
      "id": "scheduled-appeal"
    },
    {
      "cell_type": "markdown",
      "metadata": {
        "id": "champion-sensitivity"
      },
      "source": [
        ""
      ],
      "id": "champion-sensitivity"
    },
    {
      "cell_type": "markdown",
      "metadata": {
        "id": "treated-bottle"
      },
      "source": [
        "6. Salaries in the United States are heavily skewed. If you were investigating salaries between Software Engineers and non-Software Engineers, which test would be most appropriate?"
      ],
      "id": "treated-bottle"
    },
    {
      "cell_type": "markdown",
      "metadata": {
        "id": "specialized-disability"
      },
      "source": [
        ""
      ],
      "id": "specialized-disability"
    },
    {
      "cell_type": "markdown",
      "metadata": {
        "id": "thirty-effort"
      },
      "source": [
        "7. As previously mentioned, salaries in the United States are heavily skewed. You conduct a survey of 100 folks (selected completely at random from the US), asking their salary and their \"satisfaction their salary\" with the possible responses \"Very Happy\", \"Happy\", \"Neutral\", \"Unhappy\", and \"Very Unhappy\". What test could you use to determine the relationship between these two values?"
      ],
      "id": "thirty-effort"
    },
    {
      "cell_type": "markdown",
      "metadata": {
        "id": "joint-underground"
      },
      "source": [
        ""
      ],
      "id": "joint-underground"
    },
    {
      "cell_type": "markdown",
      "metadata": {
        "id": "parliamentary-smith"
      },
      "source": [
        "8. It is 2022, and the revolution has begun. It is chaos in the streets, and societal upheaval is everywhere. Strangely, you are more interested in doing data science, and are now investigating whether salaries are still skewed. You go back to the 100 folks you talked to previously, and ask them for their new salary data. What test can help you determine if there is a change?"
      ],
      "id": "parliamentary-smith"
    },
    {
      "cell_type": "markdown",
      "metadata": {
        "id": "dynamic-mason"
      },
      "source": [
        ""
      ],
      "id": "dynamic-mason"
    },
    {
      "cell_type": "markdown",
      "metadata": {
        "id": "becoming-sixth"
      },
      "source": [
        "#### Q5.5)\n",
        "\n",
        "Recall the skyscrapers data we looked at before."
      ],
      "id": "becoming-sixth"
    },
    {
      "cell_type": "code",
      "metadata": {
        "id": "pleasant-bahamas",
        "colab": {
          "base_uri": "https://localhost:8080/",
          "height": 0
        },
        "outputId": "d8b4841d-8343-4472-aa18-17f52a1af5f0"
      },
      "source": [
        "skyscrapers.head()"
      ],
      "id": "pleasant-bahamas",
      "execution_count": 16,
      "outputs": [
        {
          "output_type": "execute_result",
          "data": {
            "text/html": [
              "<div>\n",
              "<style scoped>\n",
              "    .dataframe tbody tr th:only-of-type {\n",
              "        vertical-align: middle;\n",
              "    }\n",
              "\n",
              "    .dataframe tbody tr th {\n",
              "        vertical-align: top;\n",
              "    }\n",
              "\n",
              "    .dataframe thead th {\n",
              "        text-align: right;\n",
              "    }\n",
              "</style>\n",
              "<table border=\"1\" class=\"dataframe\">\n",
              "  <thead>\n",
              "    <tr style=\"text-align: right;\">\n",
              "      <th></th>\n",
              "      <th>id</th>\n",
              "      <th>material</th>\n",
              "      <th>name</th>\n",
              "      <th>development.phase</th>\n",
              "      <th>location.city</th>\n",
              "      <th>location.latitude</th>\n",
              "      <th>location.longitude</th>\n",
              "      <th>statistics.height</th>\n",
              "      <th>tall?</th>\n",
              "    </tr>\n",
              "  </thead>\n",
              "  <tbody>\n",
              "    <tr>\n",
              "      <th>0</th>\n",
              "      <td>12</td>\n",
              "      <td>steel</td>\n",
              "      <td>The Illinois</td>\n",
              "      <td>1</td>\n",
              "      <td>Chicago</td>\n",
              "      <td>0.000000</td>\n",
              "      <td>0.000000</td>\n",
              "      <td>1609.359985</td>\n",
              "      <td>True</td>\n",
              "    </tr>\n",
              "    <tr>\n",
              "      <th>1</th>\n",
              "      <td>62</td>\n",
              "      <td>composite</td>\n",
              "      <td>Chicago Spire</td>\n",
              "      <td>2</td>\n",
              "      <td>Chicago</td>\n",
              "      <td>41.889889</td>\n",
              "      <td>-87.614861</td>\n",
              "      <td>609.599976</td>\n",
              "      <td>True</td>\n",
              "    </tr>\n",
              "    <tr>\n",
              "      <th>2</th>\n",
              "      <td>68</td>\n",
              "      <td>composite</td>\n",
              "      <td>Miglin-Beitler Skyneedle</td>\n",
              "      <td>1</td>\n",
              "      <td>Chicago</td>\n",
              "      <td>41.881618</td>\n",
              "      <td>-87.634354</td>\n",
              "      <td>609.489990</td>\n",
              "      <td>True</td>\n",
              "    </tr>\n",
              "    <tr>\n",
              "      <th>3</th>\n",
              "      <td>98</td>\n",
              "      <td>composite</td>\n",
              "      <td>One World Trade Center</td>\n",
              "      <td>3</td>\n",
              "      <td>New York City</td>\n",
              "      <td>40.713112</td>\n",
              "      <td>-74.013351</td>\n",
              "      <td>541.299988</td>\n",
              "      <td>True</td>\n",
              "    </tr>\n",
              "    <tr>\n",
              "      <th>4</th>\n",
              "      <td>14269</td>\n",
              "      <td>concrete</td>\n",
              "      <td>Central Park Tower</td>\n",
              "      <td>2</td>\n",
              "      <td>New York City</td>\n",
              "      <td>40.766361</td>\n",
              "      <td>-73.980949</td>\n",
              "      <td>541.020020</td>\n",
              "      <td>True</td>\n",
              "    </tr>\n",
              "  </tbody>\n",
              "</table>\n",
              "</div>"
            ],
            "text/plain": [
              "      id   material  ... statistics.height  tall?\n",
              "0     12      steel  ...       1609.359985   True\n",
              "1     62  composite  ...        609.599976   True\n",
              "2     68  composite  ...        609.489990   True\n",
              "3     98  composite  ...        541.299988   True\n",
              "4  14269   concrete  ...        541.020020   True\n",
              "\n",
              "[5 rows x 9 columns]"
            ]
          },
          "metadata": {
            "tags": []
          },
          "execution_count": 16
        }
      ]
    },
    {
      "cell_type": "markdown",
      "metadata": {
        "id": "satisfactory-priest"
      },
      "source": [
        "Is there a relationship between a Skyscrapers latitude and height?"
      ],
      "id": "satisfactory-priest"
    },
    {
      "cell_type": "code",
      "metadata": {
        "id": "weighted-instruction"
      },
      "source": [
        ""
      ],
      "id": "weighted-instruction",
      "execution_count": 16,
      "outputs": []
    },
    {
      "cell_type": "markdown",
      "metadata": {
        "id": "answering-cricket"
      },
      "source": [
        "Are `New York City` skyscrapers bigger than `Chicago` skyscrapers?"
      ],
      "id": "answering-cricket"
    },
    {
      "cell_type": "code",
      "metadata": {
        "id": "massive-holder"
      },
      "source": [
        ""
      ],
      "id": "massive-holder",
      "execution_count": 16,
      "outputs": []
    },
    {
      "cell_type": "markdown",
      "metadata": {
        "id": "engaged-showcase"
      },
      "source": [
        "In the dataset, completed skyscrapers are phase 3, in-progress skyscrapers are phase 2, and not-started skyscrapers are phase 1.\n",
        "Considering only skyscrapers made with concrete and steel, is there a difference in the distribution of the different development phases between the two materials? "
      ],
      "id": "engaged-showcase"
    },
    {
      "cell_type": "code",
      "metadata": {
        "id": "simplified-infrastructure"
      },
      "source": [
        ""
      ],
      "id": "simplified-infrastructure",
      "execution_count": 16,
      "outputs": []
    },
    {
      "cell_type": "markdown",
      "metadata": {
        "id": "authorized-disposition"
      },
      "source": [
        "# Part 6) Effect Sizes\n",
        "\n",
        "Watch the videos, and answer the questions.\n",
        "\n",
        "https://youtu.be/PyNzbDbjs1Y"
      ],
      "id": "authorized-disposition"
    },
    {
      "cell_type": "markdown",
      "metadata": {
        "id": "specified-isolation"
      },
      "source": [
        "#### Q6.1)\n",
        "\n",
        "Why is it important to present p-values AND effect sizes?"
      ],
      "id": "specified-isolation"
    },
    {
      "cell_type": "markdown",
      "metadata": {
        "id": "exact-insured"
      },
      "source": [
        ""
      ],
      "id": "exact-insured"
    },
    {
      "cell_type": "markdown",
      "metadata": {
        "id": "disturbed-alignment"
      },
      "source": [
        "#### Q6.2)\n",
        "\n",
        "The video briefly suggests some ways to calculate effect size. For each of the following, give a brief explanation:\n"
      ],
      "id": "disturbed-alignment"
    },
    {
      "cell_type": "markdown",
      "metadata": {
        "id": "twenty-methodology"
      },
      "source": [
        "* Pearson Correlation: \n",
        "* R Squared: \n",
        "* Cohen's d Effect Size: \n",
        "* Eta Squared:\n",
        "* Odds Ratio:"
      ],
      "id": "twenty-methodology"
    },
    {
      "cell_type": "markdown",
      "metadata": {
        "id": "assured-lightweight"
      },
      "source": [
        "#### Q6.3)\n",
        "\n",
        "Watch the following video, then answer the question below.\n",
        "\n",
        "https://youtu.be/6uYNVCy-8NA"
      ],
      "id": "assured-lightweight"
    },
    {
      "cell_type": "markdown",
      "metadata": {
        "id": "smart-quality"
      },
      "source": [
        "In the video, the speaker suggests concrete ways to interpret effect sizes. However, Cohen warned about turning effect size numbers into ideas of \"small\", \"medium\", and \"large\". What is dangerous about interpreting effect size values?"
      ],
      "id": "smart-quality"
    },
    {
      "cell_type": "markdown",
      "metadata": {
        "id": "activated-armstrong"
      },
      "source": [
        ""
      ],
      "id": "activated-armstrong"
    },
    {
      "cell_type": "markdown",
      "metadata": {
        "id": "above-bennett"
      },
      "source": [
        "#### Q6.4)\n",
        "\n",
        "Your arch-nemesis stands up and reports, \"In our study, we found a significant difference between the control group and the treatment group. Clearly, my research team deserves more funding.\" You raise your hand to ask a question - what do you ask?"
      ],
      "id": "above-bennett"
    },
    {
      "cell_type": "markdown",
      "metadata": {
        "id": "static-skating"
      },
      "source": [
        ""
      ],
      "id": "static-skating"
    },
    {
      "cell_type": "markdown",
      "metadata": {
        "id": "durable-reynolds"
      },
      "source": [
        "#### Q6.5)\n",
        "\n",
        "Previously, you were asked to calculate whether there was a significant difference between `New York City` and `Chicago` skyscrapers. Now provide a measure of effect size to fully characterize their difference."
      ],
      "id": "durable-reynolds"
    },
    {
      "cell_type": "code",
      "metadata": {
        "id": "modular-pennsylvania"
      },
      "source": [
        ""
      ],
      "id": "modular-pennsylvania",
      "execution_count": 16,
      "outputs": []
    }
  ]
}