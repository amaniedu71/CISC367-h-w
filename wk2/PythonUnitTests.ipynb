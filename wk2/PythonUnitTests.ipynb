{
  "nbformat": 4,
  "nbformat_minor": 0,
  "metadata": {
    "colab": {
      "name": "PythonUnitTests.ipynb",
      "provenance": [],
      "authorship_tag": "ABX9TyObBc34zt5GnY7sDSn7vBR2",
      "include_colab_link": true
    },
    "kernelspec": {
      "name": "python3",
      "display_name": "Python 3"
    }
  },
  "cells": [
    {
      "cell_type": "markdown",
      "metadata": {
        "id": "view-in-github",
        "colab_type": "text"
      },
      "source": [
        "<a href=\"https://colab.research.google.com/github/amaniedu71/CISC367-h-w/blob/main/wk2/PythonUnitTests.ipynb\" target=\"_parent\"><img src=\"https://colab.research.google.com/assets/colab-badge.svg\" alt=\"Open In Colab\"/></a>"
      ]
    },
    {
      "cell_type": "markdown",
      "metadata": {
        "id": "3AcpNf0LWI8u"
      },
      "source": [
        "###Puzzle one\n",
        "It is New Year's Day and people are in line for the Wonderland rollercoaster ride. Each person wears a sticker indicating their initial position in the queue from  to . Any person can bribe the person directly in front of them to swap positions, but they still wear their original sticker. One person can bribe at most two others.\n",
        "\n",
        "Determine the minimum number of bribes that took place to get to a given queue order. Print the number of bribes, or, if anyone has bribed more than two people, print Too chaotic\n"
      ]
    },
    {
      "cell_type": "code",
      "metadata": {
        "colab": {
          "base_uri": "https://localhost:8080/"
        },
        "id": "pzm3A1hGmPHl",
        "outputId": "ae521cd4-16c4-49b5-d420-0307e706fca4"
      },
      "source": [
        "#importing modules \n",
        "import unittest\n",
        "\n",
        "def puzzle_one(q):\n",
        "  if(len(q)> 1000): \n",
        "    raise ValueError()\n",
        "  s = 0\n",
        "  i = len(q)-1\n",
        "  for _ in q: \n",
        "    if (i+1)>q[i]:\n",
        "      if i>0 and q[i-1] == i+1:\n",
        "          j = q[i]; \n",
        "          q[i] = q[i-1]; \n",
        "          q[i-1] = j; \n",
        "          s+=1; \n",
        "      elif i>1 and q[i-2] == i+1: \n",
        "          j = q[i]; \n",
        "          q[i] = q[i-2]; \n",
        "          q[i-2] = q[i-1]; \n",
        "          q[i-1] = j; \n",
        "          s+=2; \n",
        "      else:\n",
        "          return \"Too chaotic\"\n",
        "    i -=1\n",
        "  return s\n",
        "\n",
        "#unit tests\n",
        "class UnitTestPuzzleOne(unittest.TestCase): \n",
        "  def test_safe_values(self):\n",
        "    self.assertEqual(puzzle_one([1, 2, 3, 4, 5]), 0)\n",
        "    self.assertEqual(puzzle_one([1, 2, 3, 5, 4]), 1)\n",
        "  def test_boundary_conditions(self): \n",
        "    self.assertEqual(puzzle_one([]), 0)\n",
        "    self.assertRaises(ValueError, puzzle_one, list((i for i in range(1001))))\n",
        "\n",
        "unittest.main(argv=[''], verbosity=1, exit=False)\n",
        "\n"
      ],
      "execution_count": 56,
      "outputs": [
        {
          "output_type": "stream",
          "text": [
            ".F\n",
            "======================================================================\n",
            "FAIL: test_safe_values (__main__.UnitTestPuzzleOne)\n",
            "----------------------------------------------------------------------\n",
            "Traceback (most recent call last):\n",
            "  File \"<ipython-input-56-8b09ccda7c2c>\", line 30, in test_safe_values\n",
            "    self.assertEqual(puzzle_one([1, 2, 3, 4, 5]), 1)\n",
            "AssertionError: 0 != 1\n",
            "\n",
            "----------------------------------------------------------------------\n",
            "Ran 2 tests in 0.002s\n",
            "\n",
            "FAILED (failures=1)\n"
          ],
          "name": "stderr"
        },
        {
          "output_type": "execute_result",
          "data": {
            "text/plain": [
              "<unittest.main.TestProgram at 0x7f65d470d950>"
            ]
          },
          "metadata": {
            "tags": []
          },
          "execution_count": 56
        }
      ]
    },
    {
      "cell_type": "markdown",
      "metadata": {
        "id": "JeN11lXjeEBH"
      },
      "source": [
        "###Puzzle Two \n",
        "Harold is a kidnapper who wrote a ransom note, but now he is worried it will be traced back to him through his handwriting. He found a magazine and wants to know if he can cut out whole words from it and use them to create an untraceable replica of his ransom note. The words in his note are case-sensitive and he must use only whole words available in the magazine. He cannot use substrings or concatenation to create the words he needs.\n",
        "\n",
        "Given the words in the magazine and the words in the ransom note, print Yes if he can replicate his ransom note exactly using whole words from the magazine; otherwise, print No.\n",
        "\n",
        "For example, the note is \"Attack at dawn\". The magazine contains only \"attack at dawn\". The magazine has all the right words, but there's a case mismatch. The answer is No."
      ]
    },
    {
      "cell_type": "code",
      "metadata": {
        "colab": {
          "base_uri": "https://localhost:8080/"
        },
        "id": "2zQgtmVt1d2p",
        "outputId": "420d8855-e75b-47f2-daa1-ef04f33d8043"
      },
      "source": [
        "#importing modules \n",
        "import unittest\n",
        "\n",
        "def puzzle_two(m, n):\n",
        "  j = 0\n",
        "  m.sort()\n",
        "  n.sort()\n",
        "  j = 0\n",
        "  for i, x in enumerate(m): \n",
        "    if m[i] == n[j]: \n",
        "      j +=1\n",
        "  if j==len(n): \n",
        "    return \"Yes\"\n",
        "  else: \n",
        "    return \"No\"\n",
        "\n",
        "#unit tests\n",
        "class UnitTestPuzzleOne(unittest.TestCase): \n",
        "  def test_safe_values(self):\n",
        "\n",
        "    self.assertEqual(puzzle_two(\"give me one grand today night\".split(),  \"give one grand today\".split()), \"Yes\")\n",
        "    self.assertEqual(puzzle_two(\"ive got a lovely bunch of coconuts\".split(),  \"ive got some coconuts\".split()), \"No\")\n",
        "\n",
        "\n",
        "unittest.main(argv=[''], verbosity=1, exit=False)\n",
        "\n"
      ],
      "execution_count": 57,
      "outputs": [
        {
          "output_type": "stream",
          "text": [
            ".\n",
            "----------------------------------------------------------------------\n",
            "Ran 1 test in 0.003s\n",
            "\n",
            "OK\n"
          ],
          "name": "stderr"
        },
        {
          "output_type": "execute_result",
          "data": {
            "text/plain": [
              "<unittest.main.TestProgram at 0x7f65d473acd0>"
            ]
          },
          "metadata": {
            "tags": []
          },
          "execution_count": 57
        }
      ]
    },
    {
      "cell_type": "markdown",
      "metadata": {
        "id": "pYaj-pFjfI_R"
      },
      "source": [
        "###Puzzle Three\n",
        "There is a collection of input strings and a collection of query strings. For each query string, determine how many times it occurs in the list of input strings. Return an array of the results.\n",
        "\n",
        "`strings = ['ab', 'ab', 'abc'] queries = ['ab', 'abc', 'bc']`\n",
        "\n",
        "There are `2` instances of `'ab'`, 1 of `'abc'` and of 'bc'. for each query, add an elment to the return array, `results = [2, 1, 0]`"
      ]
    },
    {
      "cell_type": "code",
      "metadata": {
        "colab": {
          "base_uri": "https://localhost:8080/"
        },
        "id": "HLL_mtHi5Xdf",
        "outputId": "6ac5b2b2-db88-4559-a677-dbb01f4a364e"
      },
      "source": [
        "from collections import Counter\n",
        "def puzzle_three(strings, queries):\n",
        "    counted = Counter(strings)\n",
        "    res = []\n",
        "    for q in queries: \n",
        "        if q in counted:\n",
        "            res.append(counted[q])\n",
        "        else: res.append(0)\n",
        "    return res\n",
        "    #importing modules \n",
        "import unittest\n",
        "\n",
        "#unit tests\n",
        "class UnitTestPuzzleOne(unittest.TestCase): \n",
        "  def test_safe_values(self):\n",
        "    self.assertEqual(puzzle_three(\"aba baba aba xzxb\".split(),  \"aba xzxb ab\".split()), [2, 1, 0])\n",
        "    self.assertEqual(puzzle_three(\"def de fgh\".split(),  \"de lmn fgh\".split()), [1, 0, 1])\n",
        "\n",
        "unittest.main(argv=[''], verbosity=1, exit=False)\n",
        "\n"
      ],
      "execution_count": 60,
      "outputs": [
        {
          "output_type": "stream",
          "text": [
            ".\n",
            "----------------------------------------------------------------------\n",
            "Ran 1 test in 0.001s\n",
            "\n",
            "OK\n"
          ],
          "name": "stderr"
        },
        {
          "output_type": "execute_result",
          "data": {
            "text/plain": [
              "<unittest.main.TestProgram at 0x7f65d4694f10>"
            ]
          },
          "metadata": {
            "tags": []
          },
          "execution_count": 60
        }
      ]
    },
    {
      "cell_type": "markdown",
      "metadata": {
        "id": "-n4fqXiRl3xX"
      },
      "source": [
        "###Puzzle Four \n",
        "A bracket is considered to be any one of the following characters: (, ), {, }, [, or ].\n",
        "\n",
        "Two brackets are considered to be a matched pair if the an opening bracket (i.e., (, [, or {) occurs to the left of a closing bracket (i.e., ), ], or }) of the exact same type. There are three types of matched pairs of brackets: [], {}, and ().\n",
        "\n",
        "A matching pair of brackets is not balanced if the set of brackets it encloses are not matched. For example, {[(])} is not balanced because the contents in between { and } are not balanced. The pair of square brackets encloses a single, unbalanced opening bracket, (, and the pair of parentheses encloses a single, unbalanced closing square bracket, ].\n",
        "\n",
        "By this logic, we say a sequence of brackets is balanced if the following conditions are met:\n",
        "\n",
        "It contains no unmatched brackets.\n",
        "The subset of brackets enclosed within the confines of a matched pair of brackets is also a matched pair of brackets.\n",
        "Given `n` strings of brackets, determine whether each sequence of brackets is balanced. If a string is balanced, return YES. Otherwise, return NO."
      ]
    },
    {
      "cell_type": "code",
      "metadata": {
        "colab": {
          "base_uri": "https://localhost:8080/"
        },
        "id": "S5lXbfHZ7O89",
        "outputId": "ade9c05c-c35b-4d3e-eb61-6857217de0f6"
      },
      "source": [
        "def puzzle_four(s):\n",
        "    t = []\n",
        "    o = ['{', '(', '[']\n",
        "    for c in s:\n",
        "        if(c in o): \n",
        "            t.append(c)\n",
        "        \n",
        "        elif(c == '}' and len(t)>0 and t[-1] == '{' ):\n",
        "            t.pop(-1)\n",
        "        elif(c == ']' and len(t)>0 and t[-1] == '[' ):\n",
        "            t.pop(-1)\n",
        "        elif(c == ')' and len(t)>0 and t[-1] == '(' ):\n",
        "            t.pop(-1)\n",
        "        else: return \"NO\"\n",
        "    if(len(t) != 0): return \"NO\"\n",
        "    else: return \"YES\" \n",
        "\n",
        "\n",
        "#unit tests\n",
        "class UnitTestPuzzleOne(unittest.TestCase): \n",
        "  def test_safe_values(self):\n",
        "    self.assertEqual(puzzle_four(\"{(([])[])[]}\"),\"YES\")\n",
        "    self.assertEqual(puzzle_four(\"{(([])[])[]]}\"), \"NO\")\n",
        "    \n",
        "unittest.main(argv=[''], verbosity=1, exit=False)\n",
        "\n"
      ],
      "execution_count": 64,
      "outputs": [
        {
          "output_type": "stream",
          "text": [
            ".\n",
            "----------------------------------------------------------------------\n",
            "Ran 1 test in 0.001s\n",
            "\n",
            "OK\n"
          ],
          "name": "stderr"
        },
        {
          "output_type": "execute_result",
          "data": {
            "text/plain": [
              "<unittest.main.TestProgram at 0x7f65d46fec50>"
            ]
          },
          "metadata": {
            "tags": []
          },
          "execution_count": 64
        }
      ]
    }
  ]
}