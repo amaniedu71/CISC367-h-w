{
 "cells": [
  {
   "cell_type": "markdown",
   "source": "# Questions\n\nFill in your name and the link to this file on your github.\n\n* Name: Amani Kiruga  \n* Link to github URL: github.com/",
   "metadata": {
    "cell_id": "00000-d3451c1a-1bde-407e-adef-0ad5735a006b",
    "deepnote_cell_type": "markdown"
   }
  },
  {
   "cell_type": "code",
   "metadata": {
    "cell_id": "00001-9de79ba1-1b6e-45bb-adfe-2219b85f209c",
    "deepnote_to_be_reexecuted": false,
    "source_hash": "8fe57669",
    "execution_start": 1622191908382,
    "execution_millis": 1232,
    "deepnote_cell_type": "code"
   },
   "source": "import pandas as pd\nimport numpy as np\nimport scipy.stats as st\nimport matplotlib.pyplot as plt\nimport scipy\n\nfrom sklearn.naive_bayes import GaussianNB\nfrom sklearn import metrics\nfrom sklearn import datasets\nfrom sklearn.model_selection import train_test_split\n",
   "execution_count": 3,
   "outputs": []
  },
  {
   "cell_type": "markdown",
   "source": "# ML: Linear Regression\n\nSo this starts with linear regression. If you want a deeper dive than what I cover in class, you can refer to [this page](https://realpython.com/linear-regression-in-python/)\n\nThe exercises come from this workbook, which has somewhat helpful explanations too: https://csmastersuh.github.io/data_analysis_with_python_2020/linear_regression.html",
   "metadata": {
    "cell_id": "00002-fbfd7783-8936-4750-80e5-20399af8a162",
    "deepnote_cell_type": "markdown"
   }
  },
  {
   "cell_type": "markdown",
   "source": "# Exercise 10: Linear Regression\n\nYou'll need to make up some data for this. Don't spend too much time on this one, it's less interesting compared to the others.",
   "metadata": {
    "cell_id": "00003-1caee029-8a0c-4b11-bec9-78dc31a4d53c",
    "deepnote_cell_type": "markdown"
   }
  },
  {
   "cell_type": "code",
   "metadata": {
    "cell_id": "00004-edda6c1b-5032-4928-991d-52591414449a",
    "deepnote_to_be_reexecuted": false,
    "source_hash": "4c4f02e8",
    "execution_start": 1620495875593,
    "execution_millis": 495,
    "deepnote_cell_type": "code"
   },
   "source": "n=20\n# Linearly increasing x values\nx = np.linspace(0, 10, n)\n# Wonky line of points\ny = x*4 + 3 + 1*np.random.randn(n) # changed stuff here\ndisplay(x, y)\nplt.scatter(x, y)\nplt.show()\n   \n\nfrom sklearn.linear_model import LinearRegression\n# Do actual linear regression here\nmodel=LinearRegression(fit_intercept=True)\nmodel.fit(x[:,np.newaxis], y)\nxfit=np.linspace(0,10,100)\nyfit=model.predict(xfit[:, np.newaxis])\nplt.plot(xfit,yfit, color=\"green\")\nplt.plot(x,y, 'o')\n# The following will draw as many line segments as there are columns in matrices x and y\nplt.plot(np.vstack([x,x]), np.vstack([y, model.predict(x[:, np.newaxis])]), color=\"black\");",
   "execution_count": null,
   "outputs": [
    {
     "data": {
      "text/plain": "array([ 0.        ,  0.52631579,  1.05263158,  1.57894737,  2.10526316,\n        2.63157895,  3.15789474,  3.68421053,  4.21052632,  4.73684211,\n        5.26315789,  5.78947368,  6.31578947,  6.84210526,  7.36842105,\n        7.89473684,  8.42105263,  8.94736842,  9.47368421, 10.        ])"
     },
     "metadata": {},
     "output_type": "display_data"
    },
    {
     "data": {
      "text/plain": "array([ 3.36860942,  5.89893287,  8.03546067,  8.95721775, 11.66661751,\n       14.44566364, 16.2247006 , 16.78460074, 19.13597245, 22.3019945 ,\n       25.48232441, 28.45808494, 26.90397154, 30.19236368, 30.29216724,\n       36.14019193, 35.39580161, 38.54979066, 40.94801921, 42.23315963])"
     },
     "metadata": {},
     "output_type": "display_data"
    },
    {
     "data": {
      "text/plain": "<Figure size 432x288 with 1 Axes>",
      "image/png": "[encoded data removed]"
     },
     "metadata": {
      "needs_background": "light",
      "image/png": {
       "width": 368,
       "height": 248
      }
     },
     "output_type": "display_data"
    },
    {
     "data": {
      "text/plain": "<Figure size 432x288 with 1 Axes>",
      "image/png": "[encoded data removed]"
     },
     "metadata": {
      "needs_background": "light",
      "image/png": {
       "width": 368,
       "height": 248
      }
     },
     "output_type": "display_data"
    }
   ]
  },
  {
   "cell_type": "markdown",
   "source": "# Exercise 11: Mystery Data\n\nThis one is far more interesting. You can download the file from [here](https://raw.githubusercontent.com/AnkS4/hy-data-analysis-with-python-2020/master/part05-e11_mystery_data/src/mystery_data.tsv). Make sure it gets the right filename!\n\nYou don't need to define any functions, as they demand, although you might find that helpful to do.",
   "metadata": {
    "cell_id": "00005-37713f3e-2bdf-4939-9beb-d218e199dc0e",
    "deepnote_cell_type": "markdown"
   }
  },
  {
   "cell_type": "code",
   "metadata": {
    "cell_id": "00006-3eadb668-a47f-4d2c-8d94-a42330143009",
    "deepnote_to_be_reexecuted": false,
    "source_hash": "b1087a02",
    "execution_start": 1620495880868,
    "execution_millis": 141,
    "deepnote_cell_type": "code"
   },
   "source": "def mystery_data(tsv):\n    tsv_file = open(\"mystery_data.tsv\")\n    read_tsv = csv.reader(tsv_file, delimiter=\"\\t\")\n\nmystery_data = pd.read_csv(\"https://raw.githubusercontent.com/AnkS4/hy-data-analysis-with-python-2020/master/part05-e11_mystery_data/src/mystery_data.tsv\", delimiter='\\t')\n#print(mystery_data.head(5))\n\nfrom sklearn.linear_model import LinearRegression\n\nmodel=LinearRegression(fit_intercept=False)\n\nx = mystery_data.iloc[:, 0:5]\ny = mystery_data[['Y']]\nmodel.fit(x, y)\nprint([f\"x{i}: {model.coef_[:, i]}\" for i in range(model.coef_.shape[1])])",
   "execution_count": null,
   "outputs": [
    {
     "name": "stdout",
     "text": "['x0: [3.]', 'x1: [-1.]', 'x2: [7.]', 'x3: [1.33226763e-15]', 'x4: [-20.]']\n",
     "output_type": "stream"
    }
   ]
  },
  {
   "cell_type": "markdown",
   "source": "## Exercise 12: Coefficient of Determination\n\nRead over this entire problem, parts 1 and 2.\n\nThis reuses the same `mystery_data.tsv` file as before.\n\nAgain, you do not need to define their function. Just calculate the R2 scores and print them, as they direct.",
   "metadata": {
    "cell_id": "00007-cf16e51d-3f74-4850-a0fa-efc74b107147",
    "deepnote_cell_type": "markdown"
   }
  },
  {
   "cell_type": "code",
   "metadata": {
    "cell_id": "00008-a726df41-fefc-46c8-a7ca-d1924e1f08a4",
    "deepnote_to_be_reexecuted": false,
    "source_hash": "4557c2cb",
    "execution_start": 1620496107030,
    "execution_millis": 13,
    "deepnote_cell_type": "code"
   },
   "source": "model=LinearRegression(fit_intercept=True)\n\nx = mystery_data.iloc[:, 0:5]\ny = mystery_data[['Y']]\nmodel.fit(x, y)\nyfit=model.predict(x)\n#print([f\"x{i}: {model.coef_[:, i]}\" for i in range(model.coef_.shape[1])])\nprint(model.score(x.iloc[:, 0:5],y)) ",
   "execution_count": null,
   "outputs": [
    {
     "name": "stdout",
     "text": "1.0\n",
     "output_type": "stream"
    }
   ]
  },
  {
   "cell_type": "markdown",
   "source": "## Exercise 13: Cycling Weather\n\nI've already prepared the data that they require for this assignment. You can download it [here](https://gist.githubusercontent.com/acbart/466174a04e9a2505c4c25f91fc6dd4f6/raw/726865070677ec7dede17a08095624e0ea35e7cd/biking.csv).\n\nThe first column is the index, you can safely ignore it. The next 7 columns are straightforward. The last few columns are locations in Finland that have measuring stations. I recommend using `Baana` as they say in the instructions for testing.\n",
   "metadata": {
    "cell_id": "00009-b016ddd8-766f-429a-b6ec-34d952390a3a",
    "deepnote_cell_type": "markdown"
   }
  },
  {
   "cell_type": "code",
   "metadata": {
    "cell_id": "00010-6ab2ed6a-c7f6-46ad-b4c4-18e491bb79ce",
    "deepnote_to_be_reexecuted": false,
    "source_hash": "6165a579",
    "execution_start": 1620506426047,
    "execution_millis": 197,
    "deepnote_cell_type": "code"
   },
   "source": "finland_cycling = pd.read_csv(\"https://gist.githubusercontent.com/acbart/466174a04e9a2505c4c25f91fc6dd4f6/raw/726865070677ec7dede17a08095624e0ea35e7cd/biking.csv\", index_col=0)\nfinland_cycling.head(5)",
   "execution_count": null,
   "outputs": [
    {
     "output_type": "execute_result",
     "execution_count": 3,
     "data": {
      "application/vnd.deepnote.dataframe.v2+json": {
       "row_count": 5,
       "column_count": 27,
       "columns": [
        {
         "name": "Year",
         "dtype": "int64",
         "stats": {
          "unique_count": 1,
          "nan_count": 0,
          "min": "2017",
          "max": "2017",
          "histogram": [
           {
            "bin_start": 2016.5,
            "bin_end": 2016.6,
            "count": 0
           },
           {
            "bin_start": 2016.6,
            "bin_end": 2016.7,
            "count": 0
           },
           {
            "bin_start": 2016.7,
            "bin_end": 2016.8,
            "count": 0
           },
           {
            "bin_start": 2016.8,
            "bin_end": 2016.9,
            "count": 0
           },
           {
            "bin_start": 2016.9,
            "bin_end": 2017,
            "count": 0
           },
           {
            "bin_start": 2017,
            "bin_end": 2017.1,
            "count": 5
           },
           {
            "bin_start": 2017.1,
            "bin_end": 2017.2,
            "count": 0
           },
           {
            "bin_start": 2017.2,
            "bin_end": 2017.3,
            "count": 0
           },
           {
            "bin_start": 2017.3,
            "bin_end": 2017.4,
            "count": 0
           },
           {
            "bin_start": 2017.4,
            "bin_end": 2017.5,
            "count": 0
           }
          ]
         }
        },
        {
         "name": "Precipitation amount (mm)",
         "dtype": "float64",
         "stats": {
          "unique_count": 3,
          "nan_count": 0,
          "min": "-1.0",
          "max": "6.6",
          "histogram": [
           {
            "bin_start": -1,
            "bin_end": -0.24,
            "count": 3
           },
           {
            "bin_start": -0.24,
            "bin_end": 0.52,
            "count": 0
           },
           {
            "bin_start": 0.52,
            "bin_end": 1.2800000000000002,
            "count": 0
           },
           {
            "bin_start": 1.2800000000000002,
            "bin_end": 2.04,
            "count": 0
           },
           {
            "bin_start": 2.04,
            "bin_end": 2.8,
            "count": 0
           },
           {
            "bin_start": 2.8,
            "bin_end": 3.5600000000000005,
            "count": 0
           },
           {
            "bin_start": 3.5600000000000005,
            "bin_end": 4.32,
            "count": 0
           },
           {
            "bin_start": 4.32,
            "bin_end": 5.08,
            "count": 1
           },
           {
            "bin_start": 5.08,
            "bin_end": 5.84,
            "count": 0
           },
           {
            "bin_start": 5.84,
            "bin_end": 6.6,
            "count": 1
           }
          ]
         }
        },
        {
         "name": "Snow depth (cm)",
         "dtype": "float64",
         "stats": {
          "unique_count": 4,
          "nan_count": 0,
          "min": "-1.0",
          "max": "13.0",
          "histogram": [
           {
            "bin_start": -1,
            "bin_end": 0.3999999999999999,
            "count": 2
           },
           {
            "bin_start": 0.3999999999999999,
            "bin_end": 1.7999999999999998,
            "count": 0
           },
           {
            "bin_start": 1.7999999999999998,
            "bin_end": 3.1999999999999993,
            "count": 0
           },
           {
            "bin_start": 3.1999999999999993,
            "bin_end": 4.6,
            "count": 0
           },
           {
            "bin_start": 4.6,
            "bin_end": 6,
            "count": 0
           },
           {
            "bin_start": 6,
            "bin_end": 7.399999999999999,
            "count": 1
           },
           {
            "bin_start": 7.399999999999999,
            "bin_end": 8.799999999999999,
            "count": 0
           },
           {
            "bin_start": 8.799999999999999,
            "bin_end": 10.2,
            "count": 1
           },
           {
            "bin_start": 10.2,
            "bin_end": 11.6,
            "count": 0
           },
           {
            "bin_start": 11.6,
            "bin_end": 13,
            "count": 1
           }
          ]
         }
        },
        {
         "name": "Air temperature (degC)",
         "dtype": "float64",
         "stats": {
          "unique_count": 5,
          "nan_count": 0,
          "min": "-17.8",
          "max": "0.6",
          "histogram": [
           {
            "bin_start": -17.8,
            "bin_end": -15.96,
            "count": 1
           },
           {
            "bin_start": -15.96,
            "bin_end": -14.120000000000001,
            "count": 0
           },
           {
            "bin_start": -14.120000000000001,
            "bin_end": -12.28,
            "count": 1
           },
           {
            "bin_start": -12.28,
            "bin_end": -10.44,
            "count": 0
           },
           {
            "bin_start": -10.44,
            "bin_end": -8.6,
            "count": 0
           },
           {
            "bin_start": -8.6,
            "bin_end": -6.759999999999998,
            "count": 0
           },
           {
            "bin_start": -6.759999999999998,
            "bin_end": -4.919999999999998,
            "count": 1
           },
           {
            "bin_start": -4.919999999999998,
            "bin_end": -3.0799999999999983,
            "count": 1
           },
           {
            "bin_start": -3.0799999999999983,
            "bin_end": -1.2399999999999984,
            "count": 0
           },
           {
            "bin_start": -1.2399999999999984,
            "bin_end": 0.6,
            "count": 1
           }
          ]
         }
        },
        {
         "name": "Day",
         "dtype": "int64",
         "stats": {
          "unique_count": 5,
          "nan_count": 0,
          "min": "1",
          "max": "5",
          "histogram": [
           {
            "bin_start": 1,
            "bin_end": 1.4,
            "count": 1
           },
           {
            "bin_start": 1.4,
            "bin_end": 1.8,
            "count": 0
           },
           {
            "bin_start": 1.8,
            "bin_end": 2.2,
            "count": 1
           },
           {
            "bin_start": 2.2,
            "bin_end": 2.6,
            "count": 0
           },
           {
            "bin_start": 2.6,
            "bin_end": 3,
            "count": 0
           },
           {
            "bin_start": 3,
            "bin_end": 3.4000000000000004,
            "count": 1
           },
           {
            "bin_start": 3.4000000000000004,
            "bin_end": 3.8000000000000003,
            "count": 0
           },
           {
            "bin_start": 3.8000000000000003,
            "bin_end": 4.2,
            "count": 1
           },
           {
            "bin_start": 4.2,
            "bin_end": 4.6,
            "count": 0
           },
           {
            "bin_start": 4.6,
            "bin_end": 5,
            "count": 1
           }
          ]
         }
        },
        {
         "name": "Month",
         "dtype": "int64",
         "stats": {
          "unique_count": 1,
          "nan_count": 0,
          "min": "1",
          "max": "1",
          "histogram": [
           {
            "bin_start": 0.5,
            "bin_end": 0.6,
            "count": 0
           },
           {
            "bin_start": 0.6,
            "bin_end": 0.7,
            "count": 0
           },
           {
            "bin_start": 0.7,
            "bin_end": 0.8,
            "count": 0
           },
           {
            "bin_start": 0.8,
            "bin_end": 0.9,
            "count": 0
           },
           {
            "bin_start": 0.9,
            "bin_end": 1,
            "count": 0
           },
           {
            "bin_start": 1,
            "bin_end": 1.1,
            "count": 5
           },
           {
            "bin_start": 1.1,
            "bin_end": 1.2000000000000002,
            "count": 0
           },
           {
            "bin_start": 1.2000000000000002,
            "bin_end": 1.3,
            "count": 0
           },
           {
            "bin_start": 1.3,
            "bin_end": 1.4,
            "count": 0
           },
           {
            "bin_start": 1.4,
            "bin_end": 1.5,
            "count": 0
           }
          ]
         }
        },
        {
         "name": "Hour",
         "dtype": "int64",
         "stats": {
          "unique_count": 1,
          "nan_count": 0,
          "min": "276",
          "max": "276",
          "histogram": [
           {
            "bin_start": 275.5,
            "bin_end": 275.6,
            "count": 0
           },
           {
            "bin_start": 275.6,
            "bin_end": 275.7,
            "count": 0
           },
           {
            "bin_start": 275.7,
            "bin_end": 275.8,
            "count": 0
           },
           {
            "bin_start": 275.8,
            "bin_end": 275.9,
            "count": 0
           },
           {
            "bin_start": 275.9,
            "bin_end": 276,
            "count": 0
           },
           {
            "bin_start": 276,
            "bin_end": 276.1,
            "count": 5
           },
           {
            "bin_start": 276.1,
            "bin_end": 276.2,
            "count": 0
           },
           {
            "bin_start": 276.2,
            "bin_end": 276.3,
            "count": 0
           },
           {
            "bin_start": 276.3,
            "bin_end": 276.4,
            "count": 0
           },
           {
            "bin_start": 276.4,
            "bin_end": 276.5,
            "count": 0
           }
          ]
         }
        },
        {
         "name": "Auroransilta",
         "dtype": "float64",
         "stats": {
          "unique_count": 1,
          "nan_count": 0,
          "min": "0.0",
          "max": "0.0",
          "histogram": [
           {
            "bin_start": -0.5,
            "bin_end": -0.4,
            "count": 0
           },
           {
            "bin_start": -0.4,
            "bin_end": -0.3,
            "count": 0
           },
           {
            "bin_start": -0.3,
            "bin_end": -0.19999999999999996,
            "count": 0
           },
           {
            "bin_start": -0.19999999999999996,
            "bin_end": -0.09999999999999998,
            "count": 0
           },
           {
            "bin_start": -0.09999999999999998,
            "bin_end": 0,
            "count": 0
           },
           {
            "bin_start": 0,
            "bin_end": 0.10000000000000009,
            "count": 5
           },
           {
            "bin_start": 0.10000000000000009,
            "bin_end": 0.20000000000000007,
            "count": 0
           },
           {
            "bin_start": 0.20000000000000007,
            "bin_end": 0.30000000000000004,
            "count": 0
           },
           {
            "bin_start": 0.30000000000000004,
            "bin_end": 0.4,
            "count": 0
           },
           {
            "bin_start": 0.4,
            "bin_end": 0.5,
            "count": 0
           }
          ]
         }
        },
        {
         "name": "Eteläesplanadi",
         "dtype": "float64",
         "stats": {
          "unique_count": 5,
          "nan_count": 0,
          "min": "158.0",
          "max": "419.0",
          "histogram": [
           {
            "bin_start": 158,
            "bin_end": 184.1,
            "count": 1
           },
           {
            "bin_start": 184.1,
            "bin_end": 210.2,
            "count": 1
           },
           {
            "bin_start": 210.2,
            "bin_end": 236.3,
            "count": 1
           },
           {
            "bin_start": 236.3,
            "bin_end": 262.4,
            "count": 0
           },
           {
            "bin_start": 262.4,
            "bin_end": 288.5,
            "count": 1
           },
           {
            "bin_start": 288.5,
            "bin_end": 314.6,
            "count": 0
           },
           {
            "bin_start": 314.6,
            "bin_end": 340.70000000000005,
            "count": 0
           },
           {
            "bin_start": 340.70000000000005,
            "bin_end": 366.8,
            "count": 0
           },
           {
            "bin_start": 366.8,
            "bin_end": 392.9,
            "count": 0
           },
           {
            "bin_start": 392.9,
            "bin_end": 419,
            "count": 1
           }
          ]
         }
        },
        {
         "name": "Huopalahti (asema)",
         "dtype": "float64",
         "stats": {
          "unique_count": 5,
          "nan_count": 0,
          "min": "120.0",
          "max": "540.0",
          "histogram": [
           {
            "bin_start": 120,
            "bin_end": 162,
            "count": 1
           },
           {
            "bin_start": 162,
            "bin_end": 204,
            "count": 0
           },
           {
            "bin_start": 204,
            "bin_end": 246,
            "count": 1
           },
           {
            "bin_start": 246,
            "bin_end": 288,
            "count": 0
           },
           {
            "bin_start": 288,
            "bin_end": 330,
            "count": 0
           },
           {
            "bin_start": 330,
            "bin_end": 372,
            "count": 1
           },
           {
            "bin_start": 372,
            "bin_end": 414,
            "count": 0
           },
           {
            "bin_start": 414,
            "bin_end": 456,
            "count": 1
           },
           {
            "bin_start": 456,
            "bin_end": 498,
            "count": 0
           },
           {
            "bin_start": 498,
            "bin_end": 540,
            "count": 1
           }
          ]
         }
        },
        {
         "name": "Kaisaniemi/Eläintarhanlahti",
         "dtype": "float64",
         "stats": {
          "unique_count": 5,
          "nan_count": 0,
          "min": "124.0",
          "max": "401.0",
          "histogram": [
           {
            "bin_start": 124,
            "bin_end": 151.7,
            "count": 1
           },
           {
            "bin_start": 151.7,
            "bin_end": 179.4,
            "count": 1
           },
           {
            "bin_start": 179.4,
            "bin_end": 207.1,
            "count": 0
           },
           {
            "bin_start": 207.1,
            "bin_end": 234.8,
            "count": 1
           },
           {
            "bin_start": 234.8,
            "bin_end": 262.5,
            "count": 0
           },
           {
            "bin_start": 262.5,
            "bin_end": 290.2,
            "count": 0
           },
           {
            "bin_start": 290.2,
            "bin_end": 317.9,
            "count": 1
           },
           {
            "bin_start": 317.9,
            "bin_end": 345.6,
            "count": 0
           },
           {
            "bin_start": 345.6,
            "bin_end": 373.29999999999995,
            "count": 0
           },
           {
            "bin_start": 373.29999999999995,
            "bin_end": 401,
            "count": 1
           }
          ]
         }
        },
        {
         "name": "Kaivokatu",
         "dtype": "float64",
         "stats": {
          "unique_count": 1,
          "nan_count": 0,
          "min": "0.0",
          "max": "0.0",
          "histogram": [
           {
            "bin_start": -0.5,
            "bin_end": -0.4,
            "count": 0
           },
           {
            "bin_start": -0.4,
            "bin_end": -0.3,
            "count": 0
           },
           {
            "bin_start": -0.3,
            "bin_end": -0.19999999999999996,
            "count": 0
           },
           {
            "bin_start": -0.19999999999999996,
            "bin_end": -0.09999999999999998,
            "count": 0
           },
           {
            "bin_start": -0.09999999999999998,
            "bin_end": 0,
            "count": 0
           },
           {
            "bin_start": 0,
            "bin_end": 0.10000000000000009,
            "count": 5
           },
           {
            "bin_start": 0.10000000000000009,
            "bin_end": 0.20000000000000007,
            "count": 0
           },
           {
            "bin_start": 0.20000000000000007,
            "bin_end": 0.30000000000000004,
            "count": 0
           },
           {
            "bin_start": 0.30000000000000004,
            "bin_end": 0.4,
            "count": 0
           },
           {
            "bin_start": 0.4,
            "bin_end": 0.5,
            "count": 0
           }
          ]
         }
        },
        {
         "name": "Kulosaaren silta et.",
         "dtype": "float64",
         "stats": {
          "unique_count": 2,
          "nan_count": 0,
          "min": "0.0",
          "max": "3.0",
          "histogram": [
           {
            "bin_start": 0,
            "bin_end": 0.3,
            "count": 4
           },
           {
            "bin_start": 0.3,
            "bin_end": 0.6,
            "count": 0
           },
           {
            "bin_start": 0.6,
            "bin_end": 0.8999999999999999,
            "count": 0
           },
           {
            "bin_start": 0.8999999999999999,
            "bin_end": 1.2,
            "count": 0
           },
           {
            "bin_start": 1.2,
            "bin_end": 1.5,
            "count": 0
           },
           {
            "bin_start": 1.5,
            "bin_end": 1.7999999999999998,
            "count": 0
           },
           {
            "bin_start": 1.7999999999999998,
            "bin_end": 2.1,
            "count": 0
           },
           {
            "bin_start": 2.1,
            "bin_end": 2.4,
            "count": 0
           },
           {
            "bin_start": 2.4,
            "bin_end": 2.6999999999999997,
            "count": 0
           },
           {
            "bin_start": 2.6999999999999997,
            "bin_end": 3,
            "count": 1
           }
          ]
         }
        },
        {
         "name": "Kulosaaren silta po. ",
         "dtype": "float64",
         "stats": {
          "unique_count": 5,
          "nan_count": 0,
          "min": "163.0",
          "max": "536.0",
          "histogram": [
           {
            "bin_start": 163,
            "bin_end": 200.3,
            "count": 2
           },
           {
            "bin_start": 200.3,
            "bin_end": 237.6,
            "count": 0
           },
           {
            "bin_start": 237.6,
            "bin_end": 274.9,
            "count": 0
           },
           {
            "bin_start": 274.9,
            "bin_end": 312.2,
            "count": 0
           },
           {
            "bin_start": 312.2,
            "bin_end": 349.5,
            "count": 1
           },
           {
            "bin_start": 349.5,
            "bin_end": 386.79999999999995,
            "count": 0
           },
           {
            "bin_start": 386.79999999999995,
            "bin_end": 424.09999999999997,
            "count": 0
           },
           {
            "bin_start": 424.09999999999997,
            "bin_end": 461.4,
            "count": 1
           },
           {
            "bin_start": 461.4,
            "bin_end": 498.7,
            "count": 0
           },
           {
            "bin_start": 498.7,
            "bin_end": 536,
            "count": 1
           }
          ]
         }
        },
        {
         "name": "Kuusisaarentie",
         "dtype": "float64",
         "stats": {
          "unique_count": 5,
          "nan_count": 0,
          "min": "151.0",
          "max": "375.0",
          "histogram": [
           {
            "bin_start": 151,
            "bin_end": 173.4,
            "count": 2
           },
           {
            "bin_start": 173.4,
            "bin_end": 195.8,
            "count": 0
           },
           {
            "bin_start": 195.8,
            "bin_end": 218.2,
            "count": 0
           },
           {
            "bin_start": 218.2,
            "bin_end": 240.6,
            "count": 0
           },
           {
            "bin_start": 240.6,
            "bin_end": 263,
            "count": 1
           },
           {
            "bin_start": 263,
            "bin_end": 285.4,
            "count": 0
           },
           {
            "bin_start": 285.4,
            "bin_end": 307.79999999999995,
            "count": 0
           },
           {
            "bin_start": 307.79999999999995,
            "bin_end": 330.2,
            "count": 0
           },
           {
            "bin_start": 330.2,
            "bin_end": 352.6,
            "count": 1
           },
           {
            "bin_start": 352.6,
            "bin_end": 375,
            "count": 1
           }
          ]
         }
        },
        {
         "name": "Käpylä, Pohjoisbaana",
         "dtype": "float64",
         "stats": {
          "unique_count": 1,
          "nan_count": 0,
          "min": "0.0",
          "max": "0.0",
          "histogram": [
           {
            "bin_start": -0.5,
            "bin_end": -0.4,
            "count": 0
           },
           {
            "bin_start": -0.4,
            "bin_end": -0.3,
            "count": 0
           },
           {
            "bin_start": -0.3,
            "bin_end": -0.19999999999999996,
            "count": 0
           },
           {
            "bin_start": -0.19999999999999996,
            "bin_end": -0.09999999999999998,
            "count": 0
           },
           {
            "bin_start": -0.09999999999999998,
            "bin_end": 0,
            "count": 0
           },
           {
            "bin_start": 0,
            "bin_end": 0.10000000000000009,
            "count": 5
           },
           {
            "bin_start": 0.10000000000000009,
            "bin_end": 0.20000000000000007,
            "count": 0
           },
           {
            "bin_start": 0.20000000000000007,
            "bin_end": 0.30000000000000004,
            "count": 0
           },
           {
            "bin_start": 0.30000000000000004,
            "bin_end": 0.4,
            "count": 0
           },
           {
            "bin_start": 0.4,
            "bin_end": 0.5,
            "count": 0
           }
          ]
         }
        },
        {
         "name": "Lauttasaaren silta eteläpuoli",
         "dtype": "float64",
         "stats": {
          "unique_count": 5,
          "nan_count": 0,
          "min": "356.0",
          "max": "831.0",
          "histogram": [
           {
            "bin_start": 356,
            "bin_end": 403.5,
            "count": 1
           },
           {
            "bin_start": 403.5,
            "bin_end": 451,
            "count": 1
           },
           {
            "bin_start": 451,
            "bin_end": 498.5,
            "count": 2
           },
           {
            "bin_start": 498.5,
            "bin_end": 546,
            "count": 0
           },
           {
            "bin_start": 546,
            "bin_end": 593.5,
            "count": 0
           },
           {
            "bin_start": 593.5,
            "bin_end": 641,
            "count": 0
           },
           {
            "bin_start": 641,
            "bin_end": 688.5,
            "count": 0
           },
           {
            "bin_start": 688.5,
            "bin_end": 736,
            "count": 0
           },
           {
            "bin_start": 736,
            "bin_end": 783.5,
            "count": 0
           },
           {
            "bin_start": 783.5,
            "bin_end": 831,
            "count": 1
           }
          ]
         }
        },
        {
         "name": "Merikannontie",
         "dtype": "float64",
         "stats": {
          "unique_count": 5,
          "nan_count": 0,
          "min": "223.0",
          "max": "589.0",
          "histogram": [
           {
            "bin_start": 223,
            "bin_end": 259.6,
            "count": 1
           },
           {
            "bin_start": 259.6,
            "bin_end": 296.2,
            "count": 1
           },
           {
            "bin_start": 296.2,
            "bin_end": 332.8,
            "count": 1
           },
           {
            "bin_start": 332.8,
            "bin_end": 369.4,
            "count": 0
           },
           {
            "bin_start": 369.4,
            "bin_end": 406,
            "count": 0
           },
           {
            "bin_start": 406,
            "bin_end": 442.6,
            "count": 0
           },
           {
            "bin_start": 442.6,
            "bin_end": 479.2,
            "count": 1
           },
           {
            "bin_start": 479.2,
            "bin_end": 515.8,
            "count": 0
           },
           {
            "bin_start": 515.8,
            "bin_end": 552.4000000000001,
            "count": 0
           },
           {
            "bin_start": 552.4000000000001,
            "bin_end": 589,
            "count": 1
           }
          ]
         }
        },
        {
         "name": "Munkkiniemen silta eteläpuoli",
         "dtype": "float64",
         "stats": {
          "unique_count": 5,
          "nan_count": 0,
          "min": "168.0",
          "max": "465.0",
          "histogram": [
           {
            "bin_start": 168,
            "bin_end": 197.7,
            "count": 2
           },
           {
            "bin_start": 197.7,
            "bin_end": 227.4,
            "count": 0
           },
           {
            "bin_start": 227.4,
            "bin_end": 257.1,
            "count": 0
           },
           {
            "bin_start": 257.1,
            "bin_end": 286.8,
            "count": 1
           },
           {
            "bin_start": 286.8,
            "bin_end": 316.5,
            "count": 0
           },
           {
            "bin_start": 316.5,
            "bin_end": 346.2,
            "count": 0
           },
           {
            "bin_start": 346.2,
            "bin_end": 375.9,
            "count": 0
           },
           {
            "bin_start": 375.9,
            "bin_end": 405.6,
            "count": 0
           },
           {
            "bin_start": 405.6,
            "bin_end": 435.3,
            "count": 0
           },
           {
            "bin_start": 435.3,
            "bin_end": 465,
            "count": 2
           }
          ]
         }
        },
        {
         "name": "Munkkiniemi silta pohjoispuoli",
         "dtype": "float64",
         "stats": {
          "unique_count": 5,
          "nan_count": 0,
          "min": "95.0",
          "max": "224.0",
          "histogram": [
           {
            "bin_start": 95,
            "bin_end": 107.9,
            "count": 2
           },
           {
            "bin_start": 107.9,
            "bin_end": 120.8,
            "count": 0
           },
           {
            "bin_start": 120.8,
            "bin_end": 133.7,
            "count": 0
           },
           {
            "bin_start": 133.7,
            "bin_end": 146.6,
            "count": 1
           },
           {
            "bin_start": 146.6,
            "bin_end": 159.5,
            "count": 0
           },
           {
            "bin_start": 159.5,
            "bin_end": 172.4,
            "count": 0
           },
           {
            "bin_start": 172.4,
            "bin_end": 185.3,
            "count": 1
           },
           {
            "bin_start": 185.3,
            "bin_end": 198.2,
            "count": 0
           },
           {
            "bin_start": 198.2,
            "bin_end": 211.10000000000002,
            "count": 0
           },
           {
            "bin_start": 211.10000000000002,
            "bin_end": 224,
            "count": 1
           }
          ]
         }
        },
        {
         "name": "Heperian puisto/Ooppera",
         "dtype": "float64",
         "stats": {
          "unique_count": 5,
          "nan_count": 0,
          "min": "249.0",
          "max": "744.0",
          "histogram": [
           {
            "bin_start": 249,
            "bin_end": 298.5,
            "count": 1
           },
           {
            "bin_start": 298.5,
            "bin_end": 348,
            "count": 1
           },
           {
            "bin_start": 348,
            "bin_end": 397.5,
            "count": 0
           },
           {
            "bin_start": 397.5,
            "bin_end": 447,
            "count": 0
           },
           {
            "bin_start": 447,
            "bin_end": 496.5,
            "count": 1
           },
           {
            "bin_start": 496.5,
            "bin_end": 546,
            "count": 0
           },
           {
            "bin_start": 546,
            "bin_end": 595.5,
            "count": 0
           },
           {
            "bin_start": 595.5,
            "bin_end": 645,
            "count": 0
           },
           {
            "bin_start": 645,
            "bin_end": 694.5,
            "count": 1
           },
           {
            "bin_start": 694.5,
            "bin_end": 744,
            "count": 1
           }
          ]
         }
        },
        {
         "name": "Pitkäsilta itäpuoli",
         "dtype": "float64",
         "stats": {
          "unique_count": 5,
          "nan_count": 0,
          "min": "156.0",
          "max": "459.0",
          "histogram": [
           {
            "bin_start": 156,
            "bin_end": 186.3,
            "count": 1
           },
           {
            "bin_start": 186.3,
            "bin_end": 216.6,
            "count": 1
           },
           {
            "bin_start": 216.6,
            "bin_end": 246.9,
            "count": 0
           },
           {
            "bin_start": 246.9,
            "bin_end": 277.2,
            "count": 1
           },
           {
            "bin_start": 277.2,
            "bin_end": 307.5,
            "count": 0
           },
           {
            "bin_start": 307.5,
            "bin_end": 337.8,
            "count": 1
           },
           {
            "bin_start": 337.8,
            "bin_end": 368.1,
            "count": 0
           },
           {
            "bin_start": 368.1,
            "bin_end": 398.4,
            "count": 0
           },
           {
            "bin_start": 398.4,
            "bin_end": 428.7,
            "count": 0
           },
           {
            "bin_start": 428.7,
            "bin_end": 459,
            "count": 1
           }
          ]
         }
        },
        {
         "name": "Pitkäsilta länsipuoli",
         "dtype": "float64",
         "stats": {
          "unique_count": 5,
          "nan_count": 0,
          "min": "107.0",
          "max": "283.0",
          "histogram": [
           {
            "bin_start": 107,
            "bin_end": 124.6,
            "count": 1
           },
           {
            "bin_start": 124.6,
            "bin_end": 142.2,
            "count": 0
           },
           {
            "bin_start": 142.2,
            "bin_end": 159.8,
            "count": 0
           },
           {
            "bin_start": 159.8,
            "bin_end": 177.4,
            "count": 2
           },
           {
            "bin_start": 177.4,
            "bin_end": 195,
            "count": 0
           },
           {
            "bin_start": 195,
            "bin_end": 212.60000000000002,
            "count": 0
           },
           {
            "bin_start": 212.60000000000002,
            "bin_end": 230.20000000000002,
            "count": 1
           },
           {
            "bin_start": 230.20000000000002,
            "bin_end": 247.8,
            "count": 0
           },
           {
            "bin_start": 247.8,
            "bin_end": 265.4,
            "count": 0
           },
           {
            "bin_start": 265.4,
            "bin_end": 283,
            "count": 1
           }
          ]
         }
        },
        {
         "name": "Lauttasaaren silta pohjoispuoli",
         "dtype": "float64",
         "stats": {
          "unique_count": 5,
          "nan_count": 0,
          "min": "150.0",
          "max": "335.0",
          "histogram": [
           {
            "bin_start": 150,
            "bin_end": 168.5,
            "count": 2
           },
           {
            "bin_start": 168.5,
            "bin_end": 187,
            "count": 0
           },
           {
            "bin_start": 187,
            "bin_end": 205.5,
            "count": 1
           },
           {
            "bin_start": 205.5,
            "bin_end": 224,
            "count": 0
           },
           {
            "bin_start": 224,
            "bin_end": 242.5,
            "count": 0
           },
           {
            "bin_start": 242.5,
            "bin_end": 261,
            "count": 0
           },
           {
            "bin_start": 261,
            "bin_end": 279.5,
            "count": 1
           },
           {
            "bin_start": 279.5,
            "bin_end": 298,
            "count": 0
           },
           {
            "bin_start": 298,
            "bin_end": 316.5,
            "count": 0
           },
           {
            "bin_start": 316.5,
            "bin_end": 335,
            "count": 1
           }
          ]
         }
        },
        {
         "name": "Ratapihantie",
         "dtype": "float64",
         "stats": {
          "unique_count": 5,
          "nan_count": 0,
          "min": "103.0",
          "max": "538.0",
          "histogram": [
           {
            "bin_start": 103,
            "bin_end": 146.5,
            "count": 1
           },
           {
            "bin_start": 146.5,
            "bin_end": 190,
            "count": 0
           },
           {
            "bin_start": 190,
            "bin_end": 233.5,
            "count": 1
           },
           {
            "bin_start": 233.5,
            "bin_end": 277,
            "count": 0
           },
           {
            "bin_start": 277,
            "bin_end": 320.5,
            "count": 0
           },
           {
            "bin_start": 320.5,
            "bin_end": 364,
            "count": 1
           },
           {
            "bin_start": 364,
            "bin_end": 407.5,
            "count": 0
           },
           {
            "bin_start": 407.5,
            "bin_end": 451,
            "count": 0
           },
           {
            "bin_start": 451,
            "bin_end": 494.5,
            "count": 1
           },
           {
            "bin_start": 494.5,
            "bin_end": 538,
            "count": 1
           }
          ]
         }
        },
        {
         "name": "Viikintie",
         "dtype": "float64",
         "stats": {
          "unique_count": 1,
          "nan_count": 0,
          "min": "0.0",
          "max": "0.0",
          "histogram": [
           {
            "bin_start": -0.5,
            "bin_end": -0.4,
            "count": 0
           },
           {
            "bin_start": -0.4,
            "bin_end": -0.3,
            "count": 0
           },
           {
            "bin_start": -0.3,
            "bin_end": -0.19999999999999996,
            "count": 0
           },
           {
            "bin_start": -0.19999999999999996,
            "bin_end": -0.09999999999999998,
            "count": 0
           },
           {
            "bin_start": -0.09999999999999998,
            "bin_end": 0,
            "count": 0
           },
           {
            "bin_start": 0,
            "bin_end": 0.10000000000000009,
            "count": 5
           },
           {
            "bin_start": 0.10000000000000009,
            "bin_end": 0.20000000000000007,
            "count": 0
           },
           {
            "bin_start": 0.20000000000000007,
            "bin_end": 0.30000000000000004,
            "count": 0
           },
           {
            "bin_start": 0.30000000000000004,
            "bin_end": 0.4,
            "count": 0
           },
           {
            "bin_start": 0.4,
            "bin_end": 0.5,
            "count": 0
           }
          ]
         }
        },
        {
         "name": "Baana",
         "dtype": "float64",
         "stats": {
          "unique_count": 5,
          "nan_count": 0,
          "min": "218.0",
          "max": "913.0",
          "histogram": [
           {
            "bin_start": 218,
            "bin_end": 287.5,
            "count": 1
           },
           {
            "bin_start": 287.5,
            "bin_end": 357,
            "count": 0
           },
           {
            "bin_start": 357,
            "bin_end": 426.5,
            "count": 1
           },
           {
            "bin_start": 426.5,
            "bin_end": 496,
            "count": 0
           },
           {
            "bin_start": 496,
            "bin_end": 565.5,
            "count": 1
           },
           {
            "bin_start": 565.5,
            "bin_end": 635,
            "count": 0
           },
           {
            "bin_start": 635,
            "bin_end": 704.5,
            "count": 0
           },
           {
            "bin_start": 704.5,
            "bin_end": 774,
            "count": 1
           },
           {
            "bin_start": 774,
            "bin_end": 843.5,
            "count": 0
           },
           {
            "bin_start": 843.5,
            "bin_end": 913,
            "count": 1
           }
          ]
         }
        },
        {
         "name": "_deepnote_index_column",
         "dtype": "int64"
        }
       ],
       "rows_top": [
        {
         "Year": 2017,
         "Precipitation amount (mm)": -1,
         "Snow depth (cm)": -1,
         "Air temperature (degC)": 0.6,
         "Day": 1,
         "Month": 1,
         "Hour": 276,
         "Auroransilta": 0,
         "Eteläesplanadi": 158,
         "Huopalahti (asema)": 120,
         "Kaisaniemi/Eläintarhanlahti": 124,
         "Kaivokatu": 0,
         "Kulosaaren silta et.": 3,
         "Kulosaaren silta po. ": 163,
         "Kuusisaarentie": 151,
         "Käpylä, Pohjoisbaana": 0,
         "Lauttasaaren silta eteläpuoli": 444,
         "Merikannontie": 285,
         "Munkkiniemen silta eteläpuoli": 168,
         "Munkkiniemi silta pohjoispuoli": 107,
         "Heperian puisto/Ooppera": 249,
         "Pitkäsilta itäpuoli": 156,
         "Pitkäsilta länsipuoli": 229,
         "Lauttasaaren silta pohjoispuoli": 155,
         "Ratapihantie": 103,
         "Viikintie": 0,
         "Baana": 218,
         "_deepnote_index_column": 0
        },
        {
         "Year": 2017,
         "Precipitation amount (mm)": 4.4,
         "Snow depth (cm)": -1,
         "Air temperature (degC)": -3.9,
         "Day": 2,
         "Month": 1,
         "Hour": 276,
         "Auroransilta": 0,
         "Eteläesplanadi": 419,
         "Huopalahti (asema)": 540,
         "Kaisaniemi/Eläintarhanlahti": 401,
         "Kaivokatu": 0,
         "Kulosaaren silta et.": 0,
         "Kulosaaren silta po. ": 536,
         "Kuusisaarentie": 375,
         "Käpylä, Pohjoisbaana": 0,
         "Lauttasaaren silta eteläpuoli": 831,
         "Merikannontie": 589,
         "Munkkiniemen silta eteläpuoli": 465,
         "Munkkiniemi silta pohjoispuoli": 224,
         "Heperian puisto/Ooppera": 744,
         "Pitkäsilta itäpuoli": 459,
         "Pitkäsilta länsipuoli": 283,
         "Lauttasaaren silta pohjoispuoli": 335,
         "Ratapihantie": 538,
         "Viikintie": 0,
         "Baana": 913,
         "_deepnote_index_column": 1
        },
        {
         "Year": 2017,
         "Precipitation amount (mm)": 6.6,
         "Snow depth (cm)": 7,
         "Air temperature (degC)": -6.5,
         "Day": 3,
         "Month": 1,
         "Hour": 276,
         "Auroransilta": 0,
         "Eteläesplanadi": 288,
         "Huopalahti (asema)": 445,
         "Kaisaniemi/Eläintarhanlahti": 309,
         "Kaivokatu": 0,
         "Kulosaaren silta et.": 0,
         "Kulosaaren silta po. ": 427,
         "Kuusisaarentie": 349,
         "Käpylä, Pohjoisbaana": 0,
         "Lauttasaaren silta eteläpuoli": 463,
         "Merikannontie": 462,
         "Munkkiniemen silta eteläpuoli": 439,
         "Munkkiniemi silta pohjoispuoli": 178,
         "Heperian puisto/Ooppera": 692,
         "Pitkäsilta itäpuoli": 331,
         "Pitkäsilta länsipuoli": 173,
         "Lauttasaaren silta pohjoispuoli": 263,
         "Ratapihantie": 451,
         "Viikintie": 0,
         "Baana": 725,
         "_deepnote_index_column": 2
        },
        {
         "Year": 2017,
         "Precipitation amount (mm)": -1,
         "Snow depth (cm)": 13,
         "Air temperature (degC)": -12.8,
         "Day": 4,
         "Month": 1,
         "Hour": 276,
         "Auroransilta": 0,
         "Eteläesplanadi": 232,
         "Huopalahti (asema)": 334,
         "Kaisaniemi/Eläintarhanlahti": 211,
         "Kaivokatu": 0,
         "Kulosaaren silta et.": 0,
         "Kulosaaren silta po. ": 324,
         "Kuusisaarentie": 244,
         "Käpylä, Pohjoisbaana": 0,
         "Lauttasaaren silta eteläpuoli": 486,
         "Merikannontie": 309,
         "Munkkiniemen silta eteläpuoli": 267,
         "Munkkiniemi silta pohjoispuoli": 143,
         "Heperian puisto/Ooppera": 480,
         "Pitkäsilta itäpuoli": 250,
         "Pitkäsilta länsipuoli": 164,
         "Lauttasaaren silta pohjoispuoli": 187,
         "Ratapihantie": 324,
         "Viikintie": 0,
         "Baana": 563,
         "_deepnote_index_column": 3
        },
        {
         "Year": 2017,
         "Precipitation amount (mm)": -1,
         "Snow depth (cm)": 10,
         "Air temperature (degC)": -17.8,
         "Day": 5,
         "Month": 1,
         "Hour": 276,
         "Auroransilta": 0,
         "Eteläesplanadi": 195,
         "Huopalahti (asema)": 219,
         "Kaisaniemi/Eläintarhanlahti": 169,
         "Kaivokatu": 0,
         "Kulosaaren silta et.": 0,
         "Kulosaaren silta po. ": 176,
         "Kuusisaarentie": 154,
         "Käpylä, Pohjoisbaana": 0,
         "Lauttasaaren silta eteläpuoli": 356,
         "Merikannontie": 223,
         "Munkkiniemen silta eteläpuoli": 185,
         "Munkkiniemi silta pohjoispuoli": 95,
         "Heperian puisto/Ooppera": 306,
         "Pitkäsilta itäpuoli": 190,
         "Pitkäsilta länsipuoli": 107,
         "Lauttasaaren silta pohjoispuoli": 150,
         "Ratapihantie": 205,
         "Viikintie": 0,
         "Baana": 365,
         "_deepnote_index_column": 4
        }
       ],
       "rows_bottom": null
      },
      "text/plain": "   Year  Precipitation amount (mm)  Snow depth (cm)  Air temperature (degC)  \\\n0  2017                       -1.0             -1.0                     0.6   \n1  2017                        4.4             -1.0                    -3.9   \n2  2017                        6.6              7.0                    -6.5   \n3  2017                       -1.0             13.0                   -12.8   \n4  2017                       -1.0             10.0                   -17.8   \n\n   Day  Month  Hour  Auroransilta  Eteläesplanadi  Huopalahti (asema)  ...  \\\n0    1      1   276           0.0           158.0               120.0  ...   \n1    2      1   276           0.0           419.0               540.0  ...   \n2    3      1   276           0.0           288.0               445.0  ...   \n3    4      1   276           0.0           232.0               334.0  ...   \n4    5      1   276           0.0           195.0               219.0  ...   \n\n   Merikannontie  Munkkiniemen silta eteläpuoli  \\\n0          285.0                          168.0   \n1          589.0                          465.0   \n2          462.0                          439.0   \n3          309.0                          267.0   \n4          223.0                          185.0   \n\n   Munkkiniemi silta pohjoispuoli  Heperian puisto/Ooppera  \\\n0                           107.0                    249.0   \n1                           224.0                    744.0   \n2                           178.0                    692.0   \n3                           143.0                    480.0   \n4                            95.0                    306.0   \n\n   Pitkäsilta itäpuoli  Pitkäsilta länsipuoli  \\\n0                156.0                  229.0   \n1                459.0                  283.0   \n2                331.0                  173.0   \n3                250.0                  164.0   \n4                190.0                  107.0   \n\n   Lauttasaaren silta pohjoispuoli  Ratapihantie  Viikintie  Baana  \n0                            155.0         103.0        0.0  218.0  \n1                            335.0         538.0        0.0  913.0  \n2                            263.0         451.0        0.0  725.0  \n3                            187.0         324.0        0.0  563.0  \n4                            150.0         205.0        0.0  365.0  \n\n[5 rows x 27 columns]",
      "text/html": "<div>\n<style scoped>\n    .dataframe tbody tr th:only-of-type {\n        vertical-align: middle;\n    }\n\n    .dataframe tbody tr th {\n        vertical-align: top;\n    }\n\n    .dataframe thead th {\n        text-align: right;\n    }\n</style>\n<table border=\"1\" class=\"dataframe\">\n  <thead>\n    <tr style=\"text-align: right;\">\n      <th></th>\n      <th>Year</th>\n      <th>Precipitation amount (mm)</th>\n      <th>Snow depth (cm)</th>\n      <th>Air temperature (degC)</th>\n      <th>Day</th>\n      <th>Month</th>\n      <th>Hour</th>\n      <th>Auroransilta</th>\n      <th>Eteläesplanadi</th>\n      <th>Huopalahti (asema)</th>\n      <th>...</th>\n      <th>Merikannontie</th>\n      <th>Munkkiniemen silta eteläpuoli</th>\n      <th>Munkkiniemi silta pohjoispuoli</th>\n      <th>Heperian puisto/Ooppera</th>\n      <th>Pitkäsilta itäpuoli</th>\n      <th>Pitkäsilta länsipuoli</th>\n      <th>Lauttasaaren silta pohjoispuoli</th>\n      <th>Ratapihantie</th>\n      <th>Viikintie</th>\n      <th>Baana</th>\n    </tr>\n  </thead>\n  <tbody>\n    <tr>\n      <th>0</th>\n      <td>2017</td>\n      <td>-1.0</td>\n      <td>-1.0</td>\n      <td>0.6</td>\n      <td>1</td>\n      <td>1</td>\n      <td>276</td>\n      <td>0.0</td>\n      <td>158.0</td>\n      <td>120.0</td>\n      <td>...</td>\n      <td>285.0</td>\n      <td>168.0</td>\n      <td>107.0</td>\n      <td>249.0</td>\n      <td>156.0</td>\n      <td>229.0</td>\n      <td>155.0</td>\n      <td>103.0</td>\n      <td>0.0</td>\n      <td>218.0</td>\n    </tr>\n    <tr>\n      <th>1</th>\n      <td>2017</td>\n      <td>4.4</td>\n      <td>-1.0</td>\n      <td>-3.9</td>\n      <td>2</td>\n      <td>1</td>\n      <td>276</td>\n      <td>0.0</td>\n      <td>419.0</td>\n      <td>540.0</td>\n      <td>...</td>\n      <td>589.0</td>\n      <td>465.0</td>\n      <td>224.0</td>\n      <td>744.0</td>\n      <td>459.0</td>\n      <td>283.0</td>\n      <td>335.0</td>\n      <td>538.0</td>\n      <td>0.0</td>\n      <td>913.0</td>\n    </tr>\n    <tr>\n      <th>2</th>\n      <td>2017</td>\n      <td>6.6</td>\n      <td>7.0</td>\n      <td>-6.5</td>\n      <td>3</td>\n      <td>1</td>\n      <td>276</td>\n      <td>0.0</td>\n      <td>288.0</td>\n      <td>445.0</td>\n      <td>...</td>\n      <td>462.0</td>\n      <td>439.0</td>\n      <td>178.0</td>\n      <td>692.0</td>\n      <td>331.0</td>\n      <td>173.0</td>\n      <td>263.0</td>\n      <td>451.0</td>\n      <td>0.0</td>\n      <td>725.0</td>\n    </tr>\n    <tr>\n      <th>3</th>\n      <td>2017</td>\n      <td>-1.0</td>\n      <td>13.0</td>\n      <td>-12.8</td>\n      <td>4</td>\n      <td>1</td>\n      <td>276</td>\n      <td>0.0</td>\n      <td>232.0</td>\n      <td>334.0</td>\n      <td>...</td>\n      <td>309.0</td>\n      <td>267.0</td>\n      <td>143.0</td>\n      <td>480.0</td>\n      <td>250.0</td>\n      <td>164.0</td>\n      <td>187.0</td>\n      <td>324.0</td>\n      <td>0.0</td>\n      <td>563.0</td>\n    </tr>\n    <tr>\n      <th>4</th>\n      <td>2017</td>\n      <td>-1.0</td>\n      <td>10.0</td>\n      <td>-17.8</td>\n      <td>5</td>\n      <td>1</td>\n      <td>276</td>\n      <td>0.0</td>\n      <td>195.0</td>\n      <td>219.0</td>\n      <td>...</td>\n      <td>223.0</td>\n      <td>185.0</td>\n      <td>95.0</td>\n      <td>306.0</td>\n      <td>190.0</td>\n      <td>107.0</td>\n      <td>150.0</td>\n      <td>205.0</td>\n      <td>0.0</td>\n      <td>365.0</td>\n    </tr>\n  </tbody>\n</table>\n<p>5 rows × 27 columns</p>\n</div>"
     },
     "metadata": {}
    }
   ]
  },
  {
   "cell_type": "code",
   "metadata": {
    "tags": [],
    "cell_id": "00011-6e2e8467-f6be-4947-a062-00082eae4f3a",
    "deepnote_to_be_reexecuted": false,
    "source_hash": "a9958afe",
    "execution_start": 1619990614993,
    "execution_millis": 9,
    "deepnote_cell_type": "code"
   },
   "source": "xlearn = finland_cycling[['Precipitation amount (mm)', 'Snow depth (cm)','Air temperature (degC)']]\nylearn = finland_cycling[['Baana']]\nmodel = LinearRegression(fit_intercept=True)\nmodel.fit(xlearn, ylearn)\nprint(model.coef_[0], \"for 'Precipitation amount (mm)', 'Snow depth (cm)', and 'Air temperature (degC)' respectively\")\nprint(\"score:\", model.score(xlearn,finland_cycling[['Baana']]))",
   "execution_count": null,
   "outputs": [
    {
     "name": "stdout",
     "text": "[-52.17954896 -32.93766861 169.24225037] for 'Precipitation amount (mm)', 'Snow depth (cm)', and 'Air temperature (degC)' respectively\nscore: 0.5750246253469836\n",
     "output_type": "stream"
    }
   ]
  },
  {
   "cell_type": "markdown",
   "source": "# ML Naive Bayes Classification\n\nThis is the next section of the exercises, from: https://csmastersuh.github.io/data_analysis_with_python_2020/bayes.html\n\nIn addition to the reading, I recommend this video: https://www.youtube.com/watch?v=CPqOCI0ahss\n\n\n## Exercise 1: Blob Classification\n\n(**OPTIONAL**) This one is very vague, and they're actually asking you to generate your own test data using the `make_blobs` function from `sklearn`'s `datasets` submodule. I've already started that work for you. But honestly if you want to skip it, I don't think it's a helpful starting question.",
   "metadata": {
    "cell_id": "00011-cc099a8d-a781-49ac-9eaf-e93110555700",
    "deepnote_cell_type": "markdown"
   }
  },
  {
   "cell_type": "code",
   "metadata": {
    "cell_id": "00012-b6ea618d-d739-49fd-a69d-bf7371912218",
    "deepnote_to_be_reexecuted": false,
    "source_hash": "b623e53d",
    "execution_start": 1620009515554,
    "execution_millis": 1,
    "deepnote_cell_type": "code"
   },
   "source": "",
   "execution_count": null,
   "outputs": []
  },
  {
   "cell_type": "markdown",
   "source": "## Exercise 2: Plant Classification\n\nThis is a much better question. The Iris dataset is a classic: https://en.wikipedia.org/wiki/Iris_flower_data_set\n\nThe wikipedia page gives an example of how to load the dataset.",
   "metadata": {
    "cell_id": "00013-da8f9d14-c7ec-4917-9660-88611b3f2d1c",
    "deepnote_cell_type": "markdown"
   }
  },
  {
   "cell_type": "code",
   "metadata": {
    "cell_id": "00014-2378a1fe-e6c7-41bf-b125-44babf513118",
    "deepnote_to_be_reexecuted": false,
    "source_hash": "42a12755",
    "execution_start": 1619996754115,
    "execution_millis": 10,
    "deepnote_cell_type": "code"
   },
   "source": "from sklearn.datasets import load_iris\nfrom sklearn.model_selection import train_test_split\nfrom sklearn import naive_bayes\nfrom sklearn import metrics\n\n\ndef plant_classification():\n    iris = load_iris()\n    X,y = iris.data, iris.target\n    X_train, X_test, y_train, y_test = train_test_split(X, y, test_size=.2, random_state=0)\n    model = naive_bayes.GaussianNB()\n    model.fit(X_train, y_train)\n    y_fitted = model.predict(X_test)\n    return metrics.accuracy_score(y_test, y_fitted)\n\n\ndef main(): \n    print(f\"Accuracy is {plant_classification()}\")\n\n\nif __name__ == \"__main__\": \n    main()\n",
   "execution_count": null,
   "outputs": [
    {
     "name": "stdout",
     "text": "Accuracy is 0.9666666666666667\n",
     "output_type": "stream"
    }
   ]
  },
  {
   "cell_type": "markdown",
   "source": "## Exercise 3: Word Classification\n\n(**Skip**)\n\nThis one is too much. They give some of the data as an XML file. It's an interesting problem, and you can find the data (and solution) [here](https://github.com/AnkS4/hy-data-analysis-with-python-2020/tree/master/part06-e03_word_classification/src) if you want to tackle it, but I'm skipping it.\n",
   "metadata": {
    "cell_id": "00015-8ff9a0a2-3007-4bb6-84e5-7b7e0abebdf3",
    "deepnote_cell_type": "markdown"
   }
  },
  {
   "cell_type": "code",
   "metadata": {
    "cell_id": "00016-03597357-e1ee-4a25-a5b1-4982ee4d172e",
    "deepnote_to_be_reexecuted": false,
    "source_hash": "b623e53d",
    "execution_start": 1619965474261,
    "execution_millis": 5,
    "deepnote_cell_type": "code"
   },
   "source": "",
   "execution_count": null,
   "outputs": []
  },
  {
   "cell_type": "markdown",
   "source": "## Exercise 4: Spam Detection\n\nDownload [ham.txt.gz](https://github.com/AnkS4/hy-data-analysis-with-python-2020/raw/master/part06-e04_spam_detection/src/ham.txt.gz) and [spam.txt.gz](https://github.com/AnkS4/hy-data-analysis-with-python-2020/raw/master/part06-e04_spam_detection/src/spam.txt.gz).\n\nThis one is much more interesting and reasonable. It requires processing some large text files, but that's actually the easiest part, as shown in the code below. The idea is that you have spam (bad emails) and ham (good emails), and you want to determine which is which. I've done similar email processing (detecting job ads for a conference) and I was impressed with how easily I could train a little data and get very good results.",
   "metadata": {
    "cell_id": "00017-8afac085-1be6-4712-8909-aa2fa9e8f676",
    "deepnote_cell_type": "markdown"
   }
  },
  {
   "cell_type": "code",
   "metadata": {
    "cell_id": "00018-1b414bea-a7af-4d8b-a98e-f6e2d48dea67",
    "deepnote_to_be_reexecuted": false,
    "source_hash": "17b3ea53",
    "execution_start": 1620533284032,
    "execution_millis": 63,
    "deepnote_cell_type": "code"
   },
   "source": "import gzip\n\n\nwith gzip.open('spam.txt.gz', 'rb') as spam_file:\n    spam = spam_file.readlines()\n    \nwith gzip.open('ham.txt.gz', 'rb') as ham_file:\n    ham = ham_file.readlines()\nham[0]",
   "execution_count": null,
   "outputs": [
    {
     "output_type": "execute_result",
     "execution_count": 17,
     "data": {
      "text/plain": "b'Subject: Re: New Sequences Window Date: Wed, 21 Aug 2002 10:54:46 -0500 From: Chris Garrigues <cwg-dated-1030377287.06fa6d@DeepEddy.Com> Message-ID: <1029945287.4797.TMDA@deepeddy.vircio.com> | I can\\'t reproduce this error.For me it is very repeatable... (like every time, without fail).This is the debug log of the pick happening ...18:19:03 Pick_It {exec pick +inbox -list -lbrace -lbrace -subject ftp -rbrace -rbrace} {4852-4852 -sequence mercury}18:19:03 exec pick +inbox -list -lbrace -lbrace -subject ftp -rbrace -rbrace 4852-4852 -sequence mercury18:19:04 Ftoc_PickMsgs {{1 hit}}18:19:04 Marking 1 hits18:19:04 tkerror: syntax error in expression \"int ...Note, if I run the pick command by hand ...delta$ pick +inbox -list -lbrace -lbrace -subject ftp -rbrace -rbrace 4852-4852 -sequence mercury1 hitThat\\'s where the \"1 hit\" comes from (obviously). The version of nmh I\\'musing is ...delta$ pick -versionpick -- nmh-1.0.4 [compiled on fuchsia.cs.mu.OZ.AU at Sun Mar 17 14:55:56 ICT 2002]And the relevant part of my .mh_profile ...delta$ mhparam pick-seq sel -listSince the pick command works, the sequence (actually, both of them, theone that\\'s explicit on the command line, from the search popup, and theone that comes from .mh_profile) do get created.kreps: this is still using the version of the code form a day ago, I haven\\'tbeen able to reach the cvs repository today (local routing issue I think)._______________________________________________Exmh-workers mailing listExmh-workers@redhat.comhttps://listman.redhat.com/mailman/listinfo/exmh-workers\\n'"
     },
     "metadata": {}
    }
   ]
  },
  {
   "cell_type": "code",
   "metadata": {
    "tags": [],
    "cell_id": "00021-721220c4-ab7f-45d4-abe1-bfe983593b6c",
    "deepnote_to_be_reexecuted": false,
    "source_hash": "4dbe45a8",
    "execution_start": 1620536471825,
    "execution_millis": 424,
    "deepnote_cell_type": "code"
   },
   "source": "from sklearn.feature_extraction.text import CountVectorizer\nfrom sklearn.model_selection import train_test_split\nfrom sklearn.naive_bayes import MultinomialNB\nimport numpy as  np\n\nfraction = .5\nspam_cut = spam[:int(fraction * len(spam))]\nham_cut = ham[:int(fraction * len(ham))]\nX_full = spam_cut + ham_cut\nlabels = np.zeros(len(X_full))\nlabels[len(ham_cut):] = 1\nvec=CountVectorizer()\nfeatures = vec.fit_transform(X_full)\n\nprint(\"Type of feature matrix:\", type(features))\n#print(features[0, :])\nx_train, x_test, y_train, y_test = train_test_split(features, labels, train_size=0.75, random_state=True)\n\n#training\nmodel = MultinomialNB()\nmodel.fit(x_train, y_train)\npred = model.predict(x_test)\nprint(\"Accuracy score is\", accuracy_score(y_test, pred))",
   "execution_count": null,
   "outputs": [
    {
     "name": "stdout",
     "text": "Type of feature matrix: <class 'scipy.sparse.csr.csr_matrix'>\nAccuracy score is 0.9146666666666666\n",
     "output_type": "stream"
    }
   ]
  },
  {
   "cell_type": "code",
   "metadata": {
    "tags": [],
    "cell_id": "00022-fe98d71f-5888-4a66-9c47-bd175ff8cf1f",
    "deepnote_to_be_reexecuted": false,
    "source_hash": "2437cfa5",
    "execution_start": 1620531504285,
    "execution_millis": 1330,
    "deepnote_cell_type": "code"
   },
   "source": "from sklearn.feature_extraction.text import CountVectorizer\nfrom sklearn.pipeline import make_pipeline\n\n\ncategories = ['comp.graphics', 'rec.autos', 'sci.electronics', 'sci.crypt']\ntrain = fetch_20newsgroups(subset='train', categories=categories)\ntest = fetch_20newsgroups(subset='test', categories=categories)\n\n#model = make_pipeline(TfidfVectorizer(), MultinomialNB())\nmodel = make_pipeline(CountVectorizer(), MultinomialNB())\nmodel.fit(train.data, train.target)\nlabels_fitted = model.predict(test.data)\nprint(\"Accuracy score is\", accuracy_score(labels_fitted, test.target))",
   "execution_count": null,
   "outputs": [
    {
     "name": "stdout",
     "text": "Accuracy score is 0.920584498094028\n",
     "output_type": "stream"
    }
   ]
  },
  {
   "cell_type": "code",
   "metadata": {
    "tags": [],
    "cell_id": "00023-255a8535-7bae-48a7-817b-c6c6766f7020",
    "deepnote_cell_type": "code"
   },
   "source": "vec = CountVectorizer()\n",
   "execution_count": null,
   "outputs": []
  },
  {
   "cell_type": "markdown",
   "source": "# ML Clustering\n\nThis is the last section: https://csmastersuh.github.io/data_analysis_with_python_2020/clustering.html\n\nThis section is one of the most interesting in my opinion. K-Means is a pretty straightforward tool, and is really worth learning how to use it.",
   "metadata": {
    "cell_id": "00019-f4c30216-918a-40e1-961c-21a195346594",
    "deepnote_cell_type": "markdown"
   }
  },
  {
   "cell_type": "markdown",
   "source": "## Exercise 5: Plant Clustering\n\nSame deal as before; use the IRIS dataset. Since this has so many parameters, it can be tricky to make a good visualization.",
   "metadata": {
    "cell_id": "00020-bee30c0a-a28b-4254-9236-739d872fa2e7",
    "deepnote_cell_type": "markdown"
   }
  },
  {
   "cell_type": "markdown",
   "source": "**Learning Example - random blobs**",
   "metadata": {
    "tags": [],
    "cell_id": "00025-6e6098c9-e1ca-4e47-81d0-ab61a4b578ad",
    "deepnote_cell_type": "markdown"
   }
  },
  {
   "cell_type": "code",
   "metadata": {
    "tags": [],
    "cell_id": "00025-e9600efa-30fe-49b0-8c5e-94f92229b5a6",
    "deepnote_to_be_reexecuted": false,
    "source_hash": "11258f99",
    "execution_start": 1622191933481,
    "execution_millis": 200,
    "deepnote_cell_type": "code"
   },
   "source": "from sklearn.datasets import make_blobs\nX, y = make_blobs(n_samples=200, centers=4, cluster_std=.7, random_state=0)\nplt.scatter(X[:, 0], X[:, 1])",
   "execution_count": 4,
   "outputs": [
    {
     "output_type": "execute_result",
     "execution_count": 4,
     "data": {
      "text/plain": "<matplotlib.collections.PathCollection at 0x7f35babb5850>"
     },
     "metadata": {}
    },
    {
     "data": {
      "text/plain": "<Figure size 432x288 with 1 Axes>",
      "image/png": "[encoded data removed]"
     },
     "metadata": {
      "needs_background": "light",
      "image/png": {
       "width": 362,
       "height": 248
      }
     },
     "output_type": "display_data"
    }
   ]
  },
  {
   "cell_type": "code",
   "metadata": {
    "cell_id": "00021-3f85f5e2-f9f0-4f90-9b54-200d3e501de9",
    "deepnote_to_be_reexecuted": false,
    "source_hash": "972b3035",
    "execution_start": 1622191939524,
    "execution_millis": 385,
    "deepnote_cell_type": "code"
   },
   "source": "from sklearn.cluster import KMeans\nmodel = KMeans(4)\nmodel.fit(X)\nprint(model.cluster_centers_)",
   "execution_count": 5,
   "outputs": [
    {
     "name": "stdout",
     "text": "[[ 2.07464749  0.9869902 ]\n [-1.36512238  7.70188306]\n [ 0.86008475  4.31501411]\n [-1.70639178  2.9104771 ]]\n",
     "output_type": "stream"
    }
   ]
  },
  {
   "cell_type": "code",
   "metadata": {
    "tags": [],
    "cell_id": "00027-d0e40eeb-f159-4868-84de-e46fa5500d20",
    "deepnote_to_be_reexecuted": false,
    "source_hash": "63357aaf",
    "execution_start": 1622191943664,
    "execution_millis": 205,
    "deepnote_cell_type": "code"
   },
   "source": "plt.scatter(X[:, 0], X[:, 1], c = model.labels_)",
   "execution_count": 6,
   "outputs": [
    {
     "output_type": "execute_result",
     "execution_count": 6,
     "data": {
      "text/plain": "<matplotlib.collections.PathCollection at 0x7f35b803c850>"
     },
     "metadata": {}
    },
    {
     "data": {
      "text/plain": "<Figure size 432x288 with 1 Axes>",
      "image/png": "[encoded data removed]"
     },
     "metadata": {
      "needs_background": "light",
      "image/png": {
       "width": 362,
       "height": 248
      }
     },
     "output_type": "display_data"
    }
   ]
  },
  {
   "cell_type": "markdown",
   "source": "**With Handwritten Numbers **",
   "metadata": {
    "tags": [],
    "cell_id": "00029-a4b792ff-9a48-4206-876e-e87605b184c5",
    "deepnote_cell_type": "markdown"
   }
  },
  {
   "cell_type": "code",
   "metadata": {
    "tags": [],
    "cell_id": "00029-3bac316a-d68f-4f85-99db-d05090c6bb77",
    "deepnote_to_be_reexecuted": false,
    "source_hash": "57ddfc1",
    "execution_start": 1622151703545,
    "execution_millis": 995,
    "deepnote_cell_type": "code"
   },
   "source": "from sklearn.datasets import load_digits\ndig = load_digits()\nprint(dig.data.shape)\nfig, axes = plt.subplots(2, 5)\nfor axes, digit in zip(axes.flat, dig.data[:10]): \n    axes.imshow(digit.reshape(8, 8), cmap='gray') ",
   "execution_count": null,
   "outputs": [
    {
     "name": "stdout",
     "text": "(1797, 64)\n",
     "output_type": "stream"
    },
    {
     "data": {
      "text/plain": "<Figure size 432x288 with 10 Axes>",
      "image/png": "[encoded data removed]"
     },
     "metadata": {
      "needs_background": "light",
      "image/png": {
       "width": 362,
       "height": 208
      }
     },
     "output_type": "display_data"
    }
   ]
  },
  {
   "cell_type": "code",
   "metadata": {
    "tags": [],
    "cell_id": "00031-7fbc1c29-95fa-46c1-9134-1f8eb109b95c",
    "deepnote_to_be_reexecuted": false,
    "source_hash": "cfb6b7e",
    "execution_start": 1622152058103,
    "execution_millis": 810,
    "deepnote_cell_type": "code"
   },
   "source": "model = KMeans(n_clusters=10, random_state=0)\nmodel.fit(dig.data)\nmodel.cluster_centers_.shape",
   "execution_count": null,
   "outputs": [
    {
     "output_type": "execute_result",
     "execution_count": 13,
     "data": {
      "text/plain": "(10, 64)"
     },
     "metadata": {}
    }
   ]
  },
  {
   "cell_type": "code",
   "metadata": {
    "tags": [],
    "cell_id": "00032-b898cc9f-4357-4c4c-ba35-c5a01511cd69",
    "deepnote_to_be_reexecuted": false,
    "source_hash": "18f28d2b",
    "execution_start": 1622152113453,
    "execution_millis": 619,
    "deepnote_cell_type": "code"
   },
   "source": "fig, axes = plt.subplots(2,5, subplot_kw=dict(xticks=[], yticks=[]))\nfor ax, digit in zip(axes.flat, model.cluster_centers_):\n    ax.imshow(digit.reshape(8,8), cmap=\"gray\")\n",
   "execution_count": null,
   "outputs": [
    {
     "data": {
      "text/plain": "<Figure size 432x288 with 10 Axes>",
      "image/png": "[encoded data removed]"
     },
     "metadata": {
      "image/png": {
       "width": 352,
       "height": 194
      }
     },
     "output_type": "display_data"
    }
   ]
  },
  {
   "cell_type": "markdown",
   "source": "**IRIS Dataset**",
   "metadata": {
    "tags": [],
    "cell_id": "00033-1d926294-f39d-4ff1-8fd4-7bcd5d726484",
    "deepnote_cell_type": "markdown"
   }
  },
  {
   "cell_type": "code",
   "metadata": {
    "tags": [],
    "cell_id": "00032-a6c1dff5-28d3-4946-b8e2-9dd15359f4f1",
    "deepnote_to_be_reexecuted": false,
    "source_hash": "c3101e1",
    "execution_start": 1622192710253,
    "execution_millis": 15,
    "deepnote_cell_type": "code"
   },
   "source": "from sklearn.datasets import load_iris\nfrom sklearn.metrics import accuracy_score\n\n\ndef find_permutation(n_clusters, real_labels, labels):\n    permutation=[]\n    for i in range(n_clusters):\n        idx = labels == i\n        new_label=scipy.stats.mode(real_labels[idx])[0][0]  # Choose the most common label among data points in the cluster\n        permutation.append(new_label)\n    return permutation\n\niris = load_iris()\nflowers = iris.data\ny = iris.target\nprint(flowers.shape)\nmodel = KMeans(3, random_state = 0)\nmodel.fit(flowers)\nprint(model.cluster_centers_.shape)\npermutation = find_permutation(3, y, model.labels_ )\nnew_labels = [ permutation[label] for label in model.labels_] \nprint(\"Accuracy score is\", accuracy_score(y, new_labels))\n\n\n\n\n",
   "execution_count": 17,
   "outputs": [
    {
     "name": "stdout",
     "text": "(150, 4)\n(3, 4)\nAccuracy score is 0.8933333333333333\n",
     "output_type": "stream"
    }
   ]
  },
  {
   "cell_type": "markdown",
   "source": "## Exercise 6: Non-convex Clusters\n\nThe data for this question is [here](https://raw.githubusercontent.com/AnkS4/hy-data-analysis-with-python-2020/master/part06-e06_nonconvex_clusters/src/data.tsv).\n\nThis one shows off a different clustering algorithm ([`DBSCAN`](https://scikit-learn.org/stable/modules/generated/sklearn.cluster.DBSCAN.html)), which is \"Good for data which contains clusters of similar density\". I wasn't very familiar with DBSCAN, but it does seem much better than KMeans. It doesn't require you to figure out the number of clusters, and seems to be tricked less by unusual data. [This page](https://www.kdnuggets.com/2020/04/dbscan-clustering-algorithm-machine-learning.html) was very helpful in breaking that difference down.\n\nThe reference answer uses a `for` loop and `np.arange` to try `e` values from 0.05 to 0.2 in 0.05 increments, but I don't mind if you just manually try some different `e` values.\n\nPlease do make a visualization with clusters colored, since I think that really highlights what we are doing!",
   "metadata": {
    "cell_id": "00022-d6b44510-9fca-449e-8a04-85f26d4aa137",
    "deepnote_cell_type": "markdown"
   }
  },
  {
   "cell_type": "code",
   "metadata": {
    "tags": [],
    "cell_id": "00024-00d911f2-63e6-415e-8954-9e023beadad5",
    "deepnote_to_be_reexecuted": false,
    "source_hash": "9cc4da1d",
    "execution_start": 1620011746359,
    "execution_millis": 9,
    "deepnote_cell_type": "code"
   },
   "source": "from sklearn.datasets import make_moons\nX,y = make_moons(200, noise=0.05, random_state=0)\nX.shape",
   "execution_count": null,
   "outputs": [
    {
     "output_type": "execute_result",
     "execution_count": 116,
     "data": {
      "text/plain": "(200, 2)"
     },
     "metadata": {}
    }
   ]
  },
  {
   "cell_type": "code",
   "metadata": {
    "cell_id": "00023-28fd868b-3e21-413a-ae3f-fa3ddba96a4e",
    "deepnote_to_be_reexecuted": false,
    "source_hash": "207c0bc",
    "execution_start": 1622192776573,
    "execution_millis": 1149,
    "deepnote_cell_type": "code"
   },
   "source": "from sklearn.cluster import DBSCAN\nfrom sklearn.metrics import accuracy_score\n\ndef find_permutation(n_clusters, real_labels, labels):\n    permutation = []\n    for i in range(n_clusters): \n        idx = labels == i\n        new_label = scipy.stats.mode(real_labels[idx])[0][0]\n        permutation.append(new_label)\n    return permutation\n\n\ndf = pd.read_csv(\"https://raw.githubusercontent.com/AnkS4/hy-data-analysis-with-python-2020/master/part06-e06_nonconvex_clusters/src/data.tsv\", sep=\"\\t\")\nX = df[[\"X1\", \"X2\"]]\ny = df[\"y\"]\nX.plot.scatter('X1', 'X2')\nplt.show()\nresults = []\nfor e in np.arange(.05, .2, .05): \n    model = DBSCAN(e)\n    model.fit(X)\n    idx = model.labels_ == -1\n    outliers = np.sum(idx)\n    clusters = max(model.labels_) + 1\n    if clusters == len(y.unique()): \n        permutation = find_permutation(clusters, y, model.labels_)\n        score = accuracy_score(y[~idx], [permutation[label] for label in model.labels_[~idx]])\n        X.plot.scatter('X1', 'X2', c=model.labels_)\n        plt.show()\n    else:\n        score = np.nan\n    \n    results.append([e, score, clusters, outliers])\nresult = pd.DataFrame(data = results, columns = [\"eps\", \"Score\", \"Clusters\", \"Outliers\"], dtype = \"float64\") \nprint(idx)\n\nprint(result)\nprint(result.shape)\n",
   "execution_count": 18,
   "outputs": [
    {
     "data": {
      "text/plain": "<Figure size 432x288 with 1 Axes>",
      "image/png": "[encoded data removed]"
     },
     "metadata": {
      "needs_background": "light",
      "image/png": {
       "width": 394,
       "height": 262
      }
     },
     "output_type": "display_data"
    },
    {
     "data": {
      "text/plain": "<Figure size 432x288 with 1 Axes>",
      "image/png": "[encoded data removed]"
     },
     "metadata": {
      "needs_background": "light",
      "image/png": {
       "width": 394,
       "height": 262
      }
     },
     "output_type": "display_data"
    },
    {
     "data": {
      "text/plain": "<Figure size 432x288 with 1 Axes>",
      "image/png": "[encoded data removed]"
     },
     "metadata": {
      "needs_background": "light",
      "image/png": {
       "width": 394,
       "height": 262
      }
     },
     "output_type": "display_data"
    },
    {
     "name": "stdout",
     "text": "[False False False ... False False False]\n    eps  Score  Clusters  Outliers\n0  0.05    NaN      12.0     118.0\n1  0.10    1.0       2.0       3.0\n2  0.15    1.0       2.0       0.0\n3  0.20    NaN       1.0       0.0\n(4, 4)\n",
     "output_type": "stream"
    }
   ]
  },
  {
   "cell_type": "code",
   "metadata": {
    "tags": [],
    "cell_id": "00025-21c9bb5d-b1e8-4862-b73b-95af3f117718",
    "deepnote_to_be_reexecuted": false,
    "source_hash": "b623e53d",
    "execution_start": 1620012936163,
    "execution_millis": 2,
    "deepnote_cell_type": "code"
   },
   "source": "",
   "execution_count": null,
   "outputs": []
  },
  {
   "cell_type": "markdown",
   "source": "## Exercise 7: Binding Sites\n\nDownload the [`data.seq` file](https://raw.githubusercontent.com/AnkS4/hy-data-analysis-with-python-2020/master/part06-e07_binding_sites/src/data.seq); note that it is just a plain textual data file, despite the fancy extension.\n\nThey ask you to define `get_features_and_labels` to accept a filename, even though there's only one test file. Up to you if you want to hardcode the file path in or make it a flexible function.\n\nThere are multiple parts here, and they ask you to compare the euclidean and hamming distance. I think it's worth thinking about - if you don't get what they mean, do ask!",
   "metadata": {
    "cell_id": "00024-cc1f0249-21b9-4c40-995c-dc50c03e0c8b",
    "deepnote_cell_type": "markdown"
   }
  },
  {
   "cell_type": "code",
   "source": "import seaborn as sns; sns.set(color_codes=True)\niris = sns.load_dataset(\"iris\")\nspecies = iris.pop(\"species\")   # Remove the species column\nprint(species.unique())         # The samples seems to be from these three species\nsns.clustermap(iris, method=\"ward\", col_cluster=False, cbar_kws={'label': 'centimeters'}); # Cluster only the rows\n#plt.colorbar().ax.set_title('This is a title')\n#plt.gca().images[-1].colorbar.ax.set_title(\"title\")",
   "metadata": {
    "tags": [],
    "cell_id": "00040-c3ec21c2-8766-4217-bef8-09b3764bb45b",
    "deepnote_to_be_reexecuted": false,
    "source_hash": "98d46fa4",
    "execution_start": 1622194677997,
    "execution_millis": 2783,
    "deepnote_cell_type": "code"
   },
   "outputs": [
    {
     "name": "stdout",
     "text": "['setosa' 'versicolor' 'virginica']\n",
     "output_type": "stream"
    },
    {
     "data": {
      "text/plain": "<Figure size 720x720 with 4 Axes>",
      "image/png": "[encoded data removed]"
     },
     "metadata": {
      "image/png": {
       "width": 708,
       "height": 708
      }
     },
     "output_type": "display_data"
    }
   ],
   "execution_count": 19
  },
  {
   "cell_type": "code",
   "metadata": {
    "tags": [],
    "cell_id": "00028-33542812-11ff-49ec-9641-0c1ab320781f",
    "deepnote_to_be_reexecuted": false,
    "source_hash": "b1a61d46",
    "execution_start": 1622197514108,
    "execution_millis": 937,
    "deepnote_cell_type": "code"
   },
   "source": "from sklearn.cluster import AgglomerativeClustering\nfrom sklearn.metrics import pairwise_distances\n\n\ndef toint(x): \n    return 'ACGT'.find(x)\n\ndef get_features_and_labels(filename):\n\tdf = pd.read_csv(filename, sep=\"\\t\")\n\tX = [[toint(j) for j in i] for i in df[\"X\"]]\n\treturn (np.array(X), df.y) #df[[\"y\"]]\n\ndef cluster_euclidean(filename):\n\tX, y = get_features_and_labels(filename)\n\tmodel = AgglomerativeClustering(linkage=\"average\", affinity=\"euclidean\").fit(X)\n\tpermutation = find_permutation(2, y, model.labels_)\n\t#d = pairwise_distances(X, metric=\"euclidean\")\n\t#plot(d, \"average\", \"euclidean\")\n\treturn accuracy_score(y, [permutation[label] for label in model.labels_])\n\ndef cluster_hamming(filename):\n\tX, y = get_features_and_labels(filename)\n\td = pairwise_distances(X, metric=\"hamming\")\n\tmodel = AgglomerativeClustering(linkage=\"average\", affinity=\"precomputed\").fit(d)\n\tpermutation = find_permutation(2, y, model.labels_)\n\t#plot(d, \"average\", \"hamming\")\n\treturn accuracy_score(y, [permutation[label] for label in model.labels_])\n\n\nprint(\"Accuracy score with Euclidean affinity is\", cluster_euclidean(\"https://raw.githubusercontent.com/AnkS4/hy-data-analysis-with-python-2020/master/part06-e07_binding_sites/src/data.seq\"))\nprint(\"Accuracy score with Hamming affinity is\", cluster_hamming(\"https://raw.githubusercontent.com/AnkS4/hy-data-analysis-with-python-2020/master/part06-e07_binding_sites/src/data.seq\"))\n",
   "execution_count": 27,
   "outputs": [
    {
     "name": "stdout",
     "text": "Accuracy score with Euclidean affinity is 0.9895\nAccuracy score with Hamming affinity is 0.9985\n",
     "output_type": "stream"
    }
   ]
  },
  {
   "cell_type": "code",
   "source": "",
   "metadata": {
    "tags": [],
    "cell_id": "00042-4f2f47f3-7a8b-4d91-a6b6-eeccdc14bbcd",
    "deepnote_cell_type": "code"
   },
   "outputs": [],
   "execution_count": null
  },
  {
   "cell_type": "markdown",
   "source": "<a style='text-decoration:none;line-height:16px;display:flex;color:#5B5B62;padding:10px;justify-content:end;' href='https://deepnote.com?utm_source=created-in-deepnote-cell&projectId=9ea525f1-fb07-4483-8155-7008ddf960c7' target=\"_blank\">\n<img alt='Created in deepnote.com' style='display:inline;max-height:16px;margin:0px;margin-right:7.5px;' src='data:image/svg+xml;base64,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' > </img>\nCreated in <span style='font-weight:600;margin-left:4px;'>Deepnote</span></a>",
   "metadata": {
    "tags": [],
    "created_in_deepnote_cell": true,
    "deepnote_cell_type": "markdown"
   }
  }
 ],
 "nbformat": 4,
 "nbformat_minor": 5,
 "metadata": {
  "kernelspec": {
   "display_name": "Python 3",
   "language": "python",
   "name": "python3"
  },
  "language_info": {
   "codemirror_mode": {
    "name": "ipython",
    "version": 3
   },
   "file_extension": ".py",
   "mimetype": "text/x-python",
   "name": "python",
   "nbconvert_exporter": "python",
   "pygments_lexer": "ipython3",
   "version": "3.9.1"
  },
  "deepnote_notebook_id": "0162416e-8175-4eb3-a4a3-325d80db6772",
  "deepnote": {},
  "deepnote_execution_queue": []
 }
}