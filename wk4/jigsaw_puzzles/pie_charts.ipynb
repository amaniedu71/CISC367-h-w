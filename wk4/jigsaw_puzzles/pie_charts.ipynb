{
  "nbformat": 4,
  "nbformat_minor": 0,
  "metadata": {
    "kernelspec": {
      "display_name": "Python 3",
      "language": "python",
      "name": "python3"
    },
    "language_info": {
      "codemirror_mode": {
        "name": "ipython",
        "version": 3
      },
      "file_extension": ".py",
      "mimetype": "text/x-python",
      "name": "python",
      "nbconvert_exporter": "python",
      "pygments_lexer": "ipython3",
      "version": "3.9.1"
    },
    "colab": {
      "name": "pie_charts.ipynb",
      "provenance": []
    }
  },
  "cells": [
    {
      "cell_type": "markdown",
      "metadata": {
        "id": "qnvug-lDsREf"
      },
      "source": [
        "# Pie Charts\n",
        "\n",
        "**Teammates: Miles Simpson, Blake Silver, Kristina Holsapple**\n",
        "\n",
        "### What is a pie chart?\n",
        "A pie chart is a type of graph in which a circle is divided into sectors that each represent a proportion of the whole. \n",
        "\n",
        "### <span style=\"color:green\">**Think about it...**</span>\n",
        "\n",
        "**When you come across text in green take some time to write an answer to the questions before reading on!**\n"
      ]
    },
    {
      "cell_type": "markdown",
      "metadata": {
        "id": "DpVeG96YsRFn"
      },
      "source": [
        ""
      ]
    },
    {
      "cell_type": "markdown",
      "metadata": {
        "id": "UfxnPydssRFo"
      },
      "source": [
        "Where have you seen pie charts used in the past?"
      ]
    },
    {
      "cell_type": "markdown",
      "metadata": {
        "id": "fTdrxg2hsRFp"
      },
      "source": [
        "In TV, in the politics section of the news to visualize percentage votes. "
      ]
    },
    {
      "cell_type": "markdown",
      "metadata": {
        "id": "tX1A0eyDsRFp"
      },
      "source": [
        "______"
      ]
    },
    {
      "cell_type": "markdown",
      "metadata": {
        "id": "-uJenzTBsRFs"
      },
      "source": [
        "### What are pie charts used for? \n",
        "- Pie charts represent data as part of a whole set\n",
        "- Pie charts show percentages - the entire circle represents 100%\n",
        "- Pie charts are best when one has 2 - 5 data points that are significantly different\n",
        "\n",
        "#### <span style=\"color:green\">What is an example of data that would be well represented with a pie chart?</span>"
      ]
    },
    {
      "cell_type": "markdown",
      "metadata": {
        "id": "XJijMiz4sRFs"
      },
      "source": [
        "Percentage of money used to buy different items."
      ]
    },
    {
      "cell_type": "markdown",
      "metadata": {
        "id": "LNZxdrbYsRFt"
      },
      "source": [
        "______"
      ]
    },
    {
      "cell_type": "markdown",
      "metadata": {
        "id": "vVwvggMpsRFt"
      },
      "source": [
        "### What are mistakes people make with pie charts?\n",
        "**BEWARE: Pie charts are controversial! Some people don't like pie charts because they can be challenging to read and understand if not thoughtfully made. Here are some challenges and mistakes regarding pie charts.**\n",
        "- Pie  charts communicate percentage of a whole but don't always well-represent magnitude of data\n",
        "- Not organizing pie chart slices from largest to smallest in one direction\n",
        "- Using too many slices \n",
        "    - rule of thumb: don't use a pie chart with more than 5 slices\n",
        "- Using 3D pie charts\n",
        "    - these are confusing and don't help represent data any better than a 2D pie chart\n",
        "- Making multiple pie charts to compare to each other\n",
        "    - comparing pie charts is overwhelming and not visually appealing\n",
        "    \n",
        "#### <span style=\"color:green\">Run the following code to make two basic pie charts. Which pie chart is easier to read? Why?</span>\n",
        "   "
      ]
    },
    {
      "cell_type": "code",
      "metadata": {
        "colab": {
          "base_uri": "https://localhost:8080/",
          "height": 479
        },
        "id": "g4w6IKDJsRFu",
        "outputId": "e19bdb08-4c61-47eb-e7cc-d078781afa1c"
      },
      "source": [
        "import pandas as pd\n",
        "import numpy as np\n",
        "import matplotlib.pyplot as plt\n",
        "data1 = np.array([5, 12, 17, 20])\n",
        "data2 = np.array([1, 1, 1, 4, 5, 7, 8, 12, 15, 16, 22, 23, 24])\n",
        "plt.pie(data1)\n",
        "plt.show()\n",
        "plt.pie(data2)\n",
        "plt.show()"
      ],
      "execution_count": 2,
      "outputs": [
        {
          "output_type": "display_data",
          "data": {
            "image/png": "[encoded data removed]",
            "text/plain": [
              "<Figure size 432x288 with 1 Axes>"
            ]
          },
          "metadata": {
            "tags": []
          }
        },
        {
          "output_type": "display_data",
          "data": {
            "image/png": "[encoded data removed]",
            "text/plain": [
              "<Figure size 432x288 with 1 Axes>"
            ]
          },
          "metadata": {
            "tags": []
          }
        }
      ]
    },
    {
      "cell_type": "markdown",
      "metadata": {
        "id": "4_cNLdUJsRFw"
      },
      "source": [
        "#### <span style=\"color:green\">Which pie chart is easier to visually comprehend? Why do you think so?</span>\n",
        "   \n",
        "_______"
      ]
    },
    {
      "cell_type": "markdown",
      "metadata": {
        "id": "vEzltqdcsRFx"
      },
      "source": [
        "The one with only 4 slices"
      ]
    },
    {
      "cell_type": "markdown",
      "metadata": {
        "id": "Xk3imLhZsRFx"
      },
      "source": [
        "### What do pie charts look like in Python?\n",
        "Run the following code to see what a pie chart looks like in Python"
      ]
    },
    {
      "cell_type": "code",
      "metadata": {
        "colab": {
          "base_uri": "https://localhost:8080/",
          "height": 387
        },
        "id": "bN71KIyIsRFy",
        "outputId": "741e0bda-7b7c-4df1-9ae0-fa2b3f1860b3"
      },
      "source": [
        "colors_data = [10, 23, 35]\n",
        "df = pd.DataFrame(colors_data, index=['Red', 'Yellow', 'Blue'], columns=['Num Votes'])\n",
        "print(df.head())\n",
        "df.plot.pie(y='Num Votes', colors=['red', 'yellow', 'cornflowerblue'], figsize=(5, 5), title=\"Favorite Colors of Class of 2021\", legend=False, autopct='%.1f%%', fontsize=15)\n",
        "plt.show()"
      ],
      "execution_count": 32,
      "outputs": [
        {
          "output_type": "stream",
          "text": [
            "        Num Votes\n",
            "Red            10\n",
            "Yellow         23\n",
            "Blue           35\n"
          ],
          "name": "stdout"
        },
        {
          "output_type": "display_data",
          "data": {
            "image/png": "[encoded data removed]",
            "text/plain": [
              "<Figure size 360x360 with 1 Axes>"
            ]
          },
          "metadata": {
            "tags": []
          }
        }
      ]
    },
    {
      "cell_type": "markdown",
      "metadata": {
        "id": "pCw2zMXesRFy"
      },
      "source": [
        "____"
      ]
    },
    {
      "cell_type": "markdown",
      "metadata": {
        "id": "86-QubFRsRFz"
      },
      "source": [
        "### What code do we use to generate pie charts?\n",
        "Let's unpack the code from above and expand on it. \n",
        "\n",
        "First: create a list named `colors_data` that represent the number of votes per color. \n",
        "``` python\n",
        "colors_data = [10, 23, 35]\n",
        "```\n",
        "\n",
        "Second: create a Pandas DataFrame passing in `colors_data` as the data, naming the index (rows) 'Red', 'Yellow', and 'Blue' to represent the color of each row, and naming the column 'Num Votes'.\n",
        "\n",
        "``` python\n",
        "df = pd.DataFrame(colors_data, index=['Red', 'Yellow', 'Blue'], columns=['Num Votes'])\n",
        "```\n",
        "\n",
        "Finally, call `df.plot.pie()` to draw the graph. \n",
        "\n",
        "Let's unpack each parameter. `y` is the column or label of the data in the DataFrame to be plotted in the pie chart. \n",
        "\n",
        "`colors` represents which color each row's slice will be in the chart.\n",
        "\n",
        "`figsize` indicates the size of the plot in inches `(width, height)`\n",
        "\n",
        "`title` is the title of the graph. Make sure it's descriptive and matches the data!\n",
        "\n",
        "`legend` is set to False. If set to True, a legend will be created. It was not necessary in this instance because the label of each slice is descriptive. \n",
        "\n",
        "`autopct` displays each slice's percentage using Python string formatting. \n",
        "\n",
        "`fontsize` indicates the size of the font on the graph.\n",
        "\n",
        "``` python\n",
        "df.plot.pie(y='Num Votes', colors=['red', 'yellow', 'cornflowerblue'], figsize=(5,5), title=\"Favorite Colors of Class of 2021\", legend=False, autopct='%1.1f%%', fontsize=15)\n",
        "```\n",
        "\n",
        "# Question\n",
        "\n",
        "Provided is a list of number of votes. The votes represent the answer to a poll: Which weekend day is better, Saturday or Sunday? </span>\n",
        "\n",
        "Make a Pandas DataFrame representing this data and plot it as a pie chart. Make Saturday's slice green and Sunday's slice orange.</span>"
      ]
    },
    {
      "cell_type": "code",
      "metadata": {
        "colab": {
          "base_uri": "https://localhost:8080/",
          "height": 265
        },
        "id": "wNnr2fKcsRF0",
        "outputId": "1ca9f477-68dd-4aa6-8a59-9c09d9860712"
      },
      "source": [
        "# list of votes\n",
        "weekend_votes = [100, 133]\n",
        "votes = pd.DataFrame(weekend_votes, columns=['votes'], index =['Saturday', 'Sunday'])\n",
        "votes.plot.pie(y = 'votes', autopct = \"%0.1f%%\", fontsize = 15, colors=[\"green\", \"orange\"],legend=False )\n",
        "# Make Pandas DataFrame\n",
        "# Make plot"
      ],
      "execution_count": 37,
      "outputs": [
        {
          "output_type": "execute_result",
          "data": {
            "text/plain": [
              "<matplotlib.axes._subplots.AxesSubplot at 0x7f3534846a50>"
            ]
          },
          "metadata": {
            "tags": []
          },
          "execution_count": 37
        },
        {
          "output_type": "display_data",
          "data": {
            "image/png": "[encoded data removed]",
            "text/plain": [
              "<Figure size 432x288 with 1 Axes>"
            ]
          },
          "metadata": {
            "tags": []
          }
        }
      ]
    },
    {
      "cell_type": "markdown",
      "metadata": {
        "id": "n40Kx_iVsRF0"
      },
      "source": [
        "### What are some alternative visualizations to pie chart?\n",
        "- percentage bar chart\n",
        "- bar chart\n",
        "    - A bar chart solves the issue of not showing the magnitude of the values in question (you can see specifically how many each of value there are)\n",
        "    - This still allows you to see the values compared to each other, in a likely more intuitive way of viewing"
      ]
    },
    {
      "cell_type": "markdown",
      "metadata": {
        "id": "1gUjOdLIsRF1"
      },
      "source": [
        "### What are some major variations of a pie chart?\n",
        "- donut chart\n",
        "    - A [donut chart](https://datavizcatalogue.com/methods/donut_chart.html) is very similar to a pie chart, but has arcs within a circle instead of slices of pie\n",
        "    - To some viewers, they are an easier way to interpret the data \n",
        "- exploded pie chart\n",
        "    - An exploded pie chart emphaizes (or explodes, heh) one specfic sector of the pie\n",
        "    - This allows the viewer to focus on one piece of data that could be especially compelling\n",
        "\n"
      ]
    }
  ]
}