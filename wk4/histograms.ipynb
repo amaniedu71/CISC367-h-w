{
  "nbformat": 4,
  "nbformat_minor": 5,
  "metadata": {
    "kernelspec": {
      "display_name": "Python 3",
      "language": "python",
      "name": "python3"
    },
    "language_info": {
      "codemirror_mode": {
        "name": "ipython",
        "version": 3
      },
      "file_extension": ".py",
      "mimetype": "text/x-python",
      "name": "python",
      "nbconvert_exporter": "python",
      "pygments_lexer": "ipython3",
      "version": "3.9.1"
    },
    "colab": {
      "name": "histograms.ipynb",
      "provenance": []
    }
  },
  "cells": [
    {
      "cell_type": "markdown",
      "metadata": {
        "id": "extensive-savage"
      },
      "source": [
        "# Histograms\n",
        "\n",
        "**Teammates: Julianna Dorsch, Michael Carr, Ben Raymon**\n",
        "\n",
        "### What is a Histogram?\n",
        "A histogram is a visual representation of the frequencies of elements in certain ranges for a variable in a given dataset.  It consists of bars whose height give the frequency of the data. The y-axis of a histogram represents the frequency, and the x-axis represents the type of data.\n",
        "\n",
        "Histograms are used to plot numerical data, for example, grades on an English test. In the histogram below, a bar represents the number of students with a grade that falls within the range of the bin. For example, there are aproximately 12-13 students with test scores between 40 and 50 points.\n",
        "\n",
        "![image.png](https://www.softschools.com/math/topics/images/the_histogram_img1.jpg)\n",
        "\n",
        "\n",
        "### Key Characteristics\n",
        "* Counts frequency of variable\n",
        "* Equally spaced bins\n",
        "* Visual representation of quantitative / numerical data \n",
        "\n",
        "### Purposes of Histograms\n",
        "* Easily identify and analyze distribution of variable\n",
        "* Identify center, shape, and spread\n",
        "\n",
        "### Deficiencies of Histograms\n",
        "* Unable to identify singular data points due to aggregated nature\n",
        "* Does not provide specific statistics such as the mean, median, or standard deviation\n",
        "* Histograms can provide different interpretations for the same dataset depending on how many bins are used\n",
        "\n",
        "### Common Mistakes - Bar Charts\n",
        "A bar chart and a histogram look very similar to one another. There are a few major differences between the two visualizations\n",
        "* Visually, the bars in a histogram are touching each other. The bars in a bar chart have space between them.\n",
        "* A histogram is used to graph quantitative data while a bar chart is used for categorical data. \n",
        "* Another easy way to distinguish them would be the x axis. Since a histogram is for quantitative data, the x-axis will be a range of numbers. On the other hand, the x-axis of a bar chart will most likely look like a list of words or some other form of categories. "
      ],
      "id": "extensive-savage"
    },
    {
      "cell_type": "markdown",
      "metadata": {
        "id": "vanilla-franchise"
      },
      "source": [
        "## Histograms in Python\n",
        "\n",
        "##### There are many libraries that allow for plotting histograms in Python. Three of the most common include Matplotlib, Seaborn and Pandas\n",
        "\n",
        "Before we can plot in any library, we need a set of data"
      ],
      "id": "vanilla-franchise"
    },
    {
      "cell_type": "code",
      "metadata": {
        "colab": {
          "base_uri": "https://localhost:8080/"
        },
        "id": "quick-sharing",
        "outputId": "1126f2d3-f484-4993-f738-3064af0f9390"
      },
      "source": [
        "import numpy as np\n",
        "#create a set of 100 normally distributed data points, with mean 60 and standard deviation of 10\n",
        "temps = np.random.normal(60, 10, 100) \n",
        "temps.mean()"
      ],
      "id": "quick-sharing",
      "execution_count": 2,
      "outputs": [
        {
          "output_type": "execute_result",
          "data": {
            "text/plain": [
              "61.24451770774121"
            ]
          },
          "metadata": {
            "tags": []
          },
          "execution_count": 2
        }
      ]
    },
    {
      "cell_type": "markdown",
      "metadata": {
        "id": "radio-picking"
      },
      "source": [
        "#### Matplotlib"
      ],
      "id": "radio-picking"
    },
    {
      "cell_type": "code",
      "metadata": {
        "colab": {
          "base_uri": "https://localhost:8080/",
          "height": 295
        },
        "id": "perceived-knight",
        "outputId": "60711d2d-a075-4f1f-9b0a-c45ff78c42dc"
      },
      "source": [
        "import matplotlib.pyplot as plt\n",
        "\n",
        "plt.hist(temps) \n",
        "plt.title(\"Temperatures\")\n",
        "plt.xlabel(\"Temperature\")\n",
        "plt.ylabel(\"Frequency\")\n",
        "plt.show()"
      ],
      "id": "perceived-knight",
      "execution_count": 3,
      "outputs": [
        {
          "output_type": "display_data",
          "data": {
            "image/png": "[encoded data removed]",
            "text/plain": [
              "<Figure size 432x288 with 1 Axes>"
            ]
          },
          "metadata": {
            "tags": [],
            "needs_background": "light"
          }
        }
      ]
    },
    {
      "cell_type": "markdown",
      "metadata": {
        "id": "signed-arlington"
      },
      "source": [
        "#### Seaborn"
      ],
      "id": "signed-arlington"
    },
    {
      "cell_type": "code",
      "metadata": {
        "colab": {
          "base_uri": "https://localhost:8080/",
          "height": 295
        },
        "id": "major-unemployment",
        "outputId": "2e4e996f-230f-43ae-8465-8dc6e8e4b45a"
      },
      "source": [
        "import seaborn as sns\n",
        "#notice that you can use matplotlib to set the titles still\n",
        "sns.histplot(temps)\n",
        "plt.title(\"Temperatures\")\n",
        "plt.xlabel(\"Temperature\")\n",
        "plt.ylabel(\"Frequency\")\n",
        "plt.show()"
      ],
      "id": "major-unemployment",
      "execution_count": 4,
      "outputs": [
        {
          "output_type": "display_data",
          "data": {
            "image/png": "[encoded data removed]",
            "text/plain": [
              "<Figure size 432x288 with 1 Axes>"
            ]
          },
          "metadata": {
            "tags": [],
            "needs_background": "light"
          }
        }
      ]
    },
    {
      "cell_type": "markdown",
      "metadata": {
        "id": "improved-convenience"
      },
      "source": [
        "#### Pandas\n",
        "\n",
        "In pandas, you must first make a dataframe with the data set. A histogram can then be generated from your dataframe."
      ],
      "id": "improved-convenience"
    },
    {
      "cell_type": "code",
      "metadata": {
        "colab": {
          "base_uri": "https://localhost:8080/",
          "height": 295
        },
        "id": "viral-deposit",
        "outputId": "1305b6e6-f2de-458a-96a7-ba464b5f60fe"
      },
      "source": [
        "import pandas as pd\n",
        "#once again, use matplotlib to set axis labels and titles\n",
        "temp = pd.DataFrame(temps)\n",
        "temp.hist()\n",
        "plt.title(\"Temperatures\")\n",
        "plt.xlabel(\"Temperature\")\n",
        "plt.ylabel(\"Frequency\")\n",
        "plt.show()"
      ],
      "id": "viral-deposit",
      "execution_count": 5,
      "outputs": [
        {
          "output_type": "display_data",
          "data": {
            "image/png": "[encoded data removed]",
            "text/plain": [
              "<Figure size 432x288 with 1 Axes>"
            ]
          },
          "metadata": {
            "tags": [],
            "needs_background": "light"
          }
        }
      ]
    },
    {
      "cell_type": "markdown",
      "metadata": {
        "id": "underlying-canada"
      },
      "source": [
        "### Bins"
      ],
      "id": "underlying-canada"
    },
    {
      "cell_type": "markdown",
      "metadata": {
        "id": "radical-printer"
      },
      "source": [
        "The default for all of the methods above is to make a histogram with 10 bins if there is enough data.  If you want to change the number of bins, you can do so by the following:"
      ],
      "id": "radical-printer"
    },
    {
      "cell_type": "markdown",
      "metadata": {
        "id": "interim-maine"
      },
      "source": [
        "#### Matplotlib"
      ],
      "id": "interim-maine"
    },
    {
      "cell_type": "code",
      "metadata": {
        "colab": {
          "base_uri": "https://localhost:8080/",
          "height": 295
        },
        "id": "liked-message",
        "outputId": "096ea824-74a0-4ca3-cc03-6c96ee225702"
      },
      "source": [
        "plt.hist(temps, bins = 8)\n",
        "plt.title(\"Temperatures\")\n",
        "plt.xlabel(\"Temperature\")\n",
        "plt.ylabel(\"Frequency\")\n",
        "plt.show()"
      ],
      "id": "liked-message",
      "execution_count": 8,
      "outputs": [
        {
          "output_type": "display_data",
          "data": {
            "image/png": "[encoded data removed]",
            "text/plain": [
              "<Figure size 432x288 with 1 Axes>"
            ]
          },
          "metadata": {
            "tags": [],
            "needs_background": "light"
          }
        }
      ]
    },
    {
      "cell_type": "markdown",
      "metadata": {
        "id": "associate-basis"
      },
      "source": [
        "#### Seaborn"
      ],
      "id": "associate-basis"
    },
    {
      "cell_type": "code",
      "metadata": {
        "colab": {
          "base_uri": "https://localhost:8080/",
          "height": 295
        },
        "id": "attempted-scratch",
        "outputId": "e9aa634b-97bb-48ee-ce42-73353a323ece"
      },
      "source": [
        "sns.histplot(temps, bins = 8)\n",
        "plt.title(\"Temperatures\")\n",
        "plt.xlabel(\"Temperature\")\n",
        "plt.ylabel(\"Frequency\")\n",
        "plt.show()"
      ],
      "id": "attempted-scratch",
      "execution_count": 9,
      "outputs": [
        {
          "output_type": "display_data",
          "data": {
            "image/png": "[encoded data removed]",
            "text/plain": [
              "<Figure size 432x288 with 1 Axes>"
            ]
          },
          "metadata": {
            "tags": [],
            "needs_background": "light"
          }
        }
      ]
    },
    {
      "cell_type": "markdown",
      "metadata": {
        "id": "informed-chassis"
      },
      "source": [
        "#### Pandas"
      ],
      "id": "informed-chassis"
    },
    {
      "cell_type": "code",
      "metadata": {
        "colab": {
          "base_uri": "https://localhost:8080/",
          "height": 295
        },
        "id": "square-connecticut",
        "outputId": "6ca53140-5b1b-4c9e-a31d-7bda881d40a7"
      },
      "source": [
        "temp.hist(bins = 4)\n",
        "plt.title(\"Temperatures\")\n",
        "plt.xlabel(\"Temperature\")\n",
        "plt.ylabel(\"Frequency\")\n",
        "plt.show()"
      ],
      "id": "square-connecticut",
      "execution_count": 10,
      "outputs": [
        {
          "output_type": "display_data",
          "data": {
            "image/png": "[encoded data removed]",
            "text/plain": [
              "<Figure size 432x288 with 1 Axes>"
            ]
          },
          "metadata": {
            "tags": [],
            "needs_background": "light"
          }
        }
      ]
    },
    {
      "cell_type": "markdown",
      "metadata": {
        "id": "olive-appraisal"
      },
      "source": [
        "## Exercises"
      ],
      "id": "olive-appraisal"
    },
    {
      "cell_type": "markdown",
      "metadata": {
        "id": "outside-keyboard"
      },
      "source": [
        "### True/False"
      ],
      "id": "outside-keyboard"
    },
    {
      "cell_type": "markdown",
      "metadata": {
        "id": "advisory-hormone"
      },
      "source": [
        "1. One can easily identify what the exact mean and standard deviation are for the dataset based solely on the histogram."
      ],
      "id": "advisory-hormone"
    },
    {
      "cell_type": "markdown",
      "metadata": {
        "id": "roman-rebate"
      },
      "source": [
        "    Answer: False"
      ],
      "id": "roman-rebate"
    },
    {
      "cell_type": "markdown",
      "metadata": {
        "id": "suitable-cursor"
      },
      "source": [
        "2. A histogram's bins must all be the same size."
      ],
      "id": "suitable-cursor"
    },
    {
      "cell_type": "markdown",
      "metadata": {
        "id": "cross-mechanism"
      },
      "source": [
        "    Answer: True"
      ],
      "id": "cross-mechanism"
    },
    {
      "cell_type": "markdown",
      "metadata": {
        "id": "shared-malta"
      },
      "source": [
        "3. The shape of a histogram will always look the same if the data is the same."
      ],
      "id": "shared-malta"
    },
    {
      "cell_type": "markdown",
      "metadata": {
        "id": "theoretical-hazard"
      },
      "source": [
        "    Answer: False, depends on bins"
      ],
      "id": "theoretical-hazard"
    },
    {
      "cell_type": "markdown",
      "metadata": {
        "id": "formal-broad"
      },
      "source": [
        "### Plotting"
      ],
      "id": "formal-broad"
    },
    {
      "cell_type": "markdown",
      "metadata": {
        "id": "german-heath"
      },
      "source": [
        "Plot the following data using each library. Set 15 bins for matplotlib, 8 bins for seaborn, and 4 for pandas.\n",
        "\n",
        "Make the title be \"Distribution of Salaries\" with a y-axis of \"Frequency\" and an x-axis called \"Salary (in $1000)\" "
      ],
      "id": "german-heath"
    },
    {
      "cell_type": "code",
      "metadata": {
        "id": "widespread-partner"
      },
      "source": [
        "l1 = np.random.normal(20, 15, 50)\n",
        "l2 = np.random.normal(80, 15, 50)\n",
        "sal = np.concatenate([l1, l2])"
      ],
      "id": "widespread-partner",
      "execution_count": 11,
      "outputs": []
    },
    {
      "cell_type": "markdown",
      "metadata": {
        "id": "uniform-bhutan"
      },
      "source": [
        "#### Matplotlib"
      ],
      "id": "uniform-bhutan"
    },
    {
      "cell_type": "code",
      "metadata": {
        "colab": {
          "base_uri": "https://localhost:8080/",
          "height": 295
        },
        "id": "available-action",
        "outputId": "5f83a8d7-57cd-4270-8b82-975f3c055172"
      },
      "source": [
        "# Put code here\n",
        "plt.hist(sal, bins = 15)\n",
        "plt.title(\"Distribution of Salaries\")\n",
        "plt.xlabel(\"Salary (in $1000)\")\n",
        "plt.ylabel(\"Frequency\")\n",
        "plt.show()\n"
      ],
      "id": "available-action",
      "execution_count": 13,
      "outputs": [
        {
          "output_type": "display_data",
          "data": {
            "image/png": "[encoded data removed]",
            "text/plain": [
              "<Figure size 432x288 with 1 Axes>"
            ]
          },
          "metadata": {
            "tags": [],
            "needs_background": "light"
          }
        }
      ]
    },
    {
      "cell_type": "markdown",
      "metadata": {
        "id": "therapeutic-grave"
      },
      "source": [
        "#### Seaborn"
      ],
      "id": "therapeutic-grave"
    },
    {
      "cell_type": "code",
      "metadata": {
        "colab": {
          "base_uri": "https://localhost:8080/",
          "height": 295
        },
        "id": "desperate-retreat",
        "outputId": "0afb19bb-fa90-4717-c8ea-9dda65ff8cfc"
      },
      "source": [
        "# Put code here\n",
        "sns.histplot(sal, bins = 8)\n",
        "plt.title(\"Distribution of Salaries\")\n",
        "plt.xlabel(\"Salary (in $1000)\")\n",
        "plt.ylabel(\"Frequency\")\n",
        "plt.show()"
      ],
      "id": "desperate-retreat",
      "execution_count": 15,
      "outputs": [
        {
          "output_type": "display_data",
          "data": {
            "image/png": "[encoded data removed]",
            "text/plain": [
              "<Figure size 432x288 with 1 Axes>"
            ]
          },
          "metadata": {
            "tags": [],
            "needs_background": "light"
          }
        }
      ]
    },
    {
      "cell_type": "markdown",
      "metadata": {
        "id": "ongoing-soccer"
      },
      "source": [
        "#### Pandas"
      ],
      "id": "ongoing-soccer"
    },
    {
      "cell_type": "code",
      "metadata": {
        "colab": {
          "base_uri": "https://localhost:8080/",
          "height": 295
        },
        "id": "administrative-subject",
        "outputId": "32ef519b-3193-45d7-a66d-919a33b9e495"
      },
      "source": [
        "# Put code here\n",
        "df = pd.DataFrame(sal)\n",
        "df.plot.hist(bins = 4)\n",
        "plt.title(\"Distribution of Salaries\")\n",
        "plt.xlabel(\"Salary (in $1000)\")\n",
        "plt.ylabel(\"Frequency\")\n",
        "plt.show()"
      ],
      "id": "administrative-subject",
      "execution_count": 18,
      "outputs": [
        {
          "output_type": "display_data",
          "data": {
            "image/png": "[encoded data removed]",
            "text/plain": [
              "<Figure size 432x288 with 1 Axes>"
            ]
          },
          "metadata": {
            "tags": [],
            "needs_background": "light"
          }
        }
      ]
    },
    {
      "cell_type": "markdown",
      "metadata": {
        "id": "accessible-dietary"
      },
      "source": [
        "What did you notice changed as the number of bins changed? What do you think is the best number of bins to use for this data of the provided options?"
      ],
      "id": "accessible-dietary"
    },
    {
      "cell_type": "markdown",
      "metadata": {
        "id": "integral-polish"
      },
      "source": [
        "The graph changed as the number of bins changed. 15 bins seems like a good number to visualize the distribution. "
      ],
      "id": "integral-polish"
    }
  ]
}