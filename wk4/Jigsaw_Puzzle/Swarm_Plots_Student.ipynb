{
  "nbformat": 4,
  "nbformat_minor": 0,
  "metadata": {
    "colab": {
      "name": "Swarm_Plots_Student.ipynb",
      "provenance": [],
      "collapsed_sections": [],
      "include_colab_link": true
    },
    "kernelspec": {
      "name": "python3",
      "display_name": "Python 3"
    }
  },
  "cells": [
    {
      "cell_type": "markdown",
      "metadata": {
        "id": "view-in-github",
        "colab_type": "text"
      },
      "source": [
        "<a href=\"https://colab.research.google.com/github/amaniedu71/CISC367-h-w/blob/main/wk4/Jigsaw_Puzzle/Swarm_Plots_Student.ipynb\" target=\"_parent\"><img src=\"https://colab.research.google.com/assets/colab-badge.svg\" alt=\"Open In Colab\"/></a>"
      ]
    },
    {
      "cell_type": "markdown",
      "metadata": {
        "id": "bJvizmGubfnS"
      },
      "source": [
        "##<center>Swarm Plots Lesson</center>\n",
        "####<center>*Manasvi Malepati, Amani Arman Kiruga, Caleb Davis*</center>\n",
        "\n",
        "####Our Resources:\n",
        "[Seaborn Blog Post](https://datasoups.blogspot.com/2018/10/seaborn-stripswarm-violin-plots.html])\n",
        "\n",
        "[Alex Gude Blog Post](https://alexgude.com/blog/distribution-plots/#:~:text=Swarm%20Plots%2C%20also%20called%20beeswarm,instead%20of%20adding%20random%20jitter.)\n",
        "\n",
        "[Broadway Dataset](https://corgis-edu.github.io/corgis/csv/broadway/)\n",
        "\n",
        "####What are Strip and Swarm plots and what are they used for?\n",
        "Strip and swarm (or beeswarm) plots are two types of visualization plots that focus on the distribution of a dataset. Both plots depict the points in the data set between a categorical and numeric variables. The x-axis contains the different categories within the categorical variable and the y-axis presents a scale for the numeric variable. The overall image can seem like a combination between a histogram and a scatter plot, with hundreds of points displaying an image of the dataset's distribution.\n",
        "\n",
        "####How do we use Strip and Swarm plots?\n",
        "First, we need to import the necessary libraries (Pandas, Seaborn, MatPlotLib and NumPy):"
      ]
    },
    {
      "cell_type": "code",
      "metadata": {
        "id": "4_HWC7LZPYy4"
      },
      "source": [
        "import pandas as pd\n",
        "import matplotlib.pyplot as plt\n",
        "import numpy as np\n",
        "import seaborn as sns\n",
        "\n",
        "\n",
        "\n"
      ],
      "execution_count": 2,
      "outputs": []
    },
    {
      "cell_type": "markdown",
      "metadata": {
        "id": "szmSinX1bjQ8"
      },
      "source": [
        "Then, load the data. We will be using the [Broadway](https://corgis-edu.github.io/corgis/csv/broadway/) dataset from the CORGIS collection. The comment below contains the different columns within the dataset and their descriptions. We renamed the column names underneath and shortened the dataset to only contain the first 1000 rows in order to speed up plot generation."
      ]
    },
    {
      "cell_type": "code",
      "metadata": {
        "id": "hCN6np4hRGWq",
        "colab": {
          "base_uri": "https://localhost:8080/"
        },
        "outputId": "8deaa545-4618-419f-868b-08eca1c7de69"
      },
      "source": [
        "'''\n",
        "Date.Day\tInteger\tThe day of the month that this performance's week ended on.\t26\n",
        "Date.Full\tString\tThe full date representation that this performance's week ended on in \"Month/Day/Year\" format.\t\"8/26/1990\"\n",
        "Date.Month\tInteger\tThe numeric month that this performance's week ended in (1 = January, 2 = February, etc.).\t8\n",
        "Date.Year\tInteger\tThe year that this week of performances occurred in.\t1990\n",
        "Show.Name\tString\tThe name of the production.\t\"Tru\"\n",
        "Show.Theatre\tString\tThe name of the theatre.\t\"Booth\"\n",
        "Show.Type\tString\tWhether it is a \"Musical\", \"Play\", or \"Special\".\t\"Play\"\n",
        "Statistics.Attendance\tInteger\tThe total number of people who attended performances over the week.\t5500\n",
        "Statistics.Capacity\tInteger\tThe percentage of the theatre that was filled during that week.\t88\n",
        "Statistics.Gross\tInteger\tThe \"Gross Gross\" of this performance, or how much it made in total across the entire week. Measured in dollars.\t134456\n",
        "Statistics.Gross Potential\tInteger\tThe Gross Potential is the maximum amount an engagement can possibly earn based on calculations involving ticket prices, seating capacity, and the number of performances. This number is expressed here as a percentage of what could have been achieved (Gross Gross / Gross Potential). In case the GP could not be calculated, it was replaced with 0%.\t0\n",
        "Statistics.Performances\n",
        "'''\n",
        "\n",
        "\n",
        "broadway_url = \"https://raw.githubusercontent.com/corgis-edu/corgis/master/source/broadway/broadway-corgis.csv\"\n",
        "#Renamed columns and reading only first 1000 rows\n",
        "df = pd.read_csv(broadway_url, names=['Day', 'Date_Full', 'Month', 'Year', 'Name', 'Theatre', 'Type', 'Attendance', 'Capacity', 'Gross', 'Gross Potential', 'Performance'], nrows=1000)\n",
        "#dimensions\n",
        "df.shape"
      ],
      "execution_count": 3,
      "outputs": [
        {
          "output_type": "execute_result",
          "data": {
            "text/plain": [
              "(1000, 12)"
            ]
          },
          "metadata": {
            "tags": []
          },
          "execution_count": 3
        }
      ]
    },
    {
      "cell_type": "code",
      "metadata": {
        "colab": {
          "base_uri": "https://localhost:8080/",
          "height": 359
        },
        "id": "ha41fUW-RS0z",
        "outputId": "191602e0-361b-4cee-d8e5-7afe6a407803"
      },
      "source": [
        "df.head(10)"
      ],
      "execution_count": 4,
      "outputs": [
        {
          "output_type": "execute_result",
          "data": {
            "text/html": [
              "<div>\n",
              "<style scoped>\n",
              "    .dataframe tbody tr th:only-of-type {\n",
              "        vertical-align: middle;\n",
              "    }\n",
              "\n",
              "    .dataframe tbody tr th {\n",
              "        vertical-align: top;\n",
              "    }\n",
              "\n",
              "    .dataframe thead th {\n",
              "        text-align: right;\n",
              "    }\n",
              "</style>\n",
              "<table border=\"1\" class=\"dataframe\">\n",
              "  <thead>\n",
              "    <tr style=\"text-align: right;\">\n",
              "      <th></th>\n",
              "      <th>Day</th>\n",
              "      <th>Date_Full</th>\n",
              "      <th>Month</th>\n",
              "      <th>Year</th>\n",
              "      <th>Name</th>\n",
              "      <th>Theatre</th>\n",
              "      <th>Type</th>\n",
              "      <th>Attendance</th>\n",
              "      <th>Capacity</th>\n",
              "      <th>Gross</th>\n",
              "      <th>Gross Potential</th>\n",
              "      <th>Performance</th>\n",
              "    </tr>\n",
              "  </thead>\n",
              "  <tbody>\n",
              "    <tr>\n",
              "      <th>0</th>\n",
              "      <td>26</td>\n",
              "      <td>8/26/1990</td>\n",
              "      <td>8</td>\n",
              "      <td>1990</td>\n",
              "      <td>Tru</td>\n",
              "      <td>Booth</td>\n",
              "      <td>Play</td>\n",
              "      <td>5500</td>\n",
              "      <td>88</td>\n",
              "      <td>134456</td>\n",
              "      <td>0</td>\n",
              "      <td>8</td>\n",
              "    </tr>\n",
              "    <tr>\n",
              "      <th>1</th>\n",
              "      <td>24</td>\n",
              "      <td>3/24/1991</td>\n",
              "      <td>3</td>\n",
              "      <td>1991</td>\n",
              "      <td>Miss Saigon</td>\n",
              "      <td>Broadway</td>\n",
              "      <td>Musical</td>\n",
              "      <td>1737</td>\n",
              "      <td>100</td>\n",
              "      <td>100647</td>\n",
              "      <td>0</td>\n",
              "      <td>0</td>\n",
              "    </tr>\n",
              "    <tr>\n",
              "      <th>2</th>\n",
              "      <td>31</td>\n",
              "      <td>3/31/1991</td>\n",
              "      <td>3</td>\n",
              "      <td>1991</td>\n",
              "      <td>Miss Saigon</td>\n",
              "      <td>Broadway</td>\n",
              "      <td>Musical</td>\n",
              "      <td>12160</td>\n",
              "      <td>100</td>\n",
              "      <td>634424</td>\n",
              "      <td>0</td>\n",
              "      <td>0</td>\n",
              "    </tr>\n",
              "    <tr>\n",
              "      <th>3</th>\n",
              "      <td>7</td>\n",
              "      <td>4/7/1991</td>\n",
              "      <td>4</td>\n",
              "      <td>1991</td>\n",
              "      <td>Miss Saigon</td>\n",
              "      <td>Broadway</td>\n",
              "      <td>Musical</td>\n",
              "      <td>13921</td>\n",
              "      <td>100</td>\n",
              "      <td>713353</td>\n",
              "      <td>0</td>\n",
              "      <td>0</td>\n",
              "    </tr>\n",
              "    <tr>\n",
              "      <th>4</th>\n",
              "      <td>14</td>\n",
              "      <td>4/14/1991</td>\n",
              "      <td>4</td>\n",
              "      <td>1991</td>\n",
              "      <td>Miss Saigon</td>\n",
              "      <td>Broadway</td>\n",
              "      <td>Musical</td>\n",
              "      <td>10973</td>\n",
              "      <td>90</td>\n",
              "      <td>573981</td>\n",
              "      <td>0</td>\n",
              "      <td>4</td>\n",
              "    </tr>\n",
              "    <tr>\n",
              "      <th>5</th>\n",
              "      <td>21</td>\n",
              "      <td>4/21/1991</td>\n",
              "      <td>4</td>\n",
              "      <td>1991</td>\n",
              "      <td>Miss Saigon</td>\n",
              "      <td>Broadway</td>\n",
              "      <td>Musical</td>\n",
              "      <td>14076</td>\n",
              "      <td>101</td>\n",
              "      <td>706793</td>\n",
              "      <td>0</td>\n",
              "      <td>8</td>\n",
              "    </tr>\n",
              "    <tr>\n",
              "      <th>6</th>\n",
              "      <td>28</td>\n",
              "      <td>4/28/1991</td>\n",
              "      <td>4</td>\n",
              "      <td>1991</td>\n",
              "      <td>Miss Saigon</td>\n",
              "      <td>Broadway</td>\n",
              "      <td>Musical</td>\n",
              "      <td>14065</td>\n",
              "      <td>101</td>\n",
              "      <td>714968</td>\n",
              "      <td>0</td>\n",
              "      <td>8</td>\n",
              "    </tr>\n",
              "    <tr>\n",
              "      <th>7</th>\n",
              "      <td>5</td>\n",
              "      <td>5/5/1991</td>\n",
              "      <td>5</td>\n",
              "      <td>1991</td>\n",
              "      <td>Miss Saigon</td>\n",
              "      <td>Broadway</td>\n",
              "      <td>Musical</td>\n",
              "      <td>14064</td>\n",
              "      <td>101</td>\n",
              "      <td>730765</td>\n",
              "      <td>0</td>\n",
              "      <td>8</td>\n",
              "    </tr>\n",
              "    <tr>\n",
              "      <th>8</th>\n",
              "      <td>12</td>\n",
              "      <td>5/12/1991</td>\n",
              "      <td>5</td>\n",
              "      <td>1991</td>\n",
              "      <td>Miss Saigon</td>\n",
              "      <td>Broadway</td>\n",
              "      <td>Musical</td>\n",
              "      <td>13896</td>\n",
              "      <td>100</td>\n",
              "      <td>766713</td>\n",
              "      <td>0</td>\n",
              "      <td>8</td>\n",
              "    </tr>\n",
              "    <tr>\n",
              "      <th>9</th>\n",
              "      <td>19</td>\n",
              "      <td>5/19/1991</td>\n",
              "      <td>5</td>\n",
              "      <td>1991</td>\n",
              "      <td>Miss Saigon</td>\n",
              "      <td>Broadway</td>\n",
              "      <td>Musical</td>\n",
              "      <td>13738</td>\n",
              "      <td>99</td>\n",
              "      <td>763332</td>\n",
              "      <td>0</td>\n",
              "      <td>8</td>\n",
              "    </tr>\n",
              "  </tbody>\n",
              "</table>\n",
              "</div>"
            ],
            "text/plain": [
              "   Day  Date_Full  Month  Year  ... Capacity   Gross Gross Potential  Performance\n",
              "0   26  8/26/1990      8  1990  ...       88  134456               0            8\n",
              "1   24  3/24/1991      3  1991  ...      100  100647               0            0\n",
              "2   31  3/31/1991      3  1991  ...      100  634424               0            0\n",
              "3    7   4/7/1991      4  1991  ...      100  713353               0            0\n",
              "4   14  4/14/1991      4  1991  ...       90  573981               0            4\n",
              "5   21  4/21/1991      4  1991  ...      101  706793               0            8\n",
              "6   28  4/28/1991      4  1991  ...      101  714968               0            8\n",
              "7    5   5/5/1991      5  1991  ...      101  730765               0            8\n",
              "8   12  5/12/1991      5  1991  ...      100  766713               0            8\n",
              "9   19  5/19/1991      5  1991  ...       99  763332               0            8\n",
              "\n",
              "[10 rows x 12 columns]"
            ]
          },
          "metadata": {
            "tags": []
          },
          "execution_count": 4
        }
      ]
    },
    {
      "cell_type": "markdown",
      "metadata": {
        "id": "CxbHYdsr1LMu"
      },
      "source": [
        "Now to use the stripplot and swarmplot functions from seaborn. We based our example off of the [Seaborn blog post](https://datasoups.blogspot.com/2018/10/seaborn-stripswarm-violin-plots.html]) which is also linked above in resources."
      ]
    },
    {
      "cell_type": "markdown",
      "metadata": {
        "id": "JrgEKdGk1-k6"
      },
      "source": [
        "We will first work with the stripplot function and display a strip plot of the gross from each type of show. This means that we will be working with the categorical variable \"Type\" and the numeric/continous variable \"Gross.\" \n",
        "The parameters that we have to pass in to the seaborn.stripplot() function are our x axis, our y axis and our data. "
      ]
    },
    {
      "cell_type": "code",
      "metadata": {
        "colab": {
          "base_uri": "https://localhost:8080/",
          "height": 307
        },
        "id": "hAEdkmUI3wq2",
        "outputId": "b09b9d4e-65c6-4ba7-d231-6f01f36c1b09"
      },
      "source": [
        "sns.stripplot(x='Type', y = 'Gross', data = df)"
      ],
      "execution_count": 5,
      "outputs": [
        {
          "output_type": "execute_result",
          "data": {
            "text/plain": [
              "<matplotlib.axes._subplots.AxesSubplot at 0x7f8c1c6bf690>"
            ]
          },
          "metadata": {
            "tags": []
          },
          "execution_count": 5
        },
        {
          "output_type": "display_data",
          "data": {
            "image/png": "[encoded data removed]",
            "text/plain": [
              "<Figure size 432x288 with 1 Axes>"
            ]
          },
          "metadata": {
            "tags": [],
            "needs_background": "light"
          }
        }
      ]
    },
    {
      "cell_type": "markdown",
      "metadata": {
        "id": "-NHeqrOZ5cDz"
      },
      "source": [
        "####Analysis\r\n",
        "As you can see, the distributions of the gross for each type of show is shown above with the type of show as the x-axis and the gross as the y-axis.\r\n",
        "By comparing the distributions for each type, we can see how the distribution of the gross changes based on which type of show we are looking at. For the plays in the dataset, a large portion had made around 50,000 to 4,000,000 dollars per week. Meanwhile the distribution for a musical is far more spread out, with the majority of shows making 3,000,000 to 8,500,000 dollars per week.\r\n",
        "The special category has only a handful of points compared to the other categories and the distribution is also a lot less unified since there is no clustering of points.\r\n",
        "Swarm plots are very similar in analysis to strip plots since they depict the same types of variables with points."
      ]
    },
    {
      "cell_type": "markdown",
      "metadata": {
        "id": "YDTLiNPKWKvn"
      },
      "source": [
        "####Exercise 1:\n",
        "Draw a comparison of the attendance among the different types of Broadway shows i.e. Play, Musical, Special using a strip plot. And this time, change the radius of the dots to be 3 points wide. Be sure to look at the resources above for hints or syntax help if you need them.\n",
        "\n",
        "\n"
      ]
    },
    {
      "cell_type": "code",
      "metadata": {
        "id": "WiogsUOsXg2M"
      },
      "source": [
        "#Type code here:"
      ],
      "execution_count": 6,
      "outputs": []
    },
    {
      "cell_type": "markdown",
      "metadata": {
        "id": "EmCg8VFP6XTe"
      },
      "source": [
        "Now that we have learned about the strip plot, we can move on to the next distribution plot: the swarm plot.\r\n",
        "The parameters that we need are the exact same as for the stripplot() function. \r\n",
        "* X axis \r\n",
        "* Y axis\r\n",
        "* Data\r\n",
        "\r\n",
        "Are the parameters needed for seaborn.swarmplot(). Now try it yourself with the \"Gross\" and \"Type\" column. "
      ]
    },
    {
      "cell_type": "markdown",
      "metadata": {
        "id": "5KhZaRmId7ji"
      },
      "source": [
        "####Exercise 2:"
      ]
    },
    {
      "cell_type": "code",
      "metadata": {
        "id": "UwUERpN-8EuY"
      },
      "source": [
        "#Type code here: "
      ],
      "execution_count": 7,
      "outputs": []
    },
    {
      "cell_type": "markdown",
      "metadata": {
        "id": "o9ItKo3uYAKb"
      },
      "source": [
        "####Exercise 3:\r\n",
        "Now use a swarm plot for the same data in Exercise 1. What is the visual difference in the data? When would you use this instead of a strip plot?"
      ]
    },
    {
      "cell_type": "code",
      "metadata": {
        "id": "12QB2AEVX_yl"
      },
      "source": [
        "#Type code here:"
      ],
      "execution_count": 8,
      "outputs": []
    },
    {
      "cell_type": "markdown",
      "metadata": {
        "id": "n4JtH6OjXIfI"
      },
      "source": [
        "Type answer to last two questions here:\r\n"
      ]
    },
    {
      "cell_type": "markdown",
      "metadata": {
        "id": "1VBVMskdHbMi"
      },
      "source": [
        "####Exercise 4:\r\n",
        "What is a limitation of using a swarm plot? (Pay attention to the messages given when running your code for the swarm plot exercise)"
      ]
    },
    {
      "cell_type": "markdown",
      "metadata": {
        "id": "ZB97AJxmIPeE"
      },
      "source": [
        "Type your answer here:\r\n"
      ]
    },
    {
      "cell_type": "markdown",
      "metadata": {
        "id": "wKSlDhqRZuaD"
      },
      "source": [
        "\n",
        "\n",
        "##Other Ways of Plotting with Categorical Data\n",
        "####Violin Plots\n",
        "Violin Plots are very closely related to Swarm, Strip and Box plots. They are most useful for visualizing the distribution or kernel density of data. They are also named that way due to their attractiveness and resemblance to a violin. But keep in mind that the distribution estimation procedure is influenced by the sample size, and violins for relatively small samples might look misleadingly smooth. \n",
        "\n",
        "For example if we wanted to visualize how \"Gross\" is distributed across the diferent types of broadway events we would do this: "
      ]
    },
    {
      "cell_type": "code",
      "metadata": {
        "colab": {
          "base_uri": "https://localhost:8080/",
          "height": 307
        },
        "id": "ljeVKhFafQcr",
        "outputId": "f801d4e2-9d0c-4c8a-afa7-f10218ec1a8c"
      },
      "source": [
        "sns.violinplot(x = 'Type', y = 'Gross', data = df )"
      ],
      "execution_count": 9,
      "outputs": [
        {
          "output_type": "execute_result",
          "data": {
            "text/plain": [
              "<matplotlib.axes._subplots.AxesSubplot at 0x7f8c1c1fba90>"
            ]
          },
          "metadata": {
            "tags": []
          },
          "execution_count": 9
        },
        {
          "output_type": "display_data",
          "data": {
            "image/png": "[encoded data removed]",
            "text/plain": [
              "<Figure size 432x288 with 1 Axes>"
            ]
          },
          "metadata": {
            "tags": [],
            "needs_background": "light"
          }
        }
      ]
    },
    {
      "cell_type": "markdown",
      "metadata": {
        "id": "XXRStN7dfay0"
      },
      "source": [
        "####Analysis\n",
        "Source: [How to interpret Violin Plots](https://towardsdatascience.com/violin-plots-explained-fb1d115e023d)\n",
        "\n",
        "One can see that the gross of the Musicals has a median at about 0.7E6 which is much higher than that of the Play or Special events. We can also notice the distribution of the Play data has multiple peaks and that the Special data has one peak at the median (almost normally distributed) sitting within the interquartile range. "
      ]
    },
    {
      "cell_type": "markdown",
      "metadata": {
        "id": "tPE1_xynjqIp"
      },
      "source": [
        "####Exercise 5:\n",
        "Now it's your turn to try to plot a violin plot. Try pick any categorical variable and numerical variable from the dataframe and visualize it. "
      ]
    },
    {
      "cell_type": "code",
      "metadata": {
        "id": "YPXuwuCMjFk7"
      },
      "source": [
        "#Type code here:"
      ],
      "execution_count": 10,
      "outputs": []
    },
    {
      "cell_type": "markdown",
      "metadata": {
        "id": "w7l78nqyfnOM"
      },
      "source": [
        "####Box Plots\n",
        "Another method of visualizing categorical data is using box plots. They offer an alternative to violin or strip/swarm plots with the advantage that you are able to quantify the quartiles of the data distribution (although this can also be done with a violin plot). \n",
        "The function seaborn.boxplot() is used for this. Notice that it takes the same basic parameters as swarmplot() and stripplot()\n"
      ]
    },
    {
      "cell_type": "code",
      "metadata": {
        "colab": {
          "base_uri": "https://localhost:8080/",
          "height": 307
        },
        "id": "57HTIppkfWV1",
        "outputId": "d91f72ce-c52a-409a-edbf-5b6581581ad0"
      },
      "source": [
        "sns.boxplot(x = \"Type\", y = \"Gross\", data = df)"
      ],
      "execution_count": 11,
      "outputs": [
        {
          "output_type": "execute_result",
          "data": {
            "text/plain": [
              "<matplotlib.axes._subplots.AxesSubplot at 0x7f8c1923c950>"
            ]
          },
          "metadata": {
            "tags": []
          },
          "execution_count": 11
        },
        {
          "output_type": "display_data",
          "data": {
            "image/png": "[encoded data removed]",
            "text/plain": [
              "<Figure size 432x288 with 1 Axes>"
            ]
          },
          "metadata": {
            "tags": [],
            "needs_background": "light"
          }
        }
      ]
    },
    {
      "cell_type": "markdown",
      "metadata": {
        "id": "J_RcbbBbj8kR"
      },
      "source": [
        "####Analysis\n",
        "\n",
        "Each plot is formed with 5 main points: the 1st and 3rd quartile points (the outer lines of the box), the median (the middle line), and the minimum and maximum (the outer lines on the plot). The area taken up by the actual box in each plot represents the middle 50% of each type of categorical data, and the middle line is the median of that data. The Musical Type category is the only plot that contains an outlier, as shown by the point below the minimum on the plot. We can see that 50-75% of the Musicals in the data grossed more than the maximum grossing Play, and the minimum grossing Musical grossed more than the maximum grossing Special. This is strong evidence that plays grossed significantly higher than Plays and Specials."
      ]
    },
    {
      "cell_type": "markdown",
      "metadata": {
        "id": "z2rVjuXFj41e"
      },
      "source": [
        "####Exercise 6\n",
        "Try pick any categorical variable and numerical variable from the dataframe and visualize it."
      ]
    },
    {
      "cell_type": "code",
      "metadata": {
        "id": "8t_NNVTZjeeE"
      },
      "source": [
        "#Type code here:"
      ],
      "execution_count": 12,
      "outputs": []
    },
    {
      "cell_type": "markdown",
      "metadata": {
        "id": "CJgWAjsPjWlC"
      },
      "source": [
        "##Conclusion"
      ]
    },
    {
      "cell_type": "markdown",
      "metadata": {
        "id": "icTBngSaCYnP"
      },
      "source": [
        "Strip and swarm plots are useful ways to visualize datasets that have categorical and numeric elements. Similar to histograms, both plots show the frequency of numeric data for each categorical value. Swarm plots help visualize the density of the data by spreading the points evenly out perpendicular to the numeric axis, however they do not scale as easily with larger datasets. If you are trying to represent data with a categorical and numeric element or trying to compare the frequency of numeric values between categorical values, strip and swarm plots are a great and simple tool."
      ]
    }
  ]
}