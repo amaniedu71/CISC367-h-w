{
  "nbformat": 4,
  "nbformat_minor": 0,
  "metadata": {
    "colab": {
      "name": "MyFirstJupyterNotebook.ipynb",
      "provenance": [],
      "authorship_tag": "ABX9TyP/JlJOtQLjU0LPnb8WqmSX",
      "include_colab_link": true
    },
    "kernelspec": {
      "name": "python3",
      "display_name": "Python 3"
    }
  },
  "cells": [
    {
      "cell_type": "markdown",
      "metadata": {
        "id": "view-in-github",
        "colab_type": "text"
      },
      "source": [
        "<a href=\"https://colab.research.google.com/github/amaniedu71/CISC367-h-w/blob/main/MyFirstJupyterNotebook.ipynb\" target=\"_parent\"><img src=\"https://colab.research.google.com/assets/colab-badge.svg\" alt=\"Open In Colab\"/></a>"
      ]
    },
    {
      "cell_type": "markdown",
      "metadata": {
        "id": "x5o-O2u5wImk"
      },
      "source": [
        "#Introduction\n",
        "*Your name here*\n",
        "This notebook performs a very simple analysis of some data about **earthquakes**. This earthquake data originally comes from the United States Geological Survey. The data was downloaded from the CORGIS project, a collection of datasets. More information about the dataset can be found on the [CORGIS site](https://corgis-edu.github.io/corgis/json/earthquakes/).\n",
        "\n",
        "For this analysis, I will explore the following research question: _\"What is the distribution of earthquake magnitudes?\"_ I will answer this question by doing the following:\n",
        "1. Downloading a JSON file of earthquake data\n",
        "2. Printing the first element of the dataset, to learn its structure\n",
        "3. Extracting out the magnitude information from all the earthquakes\n",
        "4. Plotting the distribution of magnitudes\n",
        "5. Discussing the plot and its implications for society"
      ]
    },
    {
      "cell_type": "markdown",
      "metadata": {
        "id": "85HCJlp81czZ"
      },
      "source": [
        "#Downloading Data"
      ]
    },
    {
      "cell_type": "code",
      "metadata": {
        "id": "iV8_58Xvv465"
      },
      "source": [
        "import requests\n",
        "\n",
        "url = \"https://corgis-edu.github.io/corgis/datasets/json/earthquakes/earthquakes.json\"\n",
        "data = requests.get(url).json()"
      ],
      "execution_count": 1,
      "outputs": []
    },
    {
      "cell_type": "markdown",
      "metadata": {
        "id": "yQO_gz6G2BVE"
      },
      "source": [
        "#Previewing the Structure"
      ]
    },
    {
      "cell_type": "code",
      "metadata": {
        "colab": {
          "base_uri": "https://localhost:8080/"
        },
        "id": "w2DVxA9g2EKv",
        "outputId": "37f4bbcb-ca63-46f7-c5fc-453055270ff3"
      },
      "source": [
        "from pprint import pprint \n",
        "# The pretty print (print) module is great for\n",
        "# quickly visualizing structured data!\n",
        "pprint(data[0])"
      ],
      "execution_count": 2,
      "outputs": [
        {
          "output_type": "stream",
          "text": [
            "{'id': 'nc72666881',\n",
            " 'impact': {'gap': 122.0, 'magnitude': 1.43, 'significance': 31},\n",
            " 'location': {'depth': 15.12,\n",
            "              'distance': 0.1034,\n",
            "              'full': '13km E of Livermore, California',\n",
            "              'latitude': 37.6723333,\n",
            "              'longitude': -121.619,\n",
            "              'name': 'California'},\n",
            " 'time': {'day': 27,\n",
            "          'epoch': 1469593183550,\n",
            "          'full': '2016-07-27 00:19:43',\n",
            "          'hour': 0,\n",
            "          'minute': 19,\n",
            "          'month': 7,\n",
            "          'second': 43,\n",
            "          'year': 2016}}\n"
          ],
          "name": "stdout"
        }
      ]
    },
    {
      "cell_type": "markdown",
      "metadata": {
        "id": "qGtodvdc2SKL"
      },
      "source": [
        "#Extract Magnitudes"
      ]
    },
    {
      "cell_type": "code",
      "metadata": {
        "id": "73syJ4b22Pg2"
      },
      "source": [
        "magnitudes = [earthquake['impact']['magnitude']\n",
        "              for earthquake in data]\n"
      ],
      "execution_count": 3,
      "outputs": []
    },
    {
      "cell_type": "markdown",
      "metadata": {
        "id": "_d747amw2jYS"
      },
      "source": [
        "#Plotting Magnitudes"
      ]
    },
    {
      "cell_type": "code",
      "metadata": {
        "colab": {
          "base_uri": "https://localhost:8080/",
          "height": 295
        },
        "id": "XTMnOUNz2mce",
        "outputId": "16cdf94f-1849-475a-edbd-ea289cd10c6c"
      },
      "source": [
        "import matplotlib.pyplot as plt\n",
        "plt.hist(magnitudes)\n",
        "plt.title(\"Distribution of Earthquake Magnitudes\")\n",
        "plt.xlabel(\"Magnitude\")\n",
        "plt.ylabel(\"Number of Earthquakes\")\n",
        "plt.show()"
      ],
      "execution_count": 4,
      "outputs": [
        {
          "output_type": "display_data",
          "data": {
            "image/png": "[encoded data removed]",
            "text/plain": [
              "<Figure size 432x288 with 1 Axes>"
            ]
          },
          "metadata": {
            "tags": [],
            "needs_background": "light"
          }
        }
      ]
    },
    {
      "cell_type": "markdown",
      "metadata": {
        "id": "lp_3dSHa21be"
      },
      "source": [
        "#Discussion\n",
        "\n",
        "The histogram above shows that most earthquakes are not very big, with a magnitude of less than 2. However, some earthquakes are very severe, reaching up to a 7 or 8 for their magnitudes. The dataset collects data from all over the world for about a month, so in general, there are quite a few earthquakes that occur.\n",
        "\n",
        "A number of stakeholders could be interested in these results: \n",
        "* People building houses would want to know whether they need to regularly plan for very strong earthquakes.\n",
        "* Emergency relief effort planners would want to know how often they need to plan for earthquakes in general. \n",
        "* Scientists studying tectonic plate activity could use this to determine if a particular earthquake was unusual. \n",
        "\n",
        "A potential conflict between these stakeholders could be between emergency relief planners and builders; builders might want to conserve stronger materials since strong earthquakes are relatively rare, while relief planners would rather they always use strong materials since earthquakes are so frequent. According to the ethical theory of [Least Harm](http://www.dsef.org/wp-content/uploads/2012/07/EthicalTheories.pdf), which states that decision makers should always attempt to harm the fewest people possible, the builders should just use the stronger materials to minimize the threat to the populace.\n",
        "\n",
        "\n",
        "*I have neither given nor received unauthorized assistance on this assignment.*"
      ]
    }
  ]
}